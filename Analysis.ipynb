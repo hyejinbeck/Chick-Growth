{
 "cells": [
  {
   "cell_type": "markdown",
   "id": "cafa79e9-f248-48dc-b36b-c8be89e3bdb9",
   "metadata": {},
   "source": [
    "---\n",
    "\n",
    "데이터 수치가 복잡하지 않아, 전처리 과정은 생략합니다. \n",
    "\n",
    "---"
   ]
  },
  {
   "cell_type": "markdown",
   "id": "4de2b7ea-4eb1-48c8-bfe4-da83db0b761f",
   "metadata": {},
   "source": [
    "# 1. 몇 마리가 부화했고, 부화율은 얼마나 될까요?  "
   ]
  },
  {
   "cell_type": "code",
   "execution_count": 1,
   "id": "33c320f1-7954-4a6a-916c-97b9539526a4",
   "metadata": {},
   "outputs": [
    {
     "data": {
      "text/html": [
       "<div>\n",
       "<style scoped>\n",
       "    .dataframe tbody tr th:only-of-type {\n",
       "        vertical-align: middle;\n",
       "    }\n",
       "\n",
       "    .dataframe tbody tr th {\n",
       "        vertical-align: top;\n",
       "    }\n",
       "\n",
       "    .dataframe thead th {\n",
       "        text-align: right;\n",
       "    }\n",
       "</style>\n",
       "<table border=\"1\" class=\"dataframe\">\n",
       "  <thead>\n",
       "    <tr style=\"text-align: right;\">\n",
       "      <th></th>\n",
       "      <th>hatchery</th>\n",
       "      <th>chick</th>\n",
       "    </tr>\n",
       "  </thead>\n",
       "  <tbody>\n",
       "    <tr>\n",
       "      <th>0</th>\n",
       "      <td>A</td>\n",
       "      <td>30</td>\n",
       "    </tr>\n",
       "    <tr>\n",
       "      <th>1</th>\n",
       "      <td>B</td>\n",
       "      <td>30</td>\n",
       "    </tr>\n",
       "    <tr>\n",
       "      <th>2</th>\n",
       "      <td>C</td>\n",
       "      <td>29</td>\n",
       "    </tr>\n",
       "    <tr>\n",
       "      <th>3</th>\n",
       "      <td>D</td>\n",
       "      <td>26</td>\n",
       "    </tr>\n",
       "    <tr>\n",
       "      <th>4</th>\n",
       "      <td>E</td>\n",
       "      <td>24</td>\n",
       "    </tr>\n",
       "    <tr>\n",
       "      <th>5</th>\n",
       "      <td>F</td>\n",
       "      <td>28</td>\n",
       "    </tr>\n",
       "    <tr>\n",
       "      <th>6</th>\n",
       "      <td>G</td>\n",
       "      <td>27</td>\n",
       "    </tr>\n",
       "  </tbody>\n",
       "</table>\n",
       "</div>"
      ],
      "text/plain": [
       "  hatchery  chick\n",
       "0        A     30\n",
       "1        B     30\n",
       "2        C     29\n",
       "3        D     26\n",
       "4        E     24\n",
       "5        F     28\n",
       "6        G     27"
      ]
     },
     "execution_count": 1,
     "metadata": {},
     "output_type": "execute_result"
    }
   ],
   "source": [
    "########################## 라이브러리 \n",
    "\n",
    "# !pip install pandas\n",
    "# !pip install --upgrade pip\n",
    "# !pip install numpy\n",
    "import pandas as pd\n",
    "import numpy as np\n",
    "\n",
    "########################## 데이터 불러오기 \n",
    "data_1 = {\n",
    "    'hatchery': ['A', 'B', 'C', 'D', 'E', 'F', 'G'],\n",
    "    'chick': [30, 30, 29, 26, 24, 28, 27],\n",
    "}\n",
    "hat = pd.DataFrame(data_1)\n",
    "########################## 데이터 확인 \n",
    "hat"
   ]
  },
  {
   "cell_type": "code",
   "execution_count": 2,
   "id": "cb86dd19-46d6-4b30-b60f-630ddf40faf5",
   "metadata": {},
   "outputs": [],
   "source": [
    "########################## 컬럼 추가 : 각 hatchery 부화장 당 달걀의 갯수는 30개임\n",
    "# 'eggs' 열 추가\n",
    "hat['eggs'] = [30, 30, 30, 30, 30, 30, 30]"
   ]
  },
  {
   "cell_type": "markdown",
   "id": "3b6b5e1e-9f5f-4ea7-b6c5-054f1bf0036f",
   "metadata": {},
   "source": [
    "**hatchery** : 부화장 수 <br> \n",
    "**eggs** : 처음 준비한 달걀 수 <br>\n",
    "**chick** : 그 중에서 부화한 병아리의 수 "
   ]
  },
  {
   "cell_type": "code",
   "execution_count": 3,
   "id": "da5e474e-601d-4ec5-b0b5-c4d3365e5b69",
   "metadata": {},
   "outputs": [
    {
     "data": {
      "text/html": [
       "<div>\n",
       "<style scoped>\n",
       "    .dataframe tbody tr th:only-of-type {\n",
       "        vertical-align: middle;\n",
       "    }\n",
       "\n",
       "    .dataframe tbody tr th {\n",
       "        vertical-align: top;\n",
       "    }\n",
       "\n",
       "    .dataframe thead th {\n",
       "        text-align: right;\n",
       "    }\n",
       "</style>\n",
       "<table border=\"1\" class=\"dataframe\">\n",
       "  <thead>\n",
       "    <tr style=\"text-align: right;\">\n",
       "      <th></th>\n",
       "      <th>chick</th>\n",
       "      <th>eggs</th>\n",
       "    </tr>\n",
       "  </thead>\n",
       "  <tbody>\n",
       "    <tr>\n",
       "      <th>count</th>\n",
       "      <td>7.000000</td>\n",
       "      <td>7.0</td>\n",
       "    </tr>\n",
       "    <tr>\n",
       "      <th>mean</th>\n",
       "      <td>27.714286</td>\n",
       "      <td>30.0</td>\n",
       "    </tr>\n",
       "    <tr>\n",
       "      <th>std</th>\n",
       "      <td>2.214670</td>\n",
       "      <td>0.0</td>\n",
       "    </tr>\n",
       "    <tr>\n",
       "      <th>min</th>\n",
       "      <td>24.000000</td>\n",
       "      <td>30.0</td>\n",
       "    </tr>\n",
       "    <tr>\n",
       "      <th>25%</th>\n",
       "      <td>26.500000</td>\n",
       "      <td>30.0</td>\n",
       "    </tr>\n",
       "    <tr>\n",
       "      <th>50%</th>\n",
       "      <td>28.000000</td>\n",
       "      <td>30.0</td>\n",
       "    </tr>\n",
       "    <tr>\n",
       "      <th>75%</th>\n",
       "      <td>29.500000</td>\n",
       "      <td>30.0</td>\n",
       "    </tr>\n",
       "    <tr>\n",
       "      <th>max</th>\n",
       "      <td>30.000000</td>\n",
       "      <td>30.0</td>\n",
       "    </tr>\n",
       "  </tbody>\n",
       "</table>\n",
       "</div>"
      ],
      "text/plain": [
       "           chick  eggs\n",
       "count   7.000000   7.0\n",
       "mean   27.714286  30.0\n",
       "std     2.214670   0.0\n",
       "min    24.000000  30.0\n",
       "25%    26.500000  30.0\n",
       "50%    28.000000  30.0\n",
       "75%    29.500000  30.0\n",
       "max    30.000000  30.0"
      ]
     },
     "execution_count": 3,
     "metadata": {},
     "output_type": "execute_result"
    }
   ],
   "source": [
    "########################## 톰계치 구하는 함수 \n",
    "hat.describe()\n",
    "\n",
    "# 1개의 부화장 당 평균 27.7 마리가 부화했다. \n",
    "# 1개의 부화장 당 24마리 ~ 30마리가 부화했다. "
   ]
  },
  {
   "cell_type": "code",
   "execution_count": 4,
   "id": "7cf7a180-b056-4f1f-9a4f-ad2aa72d43b1",
   "metadata": {},
   "outputs": [
    {
     "data": {
      "text/html": [
       "<div>\n",
       "<style scoped>\n",
       "    .dataframe tbody tr th:only-of-type {\n",
       "        vertical-align: middle;\n",
       "    }\n",
       "\n",
       "    .dataframe tbody tr th {\n",
       "        vertical-align: top;\n",
       "    }\n",
       "\n",
       "    .dataframe thead th {\n",
       "        text-align: right;\n",
       "    }\n",
       "</style>\n",
       "<table border=\"1\" class=\"dataframe\">\n",
       "  <thead>\n",
       "    <tr style=\"text-align: right;\">\n",
       "      <th></th>\n",
       "      <th>hatchery</th>\n",
       "      <th>chick</th>\n",
       "      <th>eggs</th>\n",
       "    </tr>\n",
       "  </thead>\n",
       "  <tbody>\n",
       "    <tr>\n",
       "      <th>4</th>\n",
       "      <td>E</td>\n",
       "      <td>24</td>\n",
       "      <td>30</td>\n",
       "    </tr>\n",
       "    <tr>\n",
       "      <th>3</th>\n",
       "      <td>D</td>\n",
       "      <td>26</td>\n",
       "      <td>30</td>\n",
       "    </tr>\n",
       "    <tr>\n",
       "      <th>6</th>\n",
       "      <td>G</td>\n",
       "      <td>27</td>\n",
       "      <td>30</td>\n",
       "    </tr>\n",
       "    <tr>\n",
       "      <th>5</th>\n",
       "      <td>F</td>\n",
       "      <td>28</td>\n",
       "      <td>30</td>\n",
       "    </tr>\n",
       "    <tr>\n",
       "      <th>2</th>\n",
       "      <td>C</td>\n",
       "      <td>29</td>\n",
       "      <td>30</td>\n",
       "    </tr>\n",
       "    <tr>\n",
       "      <th>0</th>\n",
       "      <td>A</td>\n",
       "      <td>30</td>\n",
       "      <td>30</td>\n",
       "    </tr>\n",
       "    <tr>\n",
       "      <th>1</th>\n",
       "      <td>B</td>\n",
       "      <td>30</td>\n",
       "      <td>30</td>\n",
       "    </tr>\n",
       "  </tbody>\n",
       "</table>\n",
       "</div>"
      ],
      "text/plain": [
       "  hatchery  chick  eggs\n",
       "4        E     24    30\n",
       "3        D     26    30\n",
       "6        G     27    30\n",
       "5        F     28    30\n",
       "2        C     29    30\n",
       "0        A     30    30\n",
       "1        B     30    30"
      ]
     },
     "execution_count": 4,
     "metadata": {},
     "output_type": "execute_result"
    }
   ],
   "source": [
    "########################## 부화한 병아리 수 기준으로 정렬 \n",
    "hat.sort_values(by=['chick'],ascending=True)   # 오름차순 \n",
    "\n",
    "#hat.sort_values(by=['chick'],ascending=False) # 내림차순 "
   ]
  },
  {
   "cell_type": "code",
   "execution_count": 5,
   "id": "a5f0b563-f4e3-480d-93dd-81190de3088b",
   "metadata": {},
   "outputs": [
    {
     "data": {
      "image/png": "[encoded data removed]",
      "text/plain": [
       "<Figure size 640x480 with 1 Axes>"
      ]
     },
     "metadata": {},
     "output_type": "display_data"
    }
   ],
   "source": [
    "########################## '부화장'별 '부화한 병아리'갯수 그래프화 \n",
    "#!pip install matplotlib\n",
    "import matplotlib.pyplot as plt\n",
    "########################## bar 차트 \n",
    "plt.bar(hat['hatchery'],hat['chick'])\n",
    "plt.show()"
   ]
  },
  {
   "cell_type": "code",
   "execution_count": 6,
   "id": "0617105b-7e42-4e81-937a-60659123b86a",
   "metadata": {},
   "outputs": [],
   "source": [
    "########################## 그래프 한글폰트 적용 \n",
    "\n",
    "# 불필요한 경고 메시지 무시\n",
    "import warnings\n",
    "warnings.filterwarnings('ignore')\n",
    "\n",
    "# 여기서 Matplotlib 코드를 사용하여 그래프 생성 및 표시\n",
    "%matplotlib inline  \n",
    "\n",
    "# 한글폰트\n",
    "# !sudo apt-get install -y fonts-nanum\n",
    "# !sudo fc-cache -fv\n",
    "# !rm ~/.cache/matplotlib -rf\n",
    "# plt.rc('font', family='NanumBarunGothic')\n",
    "plt.rc('font', family='AppleGothic') #맥 \n",
    "plt.rcParams['axes.unicode_minus'] = False #부호"
   ]
  },
  {
   "cell_type": "code",
   "execution_count": 7,
   "id": "4867c595-1fb2-47af-846a-9f3fc8117e62",
   "metadata": {},
   "outputs": [
    {
     "data": {
      "image/png": "[encoded data removed]",
      "text/plain": [
       "<Figure size 2000x500 with 4 Axes>"
      ]
     },
     "metadata": {},
     "output_type": "display_data"
    }
   ],
   "source": [
    "########################## '부화장'별 '부화한 병아리'갯수 그래프 응용 \n",
    "#!pip install matplotlib\n",
    "#import matplotlib.pyplot as plt\n",
    "\n",
    "########################## 1행 4열 그래프 준비 \n",
    "plt.figure(figsize=(20,5))\n",
    "\n",
    "###  1  ####################### '부화한 병아리'수로 오름차순 정렬 \n",
    "hat_sorted = hat.sort_values(by='chick',ascending=True)\n",
    "\n",
    "plt.subplot(1,4,1) \n",
    "plt.bar(hat_sorted['hatchery'],hat_sorted['chick'])\n",
    "plt.title('1.부화병아리 오름차순 기본 정렬')\n",
    "\n",
    "###  2  ####################### 가장 적은 부화한 병아리 수가 있는 E 양계장 bar 색상만 변경 \n",
    "#colors = ['skyblue' if hatch != 'E' else 'orange' for hatch in hat['hatchery']]\n",
    "colors = ['orange' if h == 'A' else 'hotpink' if h == 'E' else 'skyblue' for h in hat['hatchery']]\n",
    "\n",
    "plt.subplot(1,4,2)\n",
    "plt.bar(hat['hatchery'], hat['chick'], color=colors)\n",
    "plt.title('2. 가장 많은/적은 양계장 bar색상 지정')\n",
    "\n",
    "###  3  ####################### '부화한 병아리'수로 내림차순 정렬 \n",
    "hat_sorted_false = hat.sort_values(by='chick',ascending=False)\n",
    "\n",
    "########### seaborn팔레트 색상 지정 \n",
    "#!pip install seaborn\n",
    "import seaborn as sns\n",
    "col7 = sns.color_palette('tab20c',7)\n",
    "###########\n",
    "plt.subplot(1,4,3)\n",
    "plt.bar(hat_sorted_false['hatchery'],hat_sorted_false['chick'], color = col7 , edgecolor = 'black')\n",
    "plt.title('3. 색상차트이용 내림차순 정렬', fontsize = 8)\n",
    "plt.xlabel('부화장')\n",
    "plt.ylabel('부화한 병아리수')\n",
    "\n",
    "###  4  ####################### 각bar수치값 기재 + 최대값 점선 추가\n",
    "\n",
    "def addtext(x,y): \n",
    "    for i in range(len(x)):   # x(컬럼)에 있는 값 하나하나\n",
    "        plt.text(              # 차트위에 표시할거에요. \n",
    "            i,\n",
    "            y[i] - 1.5,        # x값 하나하나 (i) y수치값 적을 위치 \n",
    "            y[i], \n",
    "            ha = 'center'\n",
    "        )\n",
    "\n",
    "plt.subplot(1,4,4)\n",
    "plt.bar(hat['hatchery'], hat['chick'], color='skyblue')\n",
    "plt.hlines(30,-1,7,colors = 'red',linestyles = 'dashed')    # 최대치 점선 표시 \n",
    "addtext(hat['hatchery'],hat['chick'])                       # 각 수치값 기재 \n",
    "plt.title('4.빨간 점섬으로 최대치 표시')\n",
    "plt.xlabel('부화장')\n",
    "plt.ylabel('부화한 병아리수')\n",
    "\n",
    "plt.show()\n",
    "\n",
    "########################## 4개 모두 동일 내용이지만, 더 나은 그래프 형태를 파악하기 위해 4개로 제작함 "
   ]
  },
  {
   "cell_type": "code",
   "execution_count": 8,
   "id": "af3a32ee-7047-4f3c-8b0f-83c3a69d9e62",
   "metadata": {},
   "outputs": [
    {
     "name": "stdout",
     "output_type": "stream",
     "text": [
      "7 개의 양계장에서 각 30.0개씩, 총 210 개의 알들이 있었습니다.\n",
      "현재까지 총194마리 병아리가 부화하였고, 아직 부화하지 않은 16의 알이 있어, 부화율은 92.4%입니다.\n",
      "가장 많이 부화한 양계장은 ['A' 'B']이고, 30마리가 부화했습니다.\n",
      "가장 적게 부화한 양계장은 ['E']이고, 24마리가 부화했습니다.\n",
      "두 양계장의 차이는 6마리 입니다.\n"
     ]
    }
   ],
   "source": [
    "########################## 총 부화한 마리갯수 파악 \n",
    "hatchery_sum = hat['hatchery'].count()   # 양계장 갯수 \n",
    "eggs_sum = hat['eggs'].sum()             # 알의 갯수 \n",
    "chick_sum = hat['chick'].sum()           # 그 중 부화한 병아리 마리 수\n",
    "not_chick = eggs_sum - chick_sum\n",
    "print(f'{hatchery_sum} 개의 양계장에서 각 {eggs_sum / hatchery_sum}개씩, 총 {eggs_sum} 개의 알들이 있었습니다.')\n",
    "\n",
    "########################## 부화율 파악 \n",
    "# (부화한 병아리 마리수 / 총 알의 갯수) * 100 \n",
    "hatch_rate = ( chick_sum/eggs_sum ) * 100\n",
    "print(f'현재까지 총{chick_sum}마리 병아리가 부화하였고, 아직 부화하지 않은 {not_chick}의 알이 있어, 부화율은 {hatch_rate:.1f}%입니다.')\n",
    "\n",
    "########################## 컬럼 추가 : 각 양계장 별 부화율을 나타냄 \n",
    "hat['hatch_rate'] = (hat['chick'] / hat['eggs']) * 100 \n",
    "hat['hatch_rate'] = hat['hatch_rate'].round(1)            # 소수점 1자리까지만 \n",
    "#hat['hatch_rate'] = hat['hatch_rate'].astype(int)        # 소수점 없이 \n",
    "\n",
    "########################## 최대,최소 마리가 부화한 양계장과 부화한 마리수 \n",
    "max_chick_hats = hat[hat['chick'] == 30]['hatchery'].values \n",
    "max_chick = hat['chick'].max()      # 의 부화한 마리수 \n",
    "\n",
    "# min_hat = hat['hatchery'].min()     # 가장 적게 부화한 양계장 E인데 A로 나옴 \n",
    "min_chick_hat = hat[hat['chick'] == hat['chick'].min()]['hatchery'].values\n",
    "min_chick = hat['chick'].min()      # 의 부화한 마리수\n",
    "\n",
    "print(f'가장 많이 부화한 양계장은 {max_chick_hats}이고, {max_chick}마리가 부화했습니다.')\n",
    "print(f'가장 적게 부화한 양계장은 {min_chick_hat}이고, {min_chick}마리가 부화했습니다.')\n",
    "print(f'두 양계장의 차이는 {max_chick - min_chick}마리 입니다.')"
   ]
  },
  {
   "cell_type": "markdown",
   "id": "e9cb9648-9168-4123-aff6-c8711ef9e333",
   "metadata": {},
   "source": [
    "# 결과 \n",
    "```\n",
    "7 개의 양계장에서 각 30.0개씩, 총 210 개의 알들이 있었습니다.\n",
    "현재까지 총194마리 병아리가 부화하였고, 아직 부화하지 않은 16의 알이 있어, 부화율은 92.4%입니다.\n",
    "가장 많이 부화한 양계장은 ['A' 'B']이고, 30마리가 부화했습니다.\n",
    "가장 적게 부화한 양계장은 ['E']이고, 24마리가 부화했습니다.\n",
    "두 양계장의 차이는 6마리 입니다.\n",
    "```"
   ]
  },
  {
   "cell_type": "markdown",
   "id": "22383769-80ae-461d-80eb-2bf724022daa",
   "metadata": {},
   "source": [
    "---"
   ]
  },
  {
   "cell_type": "markdown",
   "id": "2cdac3a9-2bb6-4c73-bc86-acc30971fce2",
   "metadata": {},
   "source": [
    "# 2. 부화한 병아리들의 몸무게는 얼마일까요? "
   ]
  },
  {
   "cell_type": "code",
   "execution_count": 9,
   "id": "89c8cc86-ad19-469b-a206-6ee75f2f73a5",
   "metadata": {},
   "outputs": [
    {
     "name": "stdout",
     "output_type": "stream",
     "text": [
      "<class 'pandas.core.frame.DataFrame'>\n",
      "RangeIndex: 30 entries, 0 to 29\n",
      "Data columns (total 2 columns):\n",
      " #   Column    Non-Null Count  Dtype \n",
      "---  ------    --------------  ----- \n",
      " 0   chick_nm  30 non-null     object\n",
      " 1   weight    30 non-null     int64 \n",
      "dtypes: int64(1), object(1)\n",
      "memory usage: 608.0+ bytes\n"
     ]
    }
   ],
   "source": [
    "########################## 데이터 불러오기 \n",
    "b_chicks = pd.read_csv('./data/ch4-2.csv')\n",
    "########################## B부화장에서 부화한 30마리 병아리의 번호와 몸무게 \n",
    "b_chicks.info()"
   ]
  },
  {
   "cell_type": "code",
   "execution_count": 144,
   "id": "de3f8f7d-1264-4919-a243-d04229383035",
   "metadata": {},
   "outputs": [
    {
     "data": {
      "text/html": [
       "<div>\n",
       "<style scoped>\n",
       "    .dataframe tbody tr th:only-of-type {\n",
       "        vertical-align: middle;\n",
       "    }\n",
       "\n",
       "    .dataframe tbody tr th {\n",
       "        vertical-align: top;\n",
       "    }\n",
       "\n",
       "    .dataframe thead th {\n",
       "        text-align: right;\n",
       "    }\n",
       "</style>\n",
       "<table border=\"1\" class=\"dataframe\">\n",
       "  <thead>\n",
       "    <tr style=\"text-align: right;\">\n",
       "      <th></th>\n",
       "      <th>chick_nm</th>\n",
       "      <th>weight</th>\n",
       "    </tr>\n",
       "  </thead>\n",
       "  <tbody>\n",
       "    <tr>\n",
       "      <th>0</th>\n",
       "      <td>b01</td>\n",
       "      <td>37</td>\n",
       "    </tr>\n",
       "    <tr>\n",
       "      <th>1</th>\n",
       "      <td>b02</td>\n",
       "      <td>39</td>\n",
       "    </tr>\n",
       "    <tr>\n",
       "      <th>2</th>\n",
       "      <td>b03</td>\n",
       "      <td>41</td>\n",
       "    </tr>\n",
       "    <tr>\n",
       "      <th>3</th>\n",
       "      <td>b04</td>\n",
       "      <td>45</td>\n",
       "    </tr>\n",
       "    <tr>\n",
       "      <th>4</th>\n",
       "      <td>b05</td>\n",
       "      <td>37</td>\n",
       "    </tr>\n",
       "  </tbody>\n",
       "</table>\n",
       "</div>"
      ],
      "text/plain": [
       "  chick_nm  weight\n",
       "0      b01      37\n",
       "1      b02      39\n",
       "2      b03      41\n",
       "3      b04      45\n",
       "4      b05      37"
      ]
     },
     "execution_count": 144,
     "metadata": {},
     "output_type": "execute_result"
    }
   ],
   "source": [
    "b_chicks.head()"
   ]
  },
  {
   "cell_type": "code",
   "execution_count": 10,
   "id": "3292d1c2-f97b-431f-8fb1-098341bd0d34",
   "metadata": {},
   "outputs": [
    {
     "data": {
      "text/html": [
       "<div>\n",
       "<style scoped>\n",
       "    .dataframe tbody tr th:only-of-type {\n",
       "        vertical-align: middle;\n",
       "    }\n",
       "\n",
       "    .dataframe tbody tr th {\n",
       "        vertical-align: top;\n",
       "    }\n",
       "\n",
       "    .dataframe thead th {\n",
       "        text-align: right;\n",
       "    }\n",
       "</style>\n",
       "<table border=\"1\" class=\"dataframe\">\n",
       "  <thead>\n",
       "    <tr style=\"text-align: right;\">\n",
       "      <th></th>\n",
       "      <th>weight</th>\n",
       "    </tr>\n",
       "  </thead>\n",
       "  <tbody>\n",
       "    <tr>\n",
       "      <th>count</th>\n",
       "      <td>30.000000</td>\n",
       "    </tr>\n",
       "    <tr>\n",
       "      <th>mean</th>\n",
       "      <td>38.400000</td>\n",
       "    </tr>\n",
       "    <tr>\n",
       "      <th>std</th>\n",
       "      <td>3.286335</td>\n",
       "    </tr>\n",
       "    <tr>\n",
       "      <th>min</th>\n",
       "      <td>31.000000</td>\n",
       "    </tr>\n",
       "    <tr>\n",
       "      <th>25%</th>\n",
       "      <td>36.250000</td>\n",
       "    </tr>\n",
       "    <tr>\n",
       "      <th>50%</th>\n",
       "      <td>39.000000</td>\n",
       "    </tr>\n",
       "    <tr>\n",
       "      <th>75%</th>\n",
       "      <td>40.750000</td>\n",
       "    </tr>\n",
       "    <tr>\n",
       "      <th>max</th>\n",
       "      <td>45.000000</td>\n",
       "    </tr>\n",
       "  </tbody>\n",
       "</table>\n",
       "</div>"
      ],
      "text/plain": [
       "          weight\n",
       "count  30.000000\n",
       "mean   38.400000\n",
       "std     3.286335\n",
       "min    31.000000\n",
       "25%    36.250000\n",
       "50%    39.000000\n",
       "75%    40.750000\n",
       "max    45.000000"
      ]
     },
     "execution_count": 10,
     "metadata": {},
     "output_type": "execute_result"
    }
   ],
   "source": [
    "b_chicks.describe()    # B부화장에서 부화한 30마리의 몸무게 (통계수치)"
   ]
  },
  {
   "cell_type": "code",
   "execution_count": 143,
   "id": "22086d46-5ec0-4e74-855c-5e1c1f2893a1",
   "metadata": {},
   "outputs": [
    {
     "data": {
      "image/png": "[encoded data removed]",
      "text/plain": [
       "<Figure size 1500x500 with 3 Axes>"
      ]
     },
     "metadata": {},
     "output_type": "display_data"
    }
   ],
   "source": [
    "########################## B 부화장 병아리의 무게 분포도 확인 (표준편차 std : 3.286335)\n",
    "\n",
    "# 평균mean값이 38.4 인데, 서로 너무 많이 차이가 나면 병아리 사육하는데 어려울 수 있으니 확인해봅니다. \n",
    "\n",
    "plt.figure(figsize=(15,5))\n",
    "plt.rcParams['font.size'] = 10\n",
    "\n",
    "########################## 히스토그램으로 분포도 확인 \n",
    "\n",
    "plt.subplot(1,3,1)\n",
    "plt.hist(b_chicks.weight, bins=8)\n",
    "plt.xlabel('병아리 무게(g)')\n",
    "plt.ylabel('병아리 수')\n",
    "plt.title('1. B 부화장 병아리 무게 분포(Histogram)')\n",
    "\n",
    "########################## 상자그림으로 분포도 확인 \n",
    "\n",
    "plt.subplot(1,3,2)\n",
    "plt.boxplot(b_chicks.weight, vert = False)     # vert 박스플롯 모양 가로 (없으면 세로)\n",
    "plt.title('2. B 부화장 병아리 무게 분포(Box Plot)')\n",
    "plt.ylabel('병아리 무게(g)')\n",
    "\n",
    "########################## 커널밀도그림으로 분포도 확인\n",
    "\n",
    "plt.subplot(1,3,3)\n",
    "sns.kdeplot(b_chicks.weight.values)\n",
    "plt.title('3. B 부화장 병아리 무게 (Kernel Density Plot)')\n",
    "\n",
    "plt.show()"
   ]
  },
  {
   "cell_type": "code",
   "execution_count": 12,
   "id": "68e41e52-88f4-47ca-9da7-87d4794e14b3",
   "metadata": {},
   "outputs": [
    {
     "name": "stdout",
     "output_type": "stream",
     "text": [
      "병아리 몸무게 최대값 45g ~ 최소값 31g 입니다.\n",
      "병아리 몸무게 평균값 38.4g이고, 중앙값은 39.0g입니다.\n",
      "잠재적 이상치를 식별할수 있는 기준값으로는, 47.5g 이상값이거나 29.5g 미만값입니다.\n",
      "현재까지는 이상치로 보여지는 값들은 없으며, 정규분포에 가까운 형태로 보여집니다.\n"
     ]
    }
   ],
   "source": [
    "########################## 통계치 변수화  \n",
    "weight = b_chicks['weight'].describe()\n",
    "\n",
    "weight_max = weight['max']\n",
    "weight_min = weight['min']\n",
    "weight_mean = weight['mean']      \n",
    "weight_25 = weight['25%']         # Q1 \n",
    "weight_median = weight['50%']\n",
    "weight_75 = weight['75%']         # Q3 \n",
    "weight_std = weight['std']\n",
    "\n",
    "print(f'병아리 몸무게 최대값 {int(weight_max)}g ~ 최소값 {int(weight_min)}g 입니다.')\n",
    "print(f'병아리 몸무게 평균값 {weight_mean}g이고, 중앙값은 {weight_median}g입니다.')\n",
    "\n",
    "########################## IQR 값 구하기 \n",
    "\n",
    "Q1 = weight_25  # weight['25%']    # b_chicks['weight'].quantile(0.25)\n",
    "Q3 = weight_75  # weight['75%']    # b_chicks['weight'].quantile(0.75)\n",
    "IQR = Q3 - Q1\n",
    "\n",
    "########################## IQR값으로 max값 구하기 (잠재적인 이상치를 식별) \n",
    "# Q3 + ( IQR * 1.5 ) \n",
    "\n",
    "IQR_max = Q3 + (IQR * 1.5)\n",
    "IQR_min = Q1 - (IQR * 1.5)\n",
    "\n",
    "print(f'잠재적 이상치를 식별할수 있는 기준값으로는, {IQR_max}g 이상값이거나 {IQR_min}g 미만값입니다.')\n",
    "print(f'현재까지는 이상치로 보여지는 값들은 없으며, 정규분포에 가까운 형태로 보여집니다.')"
   ]
  },
  {
   "cell_type": "markdown",
   "id": "11d1d676-da21-4859-a009-d413fd324339",
   "metadata": {},
   "source": [
    "# 결과 \n",
    "```\n",
    "병아리 몸무게 최대값 45g ~ 최소값 31g 입니다.\n",
    "병아리 몸무게 평균값 38.4g이고, 중앙값은 39.0g입니다.\n",
    "잠재적 이상치를 식별할수 있는 기준값으로는, 47.5g 이상값이거나 29.5g 미만값입니다.\n",
    "현재까지는 이상치로 보여지는 값들은 없으며, 정규분포에 가까운 형태로 보여집니다.\n",
    "```"
   ]
  },
  {
   "cell_type": "markdown",
   "id": "b27979e9-fe4e-47ab-8aa8-167ec91b68d1",
   "metadata": {},
   "source": [
    "# 3. 사료 제조사별 성능 차이가 있을까요? "
   ]
  },
  {
   "cell_type": "code",
   "execution_count": 13,
   "id": "1976d084-1de5-41fd-8f1b-0920ddc5e702",
   "metadata": {},
   "outputs": [
    {
     "data": {
      "text/html": [
       "<div>\n",
       "<style scoped>\n",
       "    .dataframe tbody tr th:only-of-type {\n",
       "        vertical-align: middle;\n",
       "    }\n",
       "\n",
       "    .dataframe tbody tr th {\n",
       "        vertical-align: top;\n",
       "    }\n",
       "\n",
       "    .dataframe thead th {\n",
       "        text-align: right;\n",
       "    }\n",
       "</style>\n",
       "<table border=\"1\" class=\"dataframe\">\n",
       "  <thead>\n",
       "    <tr style=\"text-align: right;\">\n",
       "      <th></th>\n",
       "      <th>hatchery</th>\n",
       "      <th>chick_nm</th>\n",
       "      <th>weight</th>\n",
       "    </tr>\n",
       "  </thead>\n",
       "  <tbody>\n",
       "    <tr>\n",
       "      <th>0</th>\n",
       "      <td>A</td>\n",
       "      <td>a01</td>\n",
       "      <td>112</td>\n",
       "    </tr>\n",
       "    <tr>\n",
       "      <th>1</th>\n",
       "      <td>A</td>\n",
       "      <td>a05</td>\n",
       "      <td>116</td>\n",
       "    </tr>\n",
       "    <tr>\n",
       "      <th>2</th>\n",
       "      <td>A</td>\n",
       "      <td>a09</td>\n",
       "      <td>106</td>\n",
       "    </tr>\n",
       "    <tr>\n",
       "      <th>3</th>\n",
       "      <td>A</td>\n",
       "      <td>a12</td>\n",
       "      <td>104</td>\n",
       "    </tr>\n",
       "    <tr>\n",
       "      <th>4</th>\n",
       "      <td>A</td>\n",
       "      <td>a15</td>\n",
       "      <td>116</td>\n",
       "    </tr>\n",
       "    <tr>\n",
       "      <th>5</th>\n",
       "      <td>A</td>\n",
       "      <td>a17</td>\n",
       "      <td>118</td>\n",
       "    </tr>\n",
       "    <tr>\n",
       "      <th>6</th>\n",
       "      <td>A</td>\n",
       "      <td>a26</td>\n",
       "      <td>110</td>\n",
       "    </tr>\n",
       "    <tr>\n",
       "      <th>7</th>\n",
       "      <td>A</td>\n",
       "      <td>a28</td>\n",
       "      <td>112</td>\n",
       "    </tr>\n",
       "    <tr>\n",
       "      <th>8</th>\n",
       "      <td>A</td>\n",
       "      <td>a29</td>\n",
       "      <td>106</td>\n",
       "    </tr>\n",
       "    <tr>\n",
       "      <th>9</th>\n",
       "      <td>A</td>\n",
       "      <td>a30</td>\n",
       "      <td>108</td>\n",
       "    </tr>\n",
       "    <tr>\n",
       "      <th>10</th>\n",
       "      <td>B</td>\n",
       "      <td>b01</td>\n",
       "      <td>100</td>\n",
       "    </tr>\n",
       "    <tr>\n",
       "      <th>11</th>\n",
       "      <td>B</td>\n",
       "      <td>b02</td>\n",
       "      <td>110</td>\n",
       "    </tr>\n",
       "    <tr>\n",
       "      <th>12</th>\n",
       "      <td>B</td>\n",
       "      <td>b07</td>\n",
       "      <td>98</td>\n",
       "    </tr>\n",
       "    <tr>\n",
       "      <th>13</th>\n",
       "      <td>B</td>\n",
       "      <td>b11</td>\n",
       "      <td>100</td>\n",
       "    </tr>\n",
       "    <tr>\n",
       "      <th>14</th>\n",
       "      <td>B</td>\n",
       "      <td>b13</td>\n",
       "      <td>104</td>\n",
       "    </tr>\n",
       "    <tr>\n",
       "      <th>15</th>\n",
       "      <td>B</td>\n",
       "      <td>b17</td>\n",
       "      <td>112</td>\n",
       "    </tr>\n",
       "    <tr>\n",
       "      <th>16</th>\n",
       "      <td>B</td>\n",
       "      <td>b22</td>\n",
       "      <td>106</td>\n",
       "    </tr>\n",
       "    <tr>\n",
       "      <th>17</th>\n",
       "      <td>B</td>\n",
       "      <td>b27</td>\n",
       "      <td>106</td>\n",
       "    </tr>\n",
       "    <tr>\n",
       "      <th>18</th>\n",
       "      <td>B</td>\n",
       "      <td>b28</td>\n",
       "      <td>96</td>\n",
       "    </tr>\n",
       "    <tr>\n",
       "      <th>19</th>\n",
       "      <td>B</td>\n",
       "      <td>b30</td>\n",
       "      <td>110</td>\n",
       "    </tr>\n",
       "  </tbody>\n",
       "</table>\n",
       "</div>"
      ],
      "text/plain": [
       "   hatchery chick_nm  weight\n",
       "0         A      a01     112\n",
       "1         A      a05     116\n",
       "2         A      a09     106\n",
       "3         A      a12     104\n",
       "4         A      a15     116\n",
       "5         A      a17     118\n",
       "6         A      a26     110\n",
       "7         A      a28     112\n",
       "8         A      a29     106\n",
       "9         A      a30     108\n",
       "10        B      b01     100\n",
       "11        B      b02     110\n",
       "12        B      b07      98\n",
       "13        B      b11     100\n",
       "14        B      b13     104\n",
       "15        B      b17     112\n",
       "16        B      b22     106\n",
       "17        B      b27     106\n",
       "18        B      b28      96\n",
       "19        B      b30     110"
      ]
     },
     "execution_count": 13,
     "metadata": {},
     "output_type": "execute_result"
    }
   ],
   "source": [
    "########################## 데이터 불러오기 \n",
    "test = pd.read_csv('./data/ch4-3.csv')\n",
    "########################## 부화된지 5일 지난, 각 부화장에서의 병아리들의 몸무게 데이터 비교 \n",
    "test"
   ]
  },
  {
   "cell_type": "code",
   "execution_count": 14,
   "id": "326230f6-8c0b-4d8e-bcbe-f76ed8783a73",
   "metadata": {},
   "outputs": [
    {
     "data": {
      "image/png": "[encoded data removed]",
      "text/plain": [
       "<Figure size 500x500 with 1 Axes>"
      ]
     },
     "metadata": {},
     "output_type": "display_data"
    }
   ],
   "source": [
    "########################## 두 집단 분포 비교를 위해 boxplot 시각화 \n",
    "\n",
    "plt.figure(figsize=(5,5))\n",
    "\n",
    "########## plt.boxplot(data = test , x ='hatchery',y='weight')    이 방식의 boxplot은 sns이다. \n",
    "\n",
    "sns.boxplot(data = test ,  x='hatchery',y='weight')\n",
    "\n",
    "plt.title('A,B 두 부화장의 병아리 몸무게 분포 비교')\n",
    "plt.show()"
   ]
  },
  {
   "cell_type": "markdown",
   "id": "e87bb743-20ca-4438-b8c9-1f7adb09d46f",
   "metadata": {},
   "source": [
    "A 부화장 병아리들 몸무게가 좀 더 높게 분포하고 있으므로, 두 부화장의 몸무게 평균이 다르다는 것이 확인되었습니다. \n",
    "\n",
    "### 다른 방식인, 가설검증을 통해 두 부화장 병아리들의 몸무게 평균이 같은지 다른지 알아보겠습니다. \n",
    "\n",
    "<br>\n",
    "\n",
    "**순서1** 정규분포를 따르는지 p-value값 확인\n",
    "- 귀무가설 H0 : 두 부화장의 병아리들의 몸무게 평균은 유사하다.\n",
    "- 대립가설 H1 : 두 부화장의 병아리들의 몸무게 평균은 다르다.\n",
    "\n",
    "**순서2** 두 부화장의 병아리 몸무게 평균이 같은지 다른지 검정 "
   ]
  },
  {
   "cell_type": "code",
   "execution_count": 17,
   "id": "384ca3ac-3642-4670-b113-091aafd5d04e",
   "metadata": {},
   "outputs": [],
   "source": [
    "########################## 가설검증\n",
    "import scipy as sp\n",
    "########################## 부화장 A와 B의 각각 몸무게 데이터셋 \n",
    "test_a = test.loc[test.hatchery == 'A', 'weight']\n",
    "test_b = test.loc[test.hatchery == 'B', 'weight']"
   ]
  },
  {
   "cell_type": "code",
   "execution_count": 18,
   "id": "19cb4803-7976-4e38-9951-2470b2d1f170",
   "metadata": {},
   "outputs": [
    {
     "data": {
      "text/plain": [
       "ShapiroResult(statistic=0.9400018453598022, pvalue=0.5530334711074829)"
      ]
     },
     "execution_count": 18,
     "metadata": {},
     "output_type": "execute_result"
    }
   ],
   "source": [
    "########################## 샤피로-윌크 검정 (정규분포 따르는지 확인) \n",
    "sp.stats.shapiro(test_a)"
   ]
  },
  {
   "cell_type": "code",
   "execution_count": 19,
   "id": "b04ed781-22a7-46f1-a2b4-62e95559aded",
   "metadata": {},
   "outputs": [
    {
     "data": {
      "text/plain": [
       "ShapiroResult(statistic=0.9390683770179749, pvalue=0.5426943302154541)"
      ]
     },
     "execution_count": 19,
     "metadata": {},
     "output_type": "execute_result"
    }
   ],
   "source": [
    "########################## 샤피로-윌크 검정 (정규분포 따르는지 확인) \n",
    "sp.stats.shapiro(test_b)"
   ]
  },
  {
   "cell_type": "markdown",
   "id": "03f210b4-b819-4cd8-a966-e74f6272a4d8",
   "metadata": {},
   "source": [
    "귀무가설 : 두 부화장의 병아리들의 몸무게 평균은 유사하다 <br>\n",
    "p-value값 : 0.5530<br>\n",
    "대립가설 : 두 부화장의 병아리들의 몸무게 평균은 다르다 <br>\n",
    "p-value값 : 0.5427<br><br>\n",
    "둘 다 신뢰수준을 95% 로 설정할 때의 유의수준인 0.05보다 크기 때문에,**귀무가설을 채택**합니다. <br>\n",
    "test_a와 test_b 데이터 셋 모두 **정규분포** 합니다. "
   ]
  },
  {
   "cell_type": "markdown",
   "id": "095ad70a-b014-4dcb-9eec-3a25cc7250f9",
   "metadata": {},
   "source": [
    "---\n",
    "\n",
    "**여기서 잠깐!**\n",
    "\n",
    "- 신뢰수준(1-a) : 통계에서 어떤 값이 알맞은 추정값이라고 믿을 수 있는 정도를 뜻한다. 주로 95%를 사용하며 신뢰도라고도 부른다.\n",
    "- 유의수준(a) : 통계적인 가설검정에서 사용되는 기준값\n",
    "- 유의확률(p-value) : 귀무가설이 맞다고 가정할 때 얻은 결과보다, 극단적인 결과가 실제로 관측될 확률을 말한다.<br>\n",
    "p값이 유의수준보다 작으면 귀무가설을 기각하고 대립가설을 채택하며, 반대일 경우에는 귀무가설을 채택합니다.\n",
    "---"
   ]
  },
  {
   "cell_type": "code",
   "execution_count": 20,
   "id": "74e978c6-36a2-487b-8e64-4e3c524c9072",
   "metadata": {},
   "outputs": [
    {
     "data": {
      "text/plain": [
       "TtestResult(statistic=2.842528280230058, pvalue=0.010803990633924202, df=18.0)"
      ]
     },
     "execution_count": 20,
     "metadata": {},
     "output_type": "execute_result"
    }
   ],
   "source": [
    "########################## 부화장 A,B의 각 평균 검정 \n",
    "sp.stats.ttest_ind(test_a, test_b)"
   ]
  },
  {
   "cell_type": "markdown",
   "id": "0632b59d-a552-4384-8eaa-8cba88e391d7",
   "metadata": {},
   "source": [
    "# 결과 \n",
    "#### 1. 정규분포 여부 확인\n",
    "```\n",
    "귀무가설 : 두 부화장의 병아리들의 몸무게 평균은 유사하다 <br>\n",
    "p-value값 : 0.5530<br>\n",
    "대립가설 : 두 부화장의 병아리들의 몸무게 평균은 다르다 <br>\n",
    "p-value값 : 0.5427<br><br>\n",
    "둘 다 신뢰수준을 95% 로 설정할 때의 유의수준인 0.05보다 크기 때문에,**귀무가설을 채택**합니다. <br>\n",
    "test_a와 test_b 데이터 셋 모두 **정규분포** 합니다. \n",
    "```\n",
    "#### 2. 평균이 A,B 같은지 다른지 검정하기\n",
    "```\n",
    "귀무가설 : 두 부화장의 병아리들의 몸무게 평균은 유사하다. <br>\n",
    "p-value값 : 0.0108 \n",
    "\n",
    "p-value값이 0.05보다 작기 때문에, 95% 신뢰수준에서 **대립가설을 채택**합니다. <br>\n",
    "대립가설 : **두 부화장의 병아리들의 몸무게 평균은 다르다**\n",
    "```\n",
    "[참고]<br>\n",
    "만약 신뢰수준을 99%라고 설정했다면, p-value가 0.01보다 크기 때문에 귀무가설을 채택합니다."
   ]
  },
  {
   "cell_type": "markdown",
   "id": "f49dee98-e396-48b2-b156-3a82ab377cdc",
   "metadata": {},
   "source": [
    "# 4. 병아리 성장에 영향을 미치는 요소는 무엇일까요? "
   ]
  },
  {
   "cell_type": "code",
   "execution_count": 24,
   "id": "f89e1951-0607-4166-b765-9ba1b7eb9072",
   "metadata": {},
   "outputs": [
    {
     "data": {
      "text/html": [
       "<div>\n",
       "<style scoped>\n",
       "    .dataframe tbody tr th:only-of-type {\n",
       "        vertical-align: middle;\n",
       "    }\n",
       "\n",
       "    .dataframe tbody tr th {\n",
       "        vertical-align: top;\n",
       "    }\n",
       "\n",
       "    .dataframe thead th {\n",
       "        text-align: right;\n",
       "    }\n",
       "</style>\n",
       "<table border=\"1\" class=\"dataframe\">\n",
       "  <thead>\n",
       "    <tr style=\"text-align: right;\">\n",
       "      <th></th>\n",
       "      <th>chick_nm</th>\n",
       "      <th>weight</th>\n",
       "      <th>egg_weight</th>\n",
       "      <th>movement</th>\n",
       "      <th>food</th>\n",
       "    </tr>\n",
       "  </thead>\n",
       "  <tbody>\n",
       "    <tr>\n",
       "      <th>0</th>\n",
       "      <td>a01</td>\n",
       "      <td>140</td>\n",
       "      <td>65</td>\n",
       "      <td>146</td>\n",
       "      <td>14</td>\n",
       "    </tr>\n",
       "    <tr>\n",
       "      <th>1</th>\n",
       "      <td>a02</td>\n",
       "      <td>128</td>\n",
       "      <td>62</td>\n",
       "      <td>153</td>\n",
       "      <td>12</td>\n",
       "    </tr>\n",
       "    <tr>\n",
       "      <th>2</th>\n",
       "      <td>a03</td>\n",
       "      <td>140</td>\n",
       "      <td>65</td>\n",
       "      <td>118</td>\n",
       "      <td>13</td>\n",
       "    </tr>\n",
       "    <tr>\n",
       "      <th>3</th>\n",
       "      <td>a04</td>\n",
       "      <td>135</td>\n",
       "      <td>65</td>\n",
       "      <td>157</td>\n",
       "      <td>13</td>\n",
       "    </tr>\n",
       "    <tr>\n",
       "      <th>4</th>\n",
       "      <td>a05</td>\n",
       "      <td>145</td>\n",
       "      <td>69</td>\n",
       "      <td>157</td>\n",
       "      <td>13</td>\n",
       "    </tr>\n",
       "  </tbody>\n",
       "</table>\n",
       "</div>"
      ],
      "text/plain": [
       "  chick_nm  weight  egg_weight  movement  food\n",
       "0      a01     140          65       146    14\n",
       "1      a02     128          62       153    12\n",
       "2      a03     140          65       118    13\n",
       "3      a04     135          65       157    13\n",
       "4      a05     145          69       157    13"
      ]
     },
     "execution_count": 24,
     "metadata": {},
     "output_type": "execute_result"
    }
   ],
   "source": [
    "########################## 데이터 불러오기 \n",
    "w = pd.read_csv('./data/ch5-1.csv')\n",
    "########################## 부화한지 1주일된 병아리의 데이터\n",
    "w.head()"
   ]
  },
  {
   "cell_type": "markdown",
   "id": "60636ec8-f0b5-4b41-988a-1005ca794970",
   "metadata": {},
   "source": [
    "- weight : 병아리 몸무게\n",
    "- egg_weight : 종란 몸무게\n",
    "- movement : 하루 평균 이동거리\n",
    "- food : 하루 평균 사료 섭취량 "
   ]
  },
  {
   "cell_type": "code",
   "execution_count": 25,
   "id": "eeb4a726-075d-417a-8058-1237e0f00bb6",
   "metadata": {},
   "outputs": [
    {
     "name": "stdout",
     "output_type": "stream",
     "text": [
      "<class 'pandas.core.frame.DataFrame'>\n",
      "RangeIndex: 30 entries, 0 to 29\n",
      "Data columns (total 5 columns):\n",
      " #   Column      Non-Null Count  Dtype \n",
      "---  ------      --------------  ----- \n",
      " 0   chick_nm    30 non-null     object\n",
      " 1   weight      30 non-null     int64 \n",
      " 2   egg_weight  30 non-null     int64 \n",
      " 3   movement    30 non-null     int64 \n",
      " 4   food        30 non-null     int64 \n",
      "dtypes: int64(4), object(1)\n",
      "memory usage: 1.3+ KB\n"
     ]
    }
   ],
   "source": [
    "w.info()"
   ]
  },
  {
   "cell_type": "code",
   "execution_count": 33,
   "id": "eb90def4-1dc4-401e-9f96-f592497b661a",
   "metadata": {},
   "outputs": [
    {
     "data": {
      "text/html": [
       "<div>\n",
       "<style scoped>\n",
       "    .dataframe tbody tr th:only-of-type {\n",
       "        vertical-align: middle;\n",
       "    }\n",
       "\n",
       "    .dataframe tbody tr th {\n",
       "        vertical-align: top;\n",
       "    }\n",
       "\n",
       "    .dataframe thead th {\n",
       "        text-align: right;\n",
       "    }\n",
       "</style>\n",
       "<table border=\"1\" class=\"dataframe\">\n",
       "  <thead>\n",
       "    <tr style=\"text-align: right;\">\n",
       "      <th></th>\n",
       "      <th>weight</th>\n",
       "      <th>egg_weight</th>\n",
       "      <th>movement</th>\n",
       "      <th>food</th>\n",
       "    </tr>\n",
       "  </thead>\n",
       "  <tbody>\n",
       "    <tr>\n",
       "      <th>0</th>\n",
       "      <td>140</td>\n",
       "      <td>65</td>\n",
       "      <td>146</td>\n",
       "      <td>14</td>\n",
       "    </tr>\n",
       "    <tr>\n",
       "      <th>1</th>\n",
       "      <td>128</td>\n",
       "      <td>62</td>\n",
       "      <td>153</td>\n",
       "      <td>12</td>\n",
       "    </tr>\n",
       "    <tr>\n",
       "      <th>2</th>\n",
       "      <td>140</td>\n",
       "      <td>65</td>\n",
       "      <td>118</td>\n",
       "      <td>13</td>\n",
       "    </tr>\n",
       "    <tr>\n",
       "      <th>3</th>\n",
       "      <td>135</td>\n",
       "      <td>65</td>\n",
       "      <td>157</td>\n",
       "      <td>13</td>\n",
       "    </tr>\n",
       "    <tr>\n",
       "      <th>4</th>\n",
       "      <td>145</td>\n",
       "      <td>69</td>\n",
       "      <td>157</td>\n",
       "      <td>13</td>\n",
       "    </tr>\n",
       "  </tbody>\n",
       "</table>\n",
       "</div>"
      ],
      "text/plain": [
       "   weight  egg_weight  movement  food\n",
       "0     140          65       146    14\n",
       "1     128          62       153    12\n",
       "2     140          65       118    13\n",
       "3     135          65       157    13\n",
       "4     145          69       157    13"
      ]
     },
     "execution_count": 33,
     "metadata": {},
     "output_type": "execute_result"
    }
   ],
   "source": [
    "########################## 상관분석 위한 별도 데이터셋 방법 1 \n",
    "w_n = w.iloc[:,1:5]        # 행 rows 선택 , 열 columns 선택 \n",
    "########################## object열인 chick_nm 열 제외하고 모든 행 \n",
    "w_n.head()"
   ]
  },
  {
   "cell_type": "code",
   "execution_count": 42,
   "id": "115f4b02-a963-4b56-bc1d-d4b1232afdb5",
   "metadata": {},
   "outputs": [
    {
     "data": {
      "text/html": [
       "<div>\n",
       "<style scoped>\n",
       "    .dataframe tbody tr th:only-of-type {\n",
       "        vertical-align: middle;\n",
       "    }\n",
       "\n",
       "    .dataframe tbody tr th {\n",
       "        vertical-align: top;\n",
       "    }\n",
       "\n",
       "    .dataframe thead th {\n",
       "        text-align: right;\n",
       "    }\n",
       "</style>\n",
       "<table border=\"1\" class=\"dataframe\">\n",
       "  <thead>\n",
       "    <tr style=\"text-align: right;\">\n",
       "      <th></th>\n",
       "      <th>weight</th>\n",
       "      <th>egg_weight</th>\n",
       "      <th>movement</th>\n",
       "      <th>food</th>\n",
       "    </tr>\n",
       "  </thead>\n",
       "  <tbody>\n",
       "    <tr>\n",
       "      <th>weight</th>\n",
       "      <td>1.000000</td>\n",
       "      <td>0.957169</td>\n",
       "      <td>0.380719</td>\n",
       "      <td>0.877574</td>\n",
       "    </tr>\n",
       "    <tr>\n",
       "      <th>egg_weight</th>\n",
       "      <td>0.957169</td>\n",
       "      <td>1.000000</td>\n",
       "      <td>0.428246</td>\n",
       "      <td>0.808147</td>\n",
       "    </tr>\n",
       "    <tr>\n",
       "      <th>movement</th>\n",
       "      <td>0.380719</td>\n",
       "      <td>0.428246</td>\n",
       "      <td>1.000000</td>\n",
       "      <td>0.319011</td>\n",
       "    </tr>\n",
       "    <tr>\n",
       "      <th>food</th>\n",
       "      <td>0.877574</td>\n",
       "      <td>0.808147</td>\n",
       "      <td>0.319011</td>\n",
       "      <td>1.000000</td>\n",
       "    </tr>\n",
       "  </tbody>\n",
       "</table>\n",
       "</div>"
      ],
      "text/plain": [
       "              weight  egg_weight  movement      food\n",
       "weight      1.000000    0.957169  0.380719  0.877574\n",
       "egg_weight  0.957169    1.000000  0.428246  0.808147\n",
       "movement    0.380719    0.428246  1.000000  0.319011\n",
       "food        0.877574    0.808147  0.319011  1.000000"
      ]
     },
     "execution_count": 42,
     "metadata": {},
     "output_type": "execute_result"
    }
   ],
   "source": [
    "########################## 피어슨 상관분석 실시 \n",
    "w_pearson = w_n.corr(method = 'pearson') \n",
    "w_pearson"
   ]
  },
  {
   "cell_type": "code",
   "execution_count": 35,
   "id": "645763c5-a402-4d51-9b29-37b8563f31b1",
   "metadata": {},
   "outputs": [
    {
     "data": {
      "text/html": [
       "<div>\n",
       "<style scoped>\n",
       "    .dataframe tbody tr th:only-of-type {\n",
       "        vertical-align: middle;\n",
       "    }\n",
       "\n",
       "    .dataframe tbody tr th {\n",
       "        vertical-align: top;\n",
       "    }\n",
       "\n",
       "    .dataframe thead th {\n",
       "        text-align: right;\n",
       "    }\n",
       "</style>\n",
       "<table border=\"1\" class=\"dataframe\">\n",
       "  <thead>\n",
       "    <tr style=\"text-align: right;\">\n",
       "      <th></th>\n",
       "      <th>weight</th>\n",
       "      <th>egg_weight</th>\n",
       "      <th>movement</th>\n",
       "      <th>food</th>\n",
       "    </tr>\n",
       "  </thead>\n",
       "  <tbody>\n",
       "    <tr>\n",
       "      <th>weight</th>\n",
       "      <td>1.000000</td>\n",
       "      <td>0.957169</td>\n",
       "      <td>0.380719</td>\n",
       "      <td>0.877574</td>\n",
       "    </tr>\n",
       "    <tr>\n",
       "      <th>egg_weight</th>\n",
       "      <td>0.957169</td>\n",
       "      <td>1.000000</td>\n",
       "      <td>0.428246</td>\n",
       "      <td>0.808147</td>\n",
       "    </tr>\n",
       "    <tr>\n",
       "      <th>movement</th>\n",
       "      <td>0.380719</td>\n",
       "      <td>0.428246</td>\n",
       "      <td>1.000000</td>\n",
       "      <td>0.319011</td>\n",
       "    </tr>\n",
       "    <tr>\n",
       "      <th>food</th>\n",
       "      <td>0.877574</td>\n",
       "      <td>0.808147</td>\n",
       "      <td>0.319011</td>\n",
       "      <td>1.000000</td>\n",
       "    </tr>\n",
       "  </tbody>\n",
       "</table>\n",
       "</div>"
      ],
      "text/plain": [
       "              weight  egg_weight  movement      food\n",
       "weight      1.000000    0.957169  0.380719  0.877574\n",
       "egg_weight  0.957169    1.000000  0.428246  0.808147\n",
       "movement    0.380719    0.428246  1.000000  0.319011\n",
       "food        0.877574    0.808147  0.319011  1.000000"
      ]
     },
     "execution_count": 35,
     "metadata": {},
     "output_type": "execute_result"
    }
   ],
   "source": [
    "########################## 상관분석 위한 별도 데이터셋 방법 2 \n",
    "numeric_columns = w.select_dtypes(include=['int64', 'float64'])  # 피어슨 방식 \n",
    "########################## 숫자열만 추출하여 진행 \n",
    "corr = numeric_columns.corr()\n",
    "corr"
   ]
  },
  {
   "cell_type": "markdown",
   "id": "8bab7938-0ce7-4fbe-94d5-1980f43dc2ec",
   "metadata": {},
   "source": [
    "1.0 에 가까울 수록, 병아리몸무게 weight의 큰 양의 상관계수를 나타내며<br>\n",
    "-0.0 에 가까울 수록, 병아리몸무게 weight의 큰 음의 상관계수를 나타낸다.<br>\n",
    "\n",
    "0.0에 가까울 수록 약한 상관관계를 가지고 있기 때문에 무시한다. \n",
    "\n",
    "[참고] 상관계수를 구하는 방식에는 Pearson, Spearman, Kendall 3가지 방법이 존재한다."
   ]
  },
  {
   "cell_type": "code",
   "execution_count": 36,
   "id": "b8267d2e-e83d-4d0a-be53-863b9c190327",
   "metadata": {},
   "outputs": [
    {
     "data": {
      "text/html": [
       "<div>\n",
       "<style scoped>\n",
       "    .dataframe tbody tr th:only-of-type {\n",
       "        vertical-align: middle;\n",
       "    }\n",
       "\n",
       "    .dataframe tbody tr th {\n",
       "        vertical-align: top;\n",
       "    }\n",
       "\n",
       "    .dataframe thead th {\n",
       "        text-align: right;\n",
       "    }\n",
       "</style>\n",
       "<table border=\"1\" class=\"dataframe\">\n",
       "  <thead>\n",
       "    <tr style=\"text-align: right;\">\n",
       "      <th></th>\n",
       "      <th>weight</th>\n",
       "      <th>egg_weight</th>\n",
       "      <th>movement</th>\n",
       "      <th>food</th>\n",
       "    </tr>\n",
       "  </thead>\n",
       "  <tbody>\n",
       "    <tr>\n",
       "      <th>weight</th>\n",
       "      <td>1.000000</td>\n",
       "      <td>0.962815</td>\n",
       "      <td>0.372809</td>\n",
       "      <td>0.899095</td>\n",
       "    </tr>\n",
       "    <tr>\n",
       "      <th>egg_weight</th>\n",
       "      <td>0.962815</td>\n",
       "      <td>1.000000</td>\n",
       "      <td>0.442330</td>\n",
       "      <td>0.828661</td>\n",
       "    </tr>\n",
       "    <tr>\n",
       "      <th>movement</th>\n",
       "      <td>0.372809</td>\n",
       "      <td>0.442330</td>\n",
       "      <td>1.000000</td>\n",
       "      <td>0.353778</td>\n",
       "    </tr>\n",
       "    <tr>\n",
       "      <th>food</th>\n",
       "      <td>0.899095</td>\n",
       "      <td>0.828661</td>\n",
       "      <td>0.353778</td>\n",
       "      <td>1.000000</td>\n",
       "    </tr>\n",
       "  </tbody>\n",
       "</table>\n",
       "</div>"
      ],
      "text/plain": [
       "              weight  egg_weight  movement      food\n",
       "weight      1.000000    0.962815  0.372809  0.899095\n",
       "egg_weight  0.962815    1.000000  0.442330  0.828661\n",
       "movement    0.372809    0.442330  1.000000  0.353778\n",
       "food        0.899095    0.828661  0.353778  1.000000"
      ]
     },
     "execution_count": 36,
     "metadata": {},
     "output_type": "execute_result"
    }
   ],
   "source": [
    "########################## 스피어만 상관계수 (학습용) \n",
    "w_spearman = w_n.corr(method = 'spearman') \n",
    "w_spearman"
   ]
  },
  {
   "cell_type": "code",
   "execution_count": 40,
   "id": "1c658ca5-a441-4c6e-9c25-17326c685068",
   "metadata": {},
   "outputs": [
    {
     "data": {
      "text/html": [
       "<div>\n",
       "<style scoped>\n",
       "    .dataframe tbody tr th:only-of-type {\n",
       "        vertical-align: middle;\n",
       "    }\n",
       "\n",
       "    .dataframe tbody tr th {\n",
       "        vertical-align: top;\n",
       "    }\n",
       "\n",
       "    .dataframe thead th {\n",
       "        text-align: right;\n",
       "    }\n",
       "</style>\n",
       "<table border=\"1\" class=\"dataframe\">\n",
       "  <thead>\n",
       "    <tr style=\"text-align: right;\">\n",
       "      <th></th>\n",
       "      <th>weight</th>\n",
       "      <th>egg_weight</th>\n",
       "      <th>movement</th>\n",
       "      <th>food</th>\n",
       "    </tr>\n",
       "  </thead>\n",
       "  <tbody>\n",
       "    <tr>\n",
       "      <th>weight</th>\n",
       "      <td>1.000000</td>\n",
       "      <td>0.891004</td>\n",
       "      <td>0.276622</td>\n",
       "      <td>0.796195</td>\n",
       "    </tr>\n",
       "    <tr>\n",
       "      <th>egg_weight</th>\n",
       "      <td>0.891004</td>\n",
       "      <td>1.000000</td>\n",
       "      <td>0.315861</td>\n",
       "      <td>0.712230</td>\n",
       "    </tr>\n",
       "    <tr>\n",
       "      <th>movement</th>\n",
       "      <td>0.276622</td>\n",
       "      <td>0.315861</td>\n",
       "      <td>1.000000</td>\n",
       "      <td>0.266338</td>\n",
       "    </tr>\n",
       "    <tr>\n",
       "      <th>food</th>\n",
       "      <td>0.796195</td>\n",
       "      <td>0.712230</td>\n",
       "      <td>0.266338</td>\n",
       "      <td>1.000000</td>\n",
       "    </tr>\n",
       "  </tbody>\n",
       "</table>\n",
       "</div>"
      ],
      "text/plain": [
       "              weight  egg_weight  movement      food\n",
       "weight      1.000000    0.891004  0.276622  0.796195\n",
       "egg_weight  0.891004    1.000000  0.315861  0.712230\n",
       "movement    0.276622    0.315861  1.000000  0.266338\n",
       "food        0.796195    0.712230  0.266338  1.000000"
      ]
     },
     "execution_count": 40,
     "metadata": {},
     "output_type": "execute_result"
    }
   ],
   "source": [
    "########################## \b켄달 상관계수 (학습용) \n",
    "w_kendall = w_n.corr(method='kendall')\n",
    "w_kendall"
   ]
  },
  {
   "cell_type": "markdown",
   "id": "13bb8439-90db-49d1-af52-5cc9811ddca4",
   "metadata": {},
   "source": [
    "'pearson' 방식: Pearson 상관 계수를 사용하여 열 간의 **선형 상관 관계**를 계산합니다.<br>\n",
    "'spearman' 방식: Spearman 순위 상관 계수를 사용하여 열 간의 **비선형 관계 및 순위 기반 상관 관계**를 계산합니다.<br>\n",
    "'kendall' 방식: Kendall 순위 상관 계수를 사용하여 열 간의 **비선형 관계 및 순위 기반 상관 관계**를 계산합니다.<br>"
   ]
  },
  {
   "cell_type": "code",
   "execution_count": 65,
   "id": "de9107db-ab40-4956-a75c-d59b9ad23483",
   "metadata": {},
   "outputs": [
    {
     "data": {
      "text/plain": [
       "<seaborn.axisgrid.PairGrid at 0x289226d70>"
      ]
     },
     "execution_count": 65,
     "metadata": {},
     "output_type": "execute_result"
    },
    {
     "data": {
      "image/png": "[encoded data removed]",
      "text/plain": [
       "<Figure size 1000x1000 with 20 Axes>"
      ]
     },
     "metadata": {},
     "output_type": "display_data"
    }
   ],
   "source": [
    "########################## 상관관계 시각화 \n",
    "import matplotlib.pyplot as plt\n",
    "import seaborn as sns\n",
    "##########################\n",
    "sns.pairplot(w_n)               # 상관분석하기 전, 수치값만 있는 데이터 "
   ]
  },
  {
   "cell_type": "code",
   "execution_count": 70,
   "id": "860e8e26-b1eb-490d-853b-cc4a6a2cc541",
   "metadata": {},
   "outputs": [
    {
     "data": {
      "image/png": "[encoded data removed]",
      "text/plain": [
       "<Figure size 500x500 with 2 Axes>"
      ]
     },
     "metadata": {},
     "output_type": "display_data"
    }
   ],
   "source": [
    "########################## 상관관계 히트맵 시각화 \n",
    "plt.figure(figsize=(5,5))\n",
    "sns.heatmap(w_pearson, annot = True, cmap='Blues')        # 피어슨 상관계수 진행한 데이터 \n",
    "plt.show()"
   ]
  },
  {
   "cell_type": "markdown",
   "id": "ab35bb4f-d22d-4bc5-bf52-7607f8df8265",
   "metadata": {},
   "source": [
    "# 결과 \n",
    "\n",
    "**강한 양의 상관관계**\n",
    "```\n",
    "weight : egg_weight, food\n",
    "egg_wiehgt : weight, food\n",
    "food : weight , egg_weight\n",
    "```\n",
    "**강한 음의 상관관계**\n",
    "```\n",
    "weight : movement\n",
    "egg_weight : movement\n",
    "movement : weight, egg_weight, food\n",
    "food : movement\n",
    "```"
   ]
  },
  {
   "cell_type": "markdown",
   "id": "e978a2da-fc34-4345-8687-36263c2612fe",
   "metadata": {},
   "source": [
    "# 5. 병아리의 몸무게를 예측할수 있을까요? "
   ]
  },
  {
   "cell_type": "markdown",
   "id": "4968f1cc-8693-44ab-9e3b-c088f3709b2a",
   "metadata": {},
   "source": [
    "회귀분석이란, <br>\n",
    "연속형 변수들에 대해 두 변수(x,y)간의 관계를 수식으로 나타내는 분석 방법입니다. <br>\n",
    "x라는 독립변수와 y라는 종속변수가 존재할 때, 이 두 변수간 관계를 y=ax+b와 같은 형태 수식으로 나타낼 수 있는 방법입니다.\n",
    "\n",
    "가로축이 x, 세로축이 y인 산점도가 있을 때, 가장 적합한 하나의 직선을 표현하는 방식이 회귀분석입니다. <br>\n",
    "직선과 개별 값들 간의 오차를 최소화하는 직선을 찾는것을 목표로 합니다. <br>\n",
    "\n",
    "#### 1. 단순선형 회귀분석 : 종속변수(y)와 독립변수(x)가 각각 하나씩 존재하며 서로 선형적인 관계를 가질 때\n",
    "#### 2. 다중 회귀분석 : 종속변수(y)와 독립변수가 2개이상를 가질 때\n",
    "하나씩 제거하는 후진소거법으로 진행 <br>\n",
    "독립변수(x)들의 높은 상관관계로 문제가 있는지, 다중공선성 확인 필요 \n",
    "#### 3. 비선형 회귀분석 : 종속변수(y)와 독립변수(x)가 선형관계가 아닌 비선형관계를 가질 때 "
   ]
  },
  {
   "cell_type": "code",
   "execution_count": 73,
   "id": "a55bbb27-9096-4469-8c51-3c8dc168f8fc",
   "metadata": {},
   "outputs": [
    {
     "data": {
      "text/html": [
       "<table class=\"simpletable\">\n",
       "<caption>OLS Regression Results</caption>\n",
       "<tr>\n",
       "  <th>Dep. Variable:</th>         <td>weight</td>      <th>  R-squared:         </th> <td>   0.916</td>\n",
       "</tr>\n",
       "<tr>\n",
       "  <th>Model:</th>                   <td>OLS</td>       <th>  Adj. R-squared:    </th> <td>   0.913</td>\n",
       "</tr>\n",
       "<tr>\n",
       "  <th>Method:</th>             <td>Least Squares</td>  <th>  F-statistic:       </th> <td>   306.0</td>\n",
       "</tr>\n",
       "<tr>\n",
       "  <th>Date:</th>             <td>Tue, 31 Oct 2023</td> <th>  Prob (F-statistic):</th> <td>1.32e-16</td>\n",
       "</tr>\n",
       "<tr>\n",
       "  <th>Time:</th>                 <td>19:19:44</td>     <th>  Log-Likelihood:    </th> <td> -63.148</td>\n",
       "</tr>\n",
       "<tr>\n",
       "  <th>No. Observations:</th>      <td>    30</td>      <th>  AIC:               </th> <td>   130.3</td>\n",
       "</tr>\n",
       "<tr>\n",
       "  <th>Df Residuals:</th>          <td>    28</td>      <th>  BIC:               </th> <td>   133.1</td>\n",
       "</tr>\n",
       "<tr>\n",
       "  <th>Df Model:</th>              <td>     1</td>      <th>                     </th>     <td> </td>   \n",
       "</tr>\n",
       "<tr>\n",
       "  <th>Covariance Type:</th>      <td>nonrobust</td>    <th>                     </th>     <td> </td>   \n",
       "</tr>\n",
       "</table>\n",
       "<table class=\"simpletable\">\n",
       "<tr>\n",
       "       <td></td>         <th>coef</th>     <th>std err</th>      <th>t</th>      <th>P>|t|</th>  <th>[0.025</th>    <th>0.975]</th>  \n",
       "</tr>\n",
       "<tr>\n",
       "  <th>Intercept</th>  <td>  -14.5475</td> <td>    8.705</td> <td>   -1.671</td> <td> 0.106</td> <td>  -32.380</td> <td>    3.285</td>\n",
       "</tr>\n",
       "<tr>\n",
       "  <th>egg_weight</th> <td>    2.3371</td> <td>    0.134</td> <td>   17.493</td> <td> 0.000</td> <td>    2.063</td> <td>    2.611</td>\n",
       "</tr>\n",
       "</table>\n",
       "<table class=\"simpletable\">\n",
       "<tr>\n",
       "  <th>Omnibus:</th>       <td>15.078</td> <th>  Durbin-Watson:     </th> <td>   1.998</td>\n",
       "</tr>\n",
       "<tr>\n",
       "  <th>Prob(Omnibus):</th> <td> 0.001</td> <th>  Jarque-Bera (JB):  </th> <td>   2.750</td>\n",
       "</tr>\n",
       "<tr>\n",
       "  <th>Skew:</th>          <td> 0.032</td> <th>  Prob(JB):          </th> <td>   0.253</td>\n",
       "</tr>\n",
       "<tr>\n",
       "  <th>Kurtosis:</th>      <td> 1.518</td> <th>  Cond. No.          </th> <td>1.51e+03</td>\n",
       "</tr>\n",
       "</table><br/><br/>Notes:<br/>[1] Standard Errors assume that the covariance matrix of the errors is correctly specified.<br/>[2] The condition number is large, 1.51e+03. This might indicate that there are<br/>strong multicollinearity or other numerical problems."
      ],
      "text/latex": [
       "\\begin{center}\n",
       "\\begin{tabular}{lclc}\n",
       "\\toprule\n",
       "\\textbf{Dep. Variable:}    &      weight      & \\textbf{  R-squared:         } &     0.916   \\\\\n",
       "\\textbf{Model:}            &       OLS        & \\textbf{  Adj. R-squared:    } &     0.913   \\\\\n",
       "\\textbf{Method:}           &  Least Squares   & \\textbf{  F-statistic:       } &     306.0   \\\\\n",
       "\\textbf{Date:}             & Tue, 31 Oct 2023 & \\textbf{  Prob (F-statistic):} &  1.32e-16   \\\\\n",
       "\\textbf{Time:}             &     19:19:44     & \\textbf{  Log-Likelihood:    } &   -63.148   \\\\\n",
       "\\textbf{No. Observations:} &          30      & \\textbf{  AIC:               } &     130.3   \\\\\n",
       "\\textbf{Df Residuals:}     &          28      & \\textbf{  BIC:               } &     133.1   \\\\\n",
       "\\textbf{Df Model:}         &           1      & \\textbf{                     } &             \\\\\n",
       "\\textbf{Covariance Type:}  &    nonrobust     & \\textbf{                     } &             \\\\\n",
       "\\bottomrule\n",
       "\\end{tabular}\n",
       "\\begin{tabular}{lcccccc}\n",
       "                     & \\textbf{coef} & \\textbf{std err} & \\textbf{t} & \\textbf{P$> |$t$|$} & \\textbf{[0.025} & \\textbf{0.975]}  \\\\\n",
       "\\midrule\n",
       "\\textbf{Intercept}   &     -14.5475  &        8.705     &    -1.671  &         0.106        &      -32.380    &        3.285     \\\\\n",
       "\\textbf{egg\\_weight} &       2.3371  &        0.134     &    17.493  &         0.000        &        2.063    &        2.611     \\\\\n",
       "\\bottomrule\n",
       "\\end{tabular}\n",
       "\\begin{tabular}{lclc}\n",
       "\\textbf{Omnibus:}       & 15.078 & \\textbf{  Durbin-Watson:     } &    1.998  \\\\\n",
       "\\textbf{Prob(Omnibus):} &  0.001 & \\textbf{  Jarque-Bera (JB):  } &    2.750  \\\\\n",
       "\\textbf{Skew:}          &  0.032 & \\textbf{  Prob(JB):          } &    0.253  \\\\\n",
       "\\textbf{Kurtosis:}      &  1.518 & \\textbf{  Cond. No.          } & 1.51e+03  \\\\\n",
       "\\bottomrule\n",
       "\\end{tabular}\n",
       "%\\caption{OLS Regression Results}\n",
       "\\end{center}\n",
       "\n",
       "Notes: \\newline\n",
       " [1] Standard Errors assume that the covariance matrix of the errors is correctly specified. \\newline\n",
       " [2] The condition number is large, 1.51e+03. This might indicate that there are \\newline\n",
       " strong multicollinearity or other numerical problems."
      ],
      "text/plain": [
       "<class 'statsmodels.iolib.summary.Summary'>\n",
       "\"\"\"\n",
       "                            OLS Regression Results                            \n",
       "==============================================================================\n",
       "Dep. Variable:                 weight   R-squared:                       0.916\n",
       "Model:                            OLS   Adj. R-squared:                  0.913\n",
       "Method:                 Least Squares   F-statistic:                     306.0\n",
       "Date:                Tue, 31 Oct 2023   Prob (F-statistic):           1.32e-16\n",
       "Time:                        19:19:44   Log-Likelihood:                -63.148\n",
       "No. Observations:                  30   AIC:                             130.3\n",
       "Df Residuals:                      28   BIC:                             133.1\n",
       "Df Model:                           1                                         \n",
       "Covariance Type:            nonrobust                                         \n",
       "==============================================================================\n",
       "                 coef    std err          t      P>|t|      [0.025      0.975]\n",
       "------------------------------------------------------------------------------\n",
       "Intercept    -14.5475      8.705     -1.671      0.106     -32.380       3.285\n",
       "egg_weight     2.3371      0.134     17.493      0.000       2.063       2.611\n",
       "==============================================================================\n",
       "Omnibus:                       15.078   Durbin-Watson:                   1.998\n",
       "Prob(Omnibus):                  0.001   Jarque-Bera (JB):                2.750\n",
       "Skew:                           0.032   Prob(JB):                        0.253\n",
       "Kurtosis:                       1.518   Cond. No.                     1.51e+03\n",
       "==============================================================================\n",
       "\n",
       "Notes:\n",
       "[1] Standard Errors assume that the covariance matrix of the errors is correctly specified.\n",
       "[2] The condition number is large, 1.51e+03. This might indicate that there are\n",
       "strong multicollinearity or other numerical problems.\n",
       "\"\"\""
      ]
     },
     "execution_count": 73,
     "metadata": {},
     "output_type": "execute_result"
    }
   ],
   "source": [
    "#################################################### 단순선형 회귀분석\n",
    "\n",
    "# 종속변수 y(1개)와 독립변수 x(1개) 의 관계성 수식화 \n",
    "# 제일 강한 양의 상관관계 : weight 과 egg_weight \n",
    "# 여기서 y 를 weight으로, x 를 egg_weight 으로 두고 진행하겠습니다. \n",
    "\n",
    "########################## 회귀분석 수행 위한 모듈 불러오기 --> smf 약어로 지칭 \n",
    "\n",
    "import statsmodels.formula.api as smf \n",
    "\n",
    "########################## y와 x의 단순 선형 회귀모델 구축 ( y ~ x  )\n",
    "\n",
    "model_lm = smf.ols(formula = 'weight ~ egg_weight', data = w_n )\n",
    "\n",
    "########################## 모델 학습 \n",
    "\n",
    "result_lm = model_lm.fit()\n",
    "\n",
    "########################## 모델 결과 확인 \n",
    "\n",
    "result_lm.summary()"
   ]
  },
  {
   "cell_type": "markdown",
   "id": "9031c8e1-c60c-43f8-98e3-f0b8e58eda9a",
   "metadata": {},
   "source": [
    "#### 회귀분석에서 p값의 의미란, \n",
    "```\n",
    "\b위의 가설검정을 기반으로 회귀모델과 개별 독립변수(x)가 통계적으로 유의한지 판단하는 것이다.\n",
    "\n",
    "귀무가설 : 회귀모델이나 개별 독립변수(x)가 '종속변수(y)의 변화에 영향을 미치지 않는다'\n",
    "대립가설 : 회귀모델이나 개별 독립변수(x)가 '종속변수(y)의 변화에 영향을 미친다'\n",
    "```\n",
    "유의수준은 정하기 나름이나, 일반적으로 0.05를 기준으로 사용하기 때문에 <br>\n",
    "p값(p-value유의확률)이 **0.05보다 크면, 귀무가설**을 채택합니다. <br>\n",
    "p값(p-value유의확률)이 **0.05보다 작으면, 대립가설**을 채택합니다. <br>"
   ]
  },
  {
   "cell_type": "markdown",
   "id": "eaf61ae5-44a2-4f3e-8d8a-8bc128217288",
   "metadata": {},
   "source": [
    "![](https://velog.velcdn.com/images/beckhye/post/b5a81290-abde-4408-a829-3e710eecdccf/image.png)"
   ]
  },
  {
   "cell_type": "code",
   "execution_count": 75,
   "id": "42e0d8e4-2e98-48b7-9d72-a53a849d4125",
   "metadata": {},
   "outputs": [
    {
     "name": "stdout",
     "output_type": "stream",
     "text": [
      "                            OLS Regression Results                            \n",
      "==============================================================================\n",
      "Dep. Variable:                 weight   R-squared:                       0.916\n",
      "Model:                            OLS   Adj. R-squared:                  0.913\n",
      "Method:                 Least Squares   F-statistic:                     306.0\n",
      "Date:                Tue, 31 Oct 2023   Prob (F-statistic):           1.32e-16\n",
      "Time:                        19:52:18   Log-Likelihood:                -63.148\n",
      "No. Observations:                  30   AIC:                             130.3\n",
      "Df Residuals:                      28   BIC:                             133.1\n",
      "Df Model:                           1                                         \n",
      "Covariance Type:            nonrobust                                         \n",
      "==============================================================================\n",
      "                 coef    std err          t      P>|t|      [0.025      0.975]\n",
      "------------------------------------------------------------------------------\n",
      "Intercept    -14.5475      8.705     -1.671      0.106     -32.380       3.285\n",
      "egg_weight     2.3371      0.134     17.493      0.000       2.063       2.611\n",
      "==============================================================================\n",
      "Omnibus:                       15.078   Durbin-Watson:                   1.998\n",
      "Prob(Omnibus):                  0.001   Jarque-Bera (JB):                2.750\n",
      "Skew:                           0.032   Prob(JB):                        0.253\n",
      "Kurtosis:                       1.518   Cond. No.                     1.51e+03\n",
      "==============================================================================\n",
      "\n",
      "Notes:\n",
      "[1] Standard Errors assume that the covariance matrix of the errors is correctly specified.\n",
      "[2] The condition number is large, 1.51e+03. This might indicate that there are\n",
      "strong multicollinearity or other numerical problems.\n"
     ]
    }
   ],
   "source": [
    "print(result_lm.summary())          # 동일내용이나, 보고서 형태로 출력 "
   ]
  },
  {
   "cell_type": "code",
   "execution_count": 101,
   "id": "f08e1e37-1393-4576-8de7-aef2775002b7",
   "metadata": {},
   "outputs": [
    {
     "data": {
      "image/png": "[encoded data removed]",
      "text/plain": [
       "<Figure size 800x500 with 1 Axes>"
      ]
     },
     "metadata": {},
     "output_type": "display_data"
    }
   ],
   "source": [
    "#################################################### 단순선형 회귀분석 \"산점도\"\n",
    "# egg_weight(x)에 따른 weight(y) 몸무게 산점도 \n",
    "\n",
    "# 네모칸 \n",
    "plt.figure(figsize=(8,5))\n",
    "\n",
    "# x축에 egg_weight을, y축에 weight을, 그리고 투명도 0.5으로  \n",
    "plt.scatter(w.egg_weight, w.weight, alpha=.5)\n",
    "\n",
    "# 단순선형으로 예측된 회귀선 그리기 \n",
    "plt.plot(w.egg_weight, w.egg_weight*2.3371 - 14.5475, color = 'red')\n",
    "\n",
    "# 텍스트 내용 작성  (가로 많을수록 오른쪽, 세로 높을수록 위에)\n",
    "plt.text(65, 132, 'weight = 2.3371 * egg_weight - 14.5475', fontsize= 10)\n",
    "\n",
    "plt.title('알 무게와 병아리몸무게의 단순선형 회귀예측 산점도')\n",
    "plt.xlabel('egg_weight')\n",
    "plt.ylabel('weight')\n",
    "plt.show()"
   ]
  },
  {
   "cell_type": "markdown",
   "id": "c6af028a-a723-4fa3-9f3f-2f8585e134e9",
   "metadata": {},
   "source": [
    "### 잔차 히스토그램으로 추가적으로 성능판단 하기\n",
    "\n",
    "잔차(Residual)는 회귀분석에서 중요한 개념으로, 실제 관찰된 종속 변수(또는 반응 변수) 값과 회귀 모델로 예측한 값 사이의 차이를 나타냅니다. <br>\n",
    "회귀 모델의 적합성을 평가하고 모델의 예측 정확도를 검증하는 데 사용됩니다.<br>\n",
    "\n",
    "잔차 (e) = 실제 관찰값 - 모델 예측값\n",
    "\n",
    "잔차는 양수일 수도 있고 음수일 수도 있습니다. <br>\n",
    "양수인 경우는 모델이 관측값보다 낮게 예측한 경우를 나타내며, 음수인 경우는 모델이 관측값보다 높게 예측한 경우를 나타냅니다.\n",
    "\n",
    "잔차의 정규성, 독립성, 등분산성 등을 평가하여 모델의 적합성을 판단합니다. <br>\n",
    "이를 통해 모델의 예측 정확도와 신뢰성을 평가하고, 필요에 따라 모델을 개선할 수 있습니다."
   ]
  },
  {
   "cell_type": "code",
   "execution_count": 132,
   "id": "0ac8d10b-3b93-4907-97ca-f7dd19e3f576",
   "metadata": {},
   "outputs": [
    {
     "data": {
      "image/png": "[encoded data removed]",
      "text/plain": [
       "<Figure size 500x500 with 1 Axes>"
      ]
     },
     "metadata": {},
     "output_type": "display_data"
    }
   ],
   "source": [
    "#################################################### 단순선형 회귀분석 \"잔차 히스토그램\" \n",
    "plt.figure(figsize=(5,5))\n",
    "plt.hist(result_lm.resid, bins = 8)\n",
    "plt.title('단순선형 회귀분석의 잔차 histogram')\n",
    "plt.show()                                    "
   ]
  },
  {
   "cell_type": "markdown",
   "id": "bb569ae2-b622-4559-8a02-5ad4af2ab4ed",
   "metadata": {},
   "source": [
    "이상적인 모양은 0 근처에 주로 분포가 많은 세로가 긴 종 모양 <br>\n",
    "그러나, 지금과 같은 경우 잔차가 다양하에 분포된 형태로 나왔다. <br>\n",
    "잔차를 줄이기 위해서, 독립변수(x)를 더 늘려 다중 회귀분석을 진행해 보겠습니다. "
   ]
  },
  {
   "cell_type": "code",
   "execution_count": 109,
   "id": "1b31d9c0-d479-4151-a3f4-79282dc951ab",
   "metadata": {},
   "outputs": [
    {
     "data": {
      "text/html": [
       "<table class=\"simpletable\">\n",
       "<caption>OLS Regression Results</caption>\n",
       "<tr>\n",
       "  <th>Dep. Variable:</th>         <td>weight</td>      <th>  R-squared:         </th> <td>   0.948</td>\n",
       "</tr>\n",
       "<tr>\n",
       "  <th>Model:</th>                   <td>OLS</td>       <th>  Adj. R-squared:    </th> <td>   0.942</td>\n",
       "</tr>\n",
       "<tr>\n",
       "  <th>Method:</th>             <td>Least Squares</td>  <th>  F-statistic:       </th> <td>   157.7</td>\n",
       "</tr>\n",
       "<tr>\n",
       "  <th>Date:</th>             <td>Tue, 31 Oct 2023</td> <th>  Prob (F-statistic):</th> <td>8.46e-17</td>\n",
       "</tr>\n",
       "<tr>\n",
       "  <th>Time:</th>                 <td>21:01:30</td>     <th>  Log-Likelihood:    </th> <td> -56.008</td>\n",
       "</tr>\n",
       "<tr>\n",
       "  <th>No. Observations:</th>      <td>    30</td>      <th>  AIC:               </th> <td>   120.0</td>\n",
       "</tr>\n",
       "<tr>\n",
       "  <th>Df Residuals:</th>          <td>    26</td>      <th>  BIC:               </th> <td>   125.6</td>\n",
       "</tr>\n",
       "<tr>\n",
       "  <th>Df Model:</th>              <td>     3</td>      <th>                     </th>     <td> </td>   \n",
       "</tr>\n",
       "<tr>\n",
       "  <th>Covariance Type:</th>      <td>nonrobust</td>    <th>                     </th>     <td> </td>   \n",
       "</tr>\n",
       "</table>\n",
       "<table class=\"simpletable\">\n",
       "<tr>\n",
       "       <td></td>         <th>coef</th>     <th>std err</th>      <th>t</th>      <th>P>|t|</th>  <th>[0.025</th>    <th>0.975]</th>  \n",
       "</tr>\n",
       "<tr>\n",
       "  <th>Intercept</th>  <td>    2.9748</td> <td>    8.587</td> <td>    0.346</td> <td> 0.732</td> <td>  -14.676</td> <td>   20.626</td>\n",
       "</tr>\n",
       "<tr>\n",
       "  <th>egg_weight</th> <td>    1.7763</td> <td>    0.195</td> <td>    9.117</td> <td> 0.000</td> <td>    1.376</td> <td>    2.177</td>\n",
       "</tr>\n",
       "<tr>\n",
       "  <th>food</th>       <td>    1.5847</td> <td>    0.405</td> <td>    3.915</td> <td> 0.001</td> <td>    0.753</td> <td>    2.417</td>\n",
       "</tr>\n",
       "<tr>\n",
       "  <th>movement</th>   <td>   -0.0087</td> <td>    0.017</td> <td>   -0.522</td> <td> 0.606</td> <td>   -0.043</td> <td>    0.026</td>\n",
       "</tr>\n",
       "</table>\n",
       "<table class=\"simpletable\">\n",
       "<tr>\n",
       "  <th>Omnibus:</th>       <td> 1.993</td> <th>  Durbin-Watson:     </th> <td>   2.030</td>\n",
       "</tr>\n",
       "<tr>\n",
       "  <th>Prob(Omnibus):</th> <td> 0.369</td> <th>  Jarque-Bera (JB):  </th> <td>   1.746</td>\n",
       "</tr>\n",
       "<tr>\n",
       "  <th>Skew:</th>          <td>-0.480</td> <th>  Prob(JB):          </th> <td>   0.418</td>\n",
       "</tr>\n",
       "<tr>\n",
       "  <th>Kurtosis:</th>      <td> 2.311</td> <th>  Cond. No.          </th> <td>4.31e+03</td>\n",
       "</tr>\n",
       "</table><br/><br/>Notes:<br/>[1] Standard Errors assume that the covariance matrix of the errors is correctly specified.<br/>[2] The condition number is large, 4.31e+03. This might indicate that there are<br/>strong multicollinearity or other numerical problems."
      ],
      "text/latex": [
       "\\begin{center}\n",
       "\\begin{tabular}{lclc}\n",
       "\\toprule\n",
       "\\textbf{Dep. Variable:}    &      weight      & \\textbf{  R-squared:         } &     0.948   \\\\\n",
       "\\textbf{Model:}            &       OLS        & \\textbf{  Adj. R-squared:    } &     0.942   \\\\\n",
       "\\textbf{Method:}           &  Least Squares   & \\textbf{  F-statistic:       } &     157.7   \\\\\n",
       "\\textbf{Date:}             & Tue, 31 Oct 2023 & \\textbf{  Prob (F-statistic):} &  8.46e-17   \\\\\n",
       "\\textbf{Time:}             &     21:01:30     & \\textbf{  Log-Likelihood:    } &   -56.008   \\\\\n",
       "\\textbf{No. Observations:} &          30      & \\textbf{  AIC:               } &     120.0   \\\\\n",
       "\\textbf{Df Residuals:}     &          26      & \\textbf{  BIC:               } &     125.6   \\\\\n",
       "\\textbf{Df Model:}         &           3      & \\textbf{                     } &             \\\\\n",
       "\\textbf{Covariance Type:}  &    nonrobust     & \\textbf{                     } &             \\\\\n",
       "\\bottomrule\n",
       "\\end{tabular}\n",
       "\\begin{tabular}{lcccccc}\n",
       "                     & \\textbf{coef} & \\textbf{std err} & \\textbf{t} & \\textbf{P$> |$t$|$} & \\textbf{[0.025} & \\textbf{0.975]}  \\\\\n",
       "\\midrule\n",
       "\\textbf{Intercept}   &       2.9748  &        8.587     &     0.346  &         0.732        &      -14.676    &       20.626     \\\\\n",
       "\\textbf{egg\\_weight} &       1.7763  &        0.195     &     9.117  &         0.000        &        1.376    &        2.177     \\\\\n",
       "\\textbf{food}        &       1.5847  &        0.405     &     3.915  &         0.001        &        0.753    &        2.417     \\\\\n",
       "\\textbf{movement}    &      -0.0087  &        0.017     &    -0.522  &         0.606        &       -0.043    &        0.026     \\\\\n",
       "\\bottomrule\n",
       "\\end{tabular}\n",
       "\\begin{tabular}{lclc}\n",
       "\\textbf{Omnibus:}       &  1.993 & \\textbf{  Durbin-Watson:     } &    2.030  \\\\\n",
       "\\textbf{Prob(Omnibus):} &  0.369 & \\textbf{  Jarque-Bera (JB):  } &    1.746  \\\\\n",
       "\\textbf{Skew:}          & -0.480 & \\textbf{  Prob(JB):          } &    0.418  \\\\\n",
       "\\textbf{Kurtosis:}      &  2.311 & \\textbf{  Cond. No.          } & 4.31e+03  \\\\\n",
       "\\bottomrule\n",
       "\\end{tabular}\n",
       "%\\caption{OLS Regression Results}\n",
       "\\end{center}\n",
       "\n",
       "Notes: \\newline\n",
       " [1] Standard Errors assume that the covariance matrix of the errors is correctly specified. \\newline\n",
       " [2] The condition number is large, 4.31e+03. This might indicate that there are \\newline\n",
       " strong multicollinearity or other numerical problems."
      ],
      "text/plain": [
       "<class 'statsmodels.iolib.summary.Summary'>\n",
       "\"\"\"\n",
       "                            OLS Regression Results                            \n",
       "==============================================================================\n",
       "Dep. Variable:                 weight   R-squared:                       0.948\n",
       "Model:                            OLS   Adj. R-squared:                  0.942\n",
       "Method:                 Least Squares   F-statistic:                     157.7\n",
       "Date:                Tue, 31 Oct 2023   Prob (F-statistic):           8.46e-17\n",
       "Time:                        21:01:30   Log-Likelihood:                -56.008\n",
       "No. Observations:                  30   AIC:                             120.0\n",
       "Df Residuals:                      26   BIC:                             125.6\n",
       "Df Model:                           3                                         \n",
       "Covariance Type:            nonrobust                                         \n",
       "==============================================================================\n",
       "                 coef    std err          t      P>|t|      [0.025      0.975]\n",
       "------------------------------------------------------------------------------\n",
       "Intercept      2.9748      8.587      0.346      0.732     -14.676      20.626\n",
       "egg_weight     1.7763      0.195      9.117      0.000       1.376       2.177\n",
       "food           1.5847      0.405      3.915      0.001       0.753       2.417\n",
       "movement      -0.0087      0.017     -0.522      0.606      -0.043       0.026\n",
       "==============================================================================\n",
       "Omnibus:                        1.993   Durbin-Watson:                   2.030\n",
       "Prob(Omnibus):                  0.369   Jarque-Bera (JB):                1.746\n",
       "Skew:                          -0.480   Prob(JB):                        0.418\n",
       "Kurtosis:                       2.311   Cond. No.                     4.31e+03\n",
       "==============================================================================\n",
       "\n",
       "Notes:\n",
       "[1] Standard Errors assume that the covariance matrix of the errors is correctly specified.\n",
       "[2] The condition number is large, 4.31e+03. This might indicate that there are\n",
       "strong multicollinearity or other numerical problems.\n",
       "\"\"\""
      ]
     },
     "execution_count": 109,
     "metadata": {},
     "output_type": "execute_result"
    }
   ],
   "source": [
    "#################################################### 다중 회귀분석\n",
    "\n",
    "# 종속변수 y(1개)와 독립변수 x(2개이상)의 관계성 수식화 \n",
    "# 단순회귀시 weight(y) , egg_weight(x) 였는데 food(x) 와 movement(x) 를 추가하겠습니다. \n",
    "\n",
    "########################## 회귀분석 수행 위한 모듈 불러오기 --> smf 약어로 지칭 \n",
    "\n",
    "# import statsmodels.formula.api as smf \n",
    "\n",
    "########################## y 와 x변수들간의 다중 회귀모델 구축 ( y ~ x + x + x .. )\n",
    "\n",
    "model_mlm = smf.ols(formula = 'weight ~ egg_weight + food + movement', data = w_n )\n",
    "\n",
    "########################## 모델 학습 \n",
    "\n",
    "result_mlm = model_mlm.fit()\n",
    "\n",
    "########################## 모델 결과 확인 \n",
    "\n",
    "result_mlm.summary()"
   ]
  },
  {
   "cell_type": "markdown",
   "id": "6d298ed3-e5c6-4d1b-b9ad-5f99eee6d55e",
   "metadata": {},
   "source": [
    "![](https://velog.velcdn.com/images/beckhye/post/fde2d1e5-5538-4401-bdfe-1a200bd2ea85/image.png)"
   ]
  },
  {
   "cell_type": "code",
   "execution_count": 111,
   "id": "75fa7f2b-f63e-4927-ae21-273adfb64d18",
   "metadata": {},
   "outputs": [
    {
     "data": {
      "text/html": [
       "<table class=\"simpletable\">\n",
       "<caption>OLS Regression Results</caption>\n",
       "<tr>\n",
       "  <th>Dep. Variable:</th>         <td>weight</td>      <th>  R-squared:         </th> <td>   0.947</td>\n",
       "</tr>\n",
       "<tr>\n",
       "  <th>Model:</th>                   <td>OLS</td>       <th>  Adj. R-squared:    </th> <td>   0.943</td>\n",
       "</tr>\n",
       "<tr>\n",
       "  <th>Method:</th>             <td>Least Squares</td>  <th>  F-statistic:       </th> <td>   243.0</td>\n",
       "</tr>\n",
       "<tr>\n",
       "  <th>Date:</th>             <td>Tue, 31 Oct 2023</td> <th>  Prob (F-statistic):</th> <td>5.44e-18</td>\n",
       "</tr>\n",
       "<tr>\n",
       "  <th>Time:</th>                 <td>21:29:16</td>     <th>  Log-Likelihood:    </th> <td> -56.164</td>\n",
       "</tr>\n",
       "<tr>\n",
       "  <th>No. Observations:</th>      <td>    30</td>      <th>  AIC:               </th> <td>   118.3</td>\n",
       "</tr>\n",
       "<tr>\n",
       "  <th>Df Residuals:</th>          <td>    27</td>      <th>  BIC:               </th> <td>   122.5</td>\n",
       "</tr>\n",
       "<tr>\n",
       "  <th>Df Model:</th>              <td>     2</td>      <th>                     </th>     <td> </td>   \n",
       "</tr>\n",
       "<tr>\n",
       "  <th>Covariance Type:</th>      <td>nonrobust</td>    <th>                     </th>     <td> </td>   \n",
       "</tr>\n",
       "</table>\n",
       "<table class=\"simpletable\">\n",
       "<tr>\n",
       "       <td></td>         <th>coef</th>     <th>std err</th>      <th>t</th>      <th>P>|t|</th>  <th>[0.025</th>    <th>0.975]</th>  \n",
       "</tr>\n",
       "<tr>\n",
       "  <th>Intercept</th>  <td>    3.6638</td> <td>    8.370</td> <td>    0.438</td> <td> 0.665</td> <td>  -13.510</td> <td>   20.837</td>\n",
       "</tr>\n",
       "<tr>\n",
       "  <th>egg_weight</th> <td>    1.7453</td> <td>    0.183</td> <td>    9.536</td> <td> 0.000</td> <td>    1.370</td> <td>    2.121</td>\n",
       "</tr>\n",
       "<tr>\n",
       "  <th>food</th>       <td>    1.5955</td> <td>    0.399</td> <td>    4.001</td> <td> 0.000</td> <td>    0.777</td> <td>    2.414</td>\n",
       "</tr>\n",
       "</table>\n",
       "<table class=\"simpletable\">\n",
       "<tr>\n",
       "  <th>Omnibus:</th>       <td> 2.302</td> <th>  Durbin-Watson:     </th> <td>   2.103</td>\n",
       "</tr>\n",
       "<tr>\n",
       "  <th>Prob(Omnibus):</th> <td> 0.316</td> <th>  Jarque-Bera (JB):  </th> <td>   1.940</td>\n",
       "</tr>\n",
       "<tr>\n",
       "  <th>Skew:</th>          <td>-0.502</td> <th>  Prob(JB):          </th> <td>   0.379</td>\n",
       "</tr>\n",
       "<tr>\n",
       "  <th>Kurtosis:</th>      <td> 2.263</td> <th>  Cond. No.          </th> <td>1.84e+03</td>\n",
       "</tr>\n",
       "</table><br/><br/>Notes:<br/>[1] Standard Errors assume that the covariance matrix of the errors is correctly specified.<br/>[2] The condition number is large, 1.84e+03. This might indicate that there are<br/>strong multicollinearity or other numerical problems."
      ],
      "text/latex": [
       "\\begin{center}\n",
       "\\begin{tabular}{lclc}\n",
       "\\toprule\n",
       "\\textbf{Dep. Variable:}    &      weight      & \\textbf{  R-squared:         } &     0.947   \\\\\n",
       "\\textbf{Model:}            &       OLS        & \\textbf{  Adj. R-squared:    } &     0.943   \\\\\n",
       "\\textbf{Method:}           &  Least Squares   & \\textbf{  F-statistic:       } &     243.0   \\\\\n",
       "\\textbf{Date:}             & Tue, 31 Oct 2023 & \\textbf{  Prob (F-statistic):} &  5.44e-18   \\\\\n",
       "\\textbf{Time:}             &     21:29:16     & \\textbf{  Log-Likelihood:    } &   -56.164   \\\\\n",
       "\\textbf{No. Observations:} &          30      & \\textbf{  AIC:               } &     118.3   \\\\\n",
       "\\textbf{Df Residuals:}     &          27      & \\textbf{  BIC:               } &     122.5   \\\\\n",
       "\\textbf{Df Model:}         &           2      & \\textbf{                     } &             \\\\\n",
       "\\textbf{Covariance Type:}  &    nonrobust     & \\textbf{                     } &             \\\\\n",
       "\\bottomrule\n",
       "\\end{tabular}\n",
       "\\begin{tabular}{lcccccc}\n",
       "                     & \\textbf{coef} & \\textbf{std err} & \\textbf{t} & \\textbf{P$> |$t$|$} & \\textbf{[0.025} & \\textbf{0.975]}  \\\\\n",
       "\\midrule\n",
       "\\textbf{Intercept}   &       3.6638  &        8.370     &     0.438  &         0.665        &      -13.510    &       20.837     \\\\\n",
       "\\textbf{egg\\_weight} &       1.7453  &        0.183     &     9.536  &         0.000        &        1.370    &        2.121     \\\\\n",
       "\\textbf{food}        &       1.5955  &        0.399     &     4.001  &         0.000        &        0.777    &        2.414     \\\\\n",
       "\\bottomrule\n",
       "\\end{tabular}\n",
       "\\begin{tabular}{lclc}\n",
       "\\textbf{Omnibus:}       &  2.302 & \\textbf{  Durbin-Watson:     } &    2.103  \\\\\n",
       "\\textbf{Prob(Omnibus):} &  0.316 & \\textbf{  Jarque-Bera (JB):  } &    1.940  \\\\\n",
       "\\textbf{Skew:}          & -0.502 & \\textbf{  Prob(JB):          } &    0.379  \\\\\n",
       "\\textbf{Kurtosis:}      &  2.263 & \\textbf{  Cond. No.          } & 1.84e+03  \\\\\n",
       "\\bottomrule\n",
       "\\end{tabular}\n",
       "%\\caption{OLS Regression Results}\n",
       "\\end{center}\n",
       "\n",
       "Notes: \\newline\n",
       " [1] Standard Errors assume that the covariance matrix of the errors is correctly specified. \\newline\n",
       " [2] The condition number is large, 1.84e+03. This might indicate that there are \\newline\n",
       " strong multicollinearity or other numerical problems."
      ],
      "text/plain": [
       "<class 'statsmodels.iolib.summary.Summary'>\n",
       "\"\"\"\n",
       "                            OLS Regression Results                            \n",
       "==============================================================================\n",
       "Dep. Variable:                 weight   R-squared:                       0.947\n",
       "Model:                            OLS   Adj. R-squared:                  0.943\n",
       "Method:                 Least Squares   F-statistic:                     243.0\n",
       "Date:                Tue, 31 Oct 2023   Prob (F-statistic):           5.44e-18\n",
       "Time:                        21:29:16   Log-Likelihood:                -56.164\n",
       "No. Observations:                  30   AIC:                             118.3\n",
       "Df Residuals:                      27   BIC:                             122.5\n",
       "Df Model:                           2                                         \n",
       "Covariance Type:            nonrobust                                         \n",
       "==============================================================================\n",
       "                 coef    std err          t      P>|t|      [0.025      0.975]\n",
       "------------------------------------------------------------------------------\n",
       "Intercept      3.6638      8.370      0.438      0.665     -13.510      20.837\n",
       "egg_weight     1.7453      0.183      9.536      0.000       1.370       2.121\n",
       "food           1.5955      0.399      4.001      0.000       0.777       2.414\n",
       "==============================================================================\n",
       "Omnibus:                        2.302   Durbin-Watson:                   2.103\n",
       "Prob(Omnibus):                  0.316   Jarque-Bera (JB):                1.940\n",
       "Skew:                          -0.502   Prob(JB):                        0.379\n",
       "Kurtosis:                       2.263   Cond. No.                     1.84e+03\n",
       "==============================================================================\n",
       "\n",
       "Notes:\n",
       "[1] Standard Errors assume that the covariance matrix of the errors is correctly specified.\n",
       "[2] The condition number is large, 1.84e+03. This might indicate that there are\n",
       "strong multicollinearity or other numerical problems.\n",
       "\"\"\""
      ]
     },
     "execution_count": 111,
     "metadata": {},
     "output_type": "execute_result"
    }
   ],
   "source": [
    "#################################################### 다중 회귀 분석 (movement 제외) \n",
    "\n",
    "# 단순회귀시 weight(y) , egg_weight(x) 였는데 food(x)만 추가하겠습니다. \n",
    "\n",
    "########################## 회귀분석 수행 위한 모듈 불러오기 --> smf 약어로 지칭 \n",
    "\n",
    "# import statsmodels.formula.api as smf \n",
    "\n",
    "########################## y 와 x변수들간의 다중 회귀모델 구축 ( y ~ x + x + x .. )\n",
    "\n",
    "model_mlm2 = smf.ols(formula = 'weight ~ egg_weight + food', data = w_n )\n",
    "\n",
    "########################## 모델 학습 \n",
    "\n",
    "result_mlm2 = model_mlm2.fit()\n",
    "\n",
    "########################## 모델 결과 확인 \n",
    "\n",
    "result_mlm2.summary()"
   ]
  },
  {
   "cell_type": "markdown",
   "id": "da0c6839-0797-4e02-b188-10d0c5e84358",
   "metadata": {},
   "source": [
    "![](https://velog.velcdn.com/images/beckhye/post/51e5e243-dada-4b33-8c67-f1e0d0274705/image.png)"
   ]
  },
  {
   "cell_type": "markdown",
   "id": "d5dd2a4f-ff0f-4387-a05a-b3ffc0d760f8",
   "metadata": {},
   "source": [
    "### 다중공선성 \n",
    "\n",
    "독립변수x가 많은 다중 회귀분석의 경우, 독립변수들끼리 서로 강한 상관관계로 인해 제대로 된 회귀분석이 안 될 수 있습니다. <br>\n",
    "이런 현상을 다중공선성 문제라고 합니다. <br><br>\n",
    "분산팽창요인 (VIF , Variance Inflation Factor) 를 계산하여 문제가 있는지 확인할수 있습니다. <br>\n",
    "```\n",
    "statsmodels.stats.outliers_influence모듈 \n",
    "```\n",
    "일반적으로 10이상이면 다중공선성 문제가 있다고 판단, 30초과이면 심각한 문제가 있다고 판단합니다. <br>"
   ]
  },
  {
   "cell_type": "code",
   "execution_count": 116,
   "id": "6e063359-a51e-4bfb-b02c-25dded6dd7fe",
   "metadata": {},
   "outputs": [
    {
     "data": {
      "text/plain": [
       "['Intercept', 'egg_weight', 'food']"
      ]
     },
     "execution_count": 116,
     "metadata": {},
     "output_type": "execute_result"
    }
   ],
   "source": [
    "#################################################### 다중 회귀분석의 다중공선성 확인 \n",
    "\n",
    "from statsmodels.stats.outliers_influence import variance_inflation_factor\n",
    "\n",
    "########################## 회귀모델 변수명 속성 확인 \n",
    "\n",
    "model_mlm2.exog_names"
   ]
  },
  {
   "cell_type": "code",
   "execution_count": 119,
   "id": "ce9e0833-a58e-4c35-ad67-33f830cfbefd",
   "metadata": {},
   "outputs": [
    {
     "name": "stdout",
     "output_type": "stream",
     "text": [
      "2.8826845113075716\n",
      "2.8826845113075765\n"
     ]
    }
   ],
   "source": [
    "########################## 첫번째 변수 (egg_weight) 의 vif 계산 \n",
    "\n",
    "vif1 = variance_inflation_factor(model_mlm2.exog, 1 )\n",
    "\n",
    "########################## 두번째 변수 (food ) 의 vif 계산\n",
    "\n",
    "vif2 = variance_inflation_factor(model_mlm2.exog, 2 )\n",
    "\n",
    "########################## 첫번째, 두번째 변수의 vif 출력 \n",
    "print(vif1)\n",
    "print(vif2)"
   ]
  },
  {
   "cell_type": "markdown",
   "id": "c8cb8ef4-514d-4fbb-869f-81f943ac104a",
   "metadata": {},
   "source": [
    "```\n",
    "두개의 독립변수 x (egg_weight과 food) 모두 분산팽창요인 계산결과 2.88 이 나왔다.\n",
    "10 이하이기 때문에 다중공선성 문제는 없는 것으로 판단됩니다. \n",
    "```\n",
    "다중 회귀분석의 경우 독립변수가 2개이상이기에 최소 3차원 이상의 축을 가진 그래프를 그려야 하는데, <br>\n",
    "시각적으로 알아보기가 힘들 뿐더러 다소 복잡할 수 있으니 잔차(residual)의 히스토그램만 확인하겠습니다. "
   ]
  },
  {
   "cell_type": "code",
   "execution_count": 133,
   "id": "fe7ed28f-cfd4-4726-a3e8-c268c8227a02",
   "metadata": {},
   "outputs": [
    {
     "data": {
      "image/png": "[encoded data removed]",
      "text/plain": [
       "<Figure size 500x500 with 1 Axes>"
      ]
     },
     "metadata": {},
     "output_type": "display_data"
    }
   ],
   "source": [
    "########################## 다중회귀분석의 잔차 histogram\n",
    "plt.figure(figsize=(5,5))\n",
    "plt.hist(result_mlm2.resid, bins = 8 )\n",
    "plt.title('다중 회귀분석의 잔차 histogram')\n",
    "plt.show()"
   ]
  },
  {
   "cell_type": "markdown",
   "id": "f50ac85c-9c41-4465-9e95-123c0c16ad06",
   "metadata": {},
   "source": [
    "위의 단순선형 회귀분석의 잔차 histogram 보다는 좀 더 0 기준으로 분포가 모인 종 모양으로 가까워졌다.<br>\n",
    "이에 최종적으로 병아리 몸무게 (weight)을 알 무게(egg_weight)와 하루 평균 사료 섭취량(food)을 독립변수로 둔 수식이다. <br>\n",
    "#### weight = ( 1.7453 * egg_weight ) + (1.5955 * food ) + 3.6638 "
   ]
  },
  {
   "cell_type": "code",
   "execution_count": 138,
   "id": "abdeced3-8459-4862-a306-655210884588",
   "metadata": {},
   "outputs": [
    {
     "data": {
      "text/html": [
       "<div>\n",
       "<style scoped>\n",
       "    .dataframe tbody tr th:only-of-type {\n",
       "        vertical-align: middle;\n",
       "    }\n",
       "\n",
       "    .dataframe tbody tr th {\n",
       "        vertical-align: top;\n",
       "    }\n",
       "\n",
       "    .dataframe thead th {\n",
       "        text-align: right;\n",
       "    }\n",
       "</style>\n",
       "<table border=\"1\" class=\"dataframe\">\n",
       "  <thead>\n",
       "    <tr style=\"text-align: right;\">\n",
       "      <th></th>\n",
       "      <th>day</th>\n",
       "      <th>weight</th>\n",
       "    </tr>\n",
       "  </thead>\n",
       "  <tbody>\n",
       "    <tr>\n",
       "      <th>0</th>\n",
       "      <td>1</td>\n",
       "      <td>43</td>\n",
       "    </tr>\n",
       "    <tr>\n",
       "      <th>1</th>\n",
       "      <td>2</td>\n",
       "      <td>55</td>\n",
       "    </tr>\n",
       "    <tr>\n",
       "      <th>2</th>\n",
       "      <td>3</td>\n",
       "      <td>69</td>\n",
       "    </tr>\n",
       "    <tr>\n",
       "      <th>3</th>\n",
       "      <td>4</td>\n",
       "      <td>86</td>\n",
       "    </tr>\n",
       "    <tr>\n",
       "      <th>4</th>\n",
       "      <td>5</td>\n",
       "      <td>104</td>\n",
       "    </tr>\n",
       "    <tr>\n",
       "      <th>...</th>\n",
       "      <td>...</td>\n",
       "      <td>...</td>\n",
       "    </tr>\n",
       "    <tr>\n",
       "      <th>65</th>\n",
       "      <td>66</td>\n",
       "      <td>3239</td>\n",
       "    </tr>\n",
       "    <tr>\n",
       "      <th>66</th>\n",
       "      <td>67</td>\n",
       "      <td>3247</td>\n",
       "    </tr>\n",
       "    <tr>\n",
       "      <th>67</th>\n",
       "      <td>68</td>\n",
       "      <td>3254</td>\n",
       "    </tr>\n",
       "    <tr>\n",
       "      <th>68</th>\n",
       "      <td>69</td>\n",
       "      <td>3260</td>\n",
       "    </tr>\n",
       "    <tr>\n",
       "      <th>69</th>\n",
       "      <td>70</td>\n",
       "      <td>3265</td>\n",
       "    </tr>\n",
       "  </tbody>\n",
       "</table>\n",
       "<p>70 rows × 2 columns</p>\n",
       "</div>"
      ],
      "text/plain": [
       "    day  weight\n",
       "0     1      43\n",
       "1     2      55\n",
       "2     3      69\n",
       "3     4      86\n",
       "4     5     104\n",
       "..  ...     ...\n",
       "65   66    3239\n",
       "66   67    3247\n",
       "67   68    3254\n",
       "68   69    3260\n",
       "69   70    3265\n",
       "\n",
       "[70 rows x 2 columns]"
      ]
     },
     "execution_count": 138,
     "metadata": {},
     "output_type": "execute_result"
    }
   ],
   "source": [
    "#################################################### 비선형 회귀분석 하기 전,\n",
    "w2 = pd.read_csv('./data/ch5-2.csv')\n",
    "w2                 # 성장기간에 따른 병아리 몸무게 변화 데이터 "
   ]
  },
  {
   "cell_type": "code",
   "execution_count": 137,
   "id": "29b3390e-a8b0-4c30-bb82-a43597babe8d",
   "metadata": {},
   "outputs": [
    {
     "name": "stdout",
     "output_type": "stream",
     "text": [
      "<class 'pandas.core.frame.DataFrame'>\n",
      "RangeIndex: 70 entries, 0 to 69\n",
      "Data columns (total 2 columns):\n",
      " #   Column  Non-Null Count  Dtype\n",
      "---  ------  --------------  -----\n",
      " 0   day     70 non-null     int64\n",
      " 1   weight  70 non-null     int64\n",
      "dtypes: int64(2)\n",
      "memory usage: 1.2 KB\n"
     ]
    }
   ],
   "source": [
    "#################################################### 비선형 회귀분석 하기 전,\n",
    "w2.info()"
   ]
  },
  {
   "cell_type": "code",
   "execution_count": 145,
   "id": "5c79f98a-8c92-45a4-af30-fdd82d366731",
   "metadata": {},
   "outputs": [
    {
     "data": {
      "image/png": "[encoded data removed]",
      "text/plain": [
       "<Figure size 800x500 with 1 Axes>"
      ]
     },
     "metadata": {},
     "output_type": "display_data"
    }
   ],
   "source": [
    "#################################################### 비선형 회귀분석 하기 전, \n",
    "# 데이터 형태 확인 = 산점도 = Scatter Plot\n",
    "\n",
    "plt.figure(figsize = (8,5))\n",
    "plt.scatter(w2.day, w2.weight, alpha = .5)\n",
    "plt.title('성장기간(day)에 따른 병아리 몸무게(weight)변화')\n",
    "plt.xlabel('day')\n",
    "plt.ylabel('weight')\n",
    "plt.show()"
   ]
  },
  {
   "cell_type": "markdown",
   "id": "ee9b81bb-085f-494c-ab8b-eab720a97cf2",
   "metadata": {},
   "source": [
    "직선의 형태가 아니지만, 그래도 선형 회귀분석을 실행해보겠습니다. "
   ]
  },
  {
   "cell_type": "code",
   "execution_count": 147,
   "id": "0bf23e85-b72a-45e9-8dda-dae47e78721d",
   "metadata": {},
   "outputs": [
    {
     "data": {
      "text/html": [
       "<table class=\"simpletable\">\n",
       "<caption>OLS Regression Results</caption>\n",
       "<tr>\n",
       "  <th>Dep. Variable:</th>         <td>weight</td>      <th>  R-squared:         </th> <td>   0.979</td>\n",
       "</tr>\n",
       "<tr>\n",
       "  <th>Model:</th>                   <td>OLS</td>       <th>  Adj. R-squared:    </th> <td>   0.979</td>\n",
       "</tr>\n",
       "<tr>\n",
       "  <th>Method:</th>             <td>Least Squares</td>  <th>  F-statistic:       </th> <td>   3189.</td>\n",
       "</tr>\n",
       "<tr>\n",
       "  <th>Date:</th>             <td>Tue, 31 Oct 2023</td> <th>  Prob (F-statistic):</th> <td>7.22e-59</td>\n",
       "</tr>\n",
       "<tr>\n",
       "  <th>Time:</th>                 <td>22:26:39</td>     <th>  Log-Likelihood:    </th> <td> -457.86</td>\n",
       "</tr>\n",
       "<tr>\n",
       "  <th>No. Observations:</th>      <td>    70</td>      <th>  AIC:               </th> <td>   919.7</td>\n",
       "</tr>\n",
       "<tr>\n",
       "  <th>Df Residuals:</th>          <td>    68</td>      <th>  BIC:               </th> <td>   924.2</td>\n",
       "</tr>\n",
       "<tr>\n",
       "  <th>Df Model:</th>              <td>     1</td>      <th>                     </th>     <td> </td>   \n",
       "</tr>\n",
       "<tr>\n",
       "  <th>Covariance Type:</th>      <td>nonrobust</td>    <th>                     </th>     <td> </td>   \n",
       "</tr>\n",
       "</table>\n",
       "<table class=\"simpletable\">\n",
       "<tr>\n",
       "      <td></td>         <th>coef</th>     <th>std err</th>      <th>t</th>      <th>P>|t|</th>  <th>[0.025</th>    <th>0.975]</th>  \n",
       "</tr>\n",
       "<tr>\n",
       "  <th>Intercept</th> <td> -295.8671</td> <td>   41.102</td> <td>   -7.198</td> <td> 0.000</td> <td> -377.885</td> <td> -213.850</td>\n",
       "</tr>\n",
       "<tr>\n",
       "  <th>day</th>       <td>   56.8216</td> <td>    1.006</td> <td>   56.470</td> <td> 0.000</td> <td>   54.814</td> <td>   58.830</td>\n",
       "</tr>\n",
       "</table>\n",
       "<table class=\"simpletable\">\n",
       "<tr>\n",
       "  <th>Omnibus:</th>       <td> 3.866</td> <th>  Durbin-Watson:     </th> <td>   0.025</td>\n",
       "</tr>\n",
       "<tr>\n",
       "  <th>Prob(Omnibus):</th> <td> 0.145</td> <th>  Jarque-Bera (JB):  </th> <td>   2.079</td>\n",
       "</tr>\n",
       "<tr>\n",
       "  <th>Skew:</th>          <td>-0.133</td> <th>  Prob(JB):          </th> <td>   0.354</td>\n",
       "</tr>\n",
       "<tr>\n",
       "  <th>Kurtosis:</th>      <td> 2.199</td> <th>  Cond. No.          </th> <td>    82.6</td>\n",
       "</tr>\n",
       "</table><br/><br/>Notes:<br/>[1] Standard Errors assume that the covariance matrix of the errors is correctly specified."
      ],
      "text/latex": [
       "\\begin{center}\n",
       "\\begin{tabular}{lclc}\n",
       "\\toprule\n",
       "\\textbf{Dep. Variable:}    &      weight      & \\textbf{  R-squared:         } &     0.979   \\\\\n",
       "\\textbf{Model:}            &       OLS        & \\textbf{  Adj. R-squared:    } &     0.979   \\\\\n",
       "\\textbf{Method:}           &  Least Squares   & \\textbf{  F-statistic:       } &     3189.   \\\\\n",
       "\\textbf{Date:}             & Tue, 31 Oct 2023 & \\textbf{  Prob (F-statistic):} &  7.22e-59   \\\\\n",
       "\\textbf{Time:}             &     22:26:39     & \\textbf{  Log-Likelihood:    } &   -457.86   \\\\\n",
       "\\textbf{No. Observations:} &          70      & \\textbf{  AIC:               } &     919.7   \\\\\n",
       "\\textbf{Df Residuals:}     &          68      & \\textbf{  BIC:               } &     924.2   \\\\\n",
       "\\textbf{Df Model:}         &           1      & \\textbf{                     } &             \\\\\n",
       "\\textbf{Covariance Type:}  &    nonrobust     & \\textbf{                     } &             \\\\\n",
       "\\bottomrule\n",
       "\\end{tabular}\n",
       "\\begin{tabular}{lcccccc}\n",
       "                   & \\textbf{coef} & \\textbf{std err} & \\textbf{t} & \\textbf{P$> |$t$|$} & \\textbf{[0.025} & \\textbf{0.975]}  \\\\\n",
       "\\midrule\n",
       "\\textbf{Intercept} &    -295.8671  &       41.102     &    -7.198  &         0.000        &     -377.885    &     -213.850     \\\\\n",
       "\\textbf{day}       &      56.8216  &        1.006     &    56.470  &         0.000        &       54.814    &       58.830     \\\\\n",
       "\\bottomrule\n",
       "\\end{tabular}\n",
       "\\begin{tabular}{lclc}\n",
       "\\textbf{Omnibus:}       &  3.866 & \\textbf{  Durbin-Watson:     } &    0.025  \\\\\n",
       "\\textbf{Prob(Omnibus):} &  0.145 & \\textbf{  Jarque-Bera (JB):  } &    2.079  \\\\\n",
       "\\textbf{Skew:}          & -0.133 & \\textbf{  Prob(JB):          } &    0.354  \\\\\n",
       "\\textbf{Kurtosis:}      &  2.199 & \\textbf{  Cond. No.          } &     82.6  \\\\\n",
       "\\bottomrule\n",
       "\\end{tabular}\n",
       "%\\caption{OLS Regression Results}\n",
       "\\end{center}\n",
       "\n",
       "Notes: \\newline\n",
       " [1] Standard Errors assume that the covariance matrix of the errors is correctly specified."
      ],
      "text/plain": [
       "<class 'statsmodels.iolib.summary.Summary'>\n",
       "\"\"\"\n",
       "                            OLS Regression Results                            \n",
       "==============================================================================\n",
       "Dep. Variable:                 weight   R-squared:                       0.979\n",
       "Model:                            OLS   Adj. R-squared:                  0.979\n",
       "Method:                 Least Squares   F-statistic:                     3189.\n",
       "Date:                Tue, 31 Oct 2023   Prob (F-statistic):           7.22e-59\n",
       "Time:                        22:26:39   Log-Likelihood:                -457.86\n",
       "No. Observations:                  70   AIC:                             919.7\n",
       "Df Residuals:                      68   BIC:                             924.2\n",
       "Df Model:                           1                                         \n",
       "Covariance Type:            nonrobust                                         \n",
       "==============================================================================\n",
       "                 coef    std err          t      P>|t|      [0.025      0.975]\n",
       "------------------------------------------------------------------------------\n",
       "Intercept   -295.8671     41.102     -7.198      0.000    -377.885    -213.850\n",
       "day           56.8216      1.006     56.470      0.000      54.814      58.830\n",
       "==============================================================================\n",
       "Omnibus:                        3.866   Durbin-Watson:                   0.025\n",
       "Prob(Omnibus):                  0.145   Jarque-Bera (JB):                2.079\n",
       "Skew:                          -0.133   Prob(JB):                        0.354\n",
       "Kurtosis:                       2.199   Cond. No.                         82.6\n",
       "==============================================================================\n",
       "\n",
       "Notes:\n",
       "[1] Standard Errors assume that the covariance matrix of the errors is correctly specified.\n",
       "\"\"\""
      ]
     },
     "execution_count": 147,
     "metadata": {},
     "output_type": "execute_result"
    }
   ],
   "source": [
    "#################################################### 비선형 회귀분석 하기 전, 선형 회귀분석 \n",
    "# 성장기간(day)에 따른 병아리 몸무게(weight)변화 선형 회귀 모델 구축 \n",
    "\n",
    "model_lm2 = smf.ols(formula = 'weight ~ day', data = w2)\n",
    "\n",
    "########################## 모델 학습\n",
    "result_lm2 = model_lm2.fit()\n",
    "\n",
    "########################## 모델 결과 확인 \n",
    "result_lm2.summary()"
   ]
  },
  {
   "cell_type": "markdown",
   "id": "e27338cb-a08c-4874-9e05-45d0223755f7",
   "metadata": {},
   "source": [
    "## 결과 \n",
    "- R2 : 0.979 이기에 다소 높은 회귀모델이라고 확인.\n",
    "- P>|t| : 개별 독립변수의 p값도 0.000으로서 0.05보다 낮아, 95% 신뢰수준에서 모두 유의함을 확인."
   ]
  },
  {
   "cell_type": "code",
   "execution_count": 151,
   "id": "2c168600-ac0a-4d52-8507-b57d4c195a85",
   "metadata": {},
   "outputs": [
    {
     "data": {
      "image/png": "[encoded data removed]",
      "text/plain": [
       "<Figure size 800x500 with 1 Axes>"
      ]
     },
     "metadata": {},
     "output_type": "display_data"
    }
   ],
   "source": [
    "#################################################### 비선형 회귀분석 하기 전, 선형 회귀분석 \n",
    "# 회귀분석 결과를 이용하여, 산점도에 적합한 회귀직선을 추가 \n",
    "# 성장기간(day)에 따른 병아리 몸무게(weight)변화 \n",
    "\n",
    "# 네모칸 \n",
    "plt.figure(figsize = (8,5))\n",
    "\n",
    "# x축에 성장기간, y축에 몸무게 , 그리고 산점도 투명도 0.5 \n",
    "plt.scatter(w2.day, w2.weight, alpha = .5)\n",
    "\n",
    "# 선형으로 예측된 회귀선 그리기 (day * day의 coef - Intercept의 coef)\n",
    "plt.plot(w2.day, w2.day*56.8216 - 295.8671, color = 'red')\n",
    "\n",
    "# y = ( day의 coef * day ) - Intercept의 coef 를 텍스트 \n",
    "plt.text(40,500,'weight = 56.8216 * day - 295.8671', fontsize = 10)\n",
    "\n",
    "plt.title('성장기간에 따른 병아리 몸무게 변화 선형 회귀직선과 산점도')\n",
    "plt.xlabel('day')\n",
    "plt.ylabel('weight')\n",
    "plt.show()"
   ]
  },
  {
   "cell_type": "markdown",
   "id": "7bc834bd-397c-43cd-9bbf-e3eda0078fe2",
   "metadata": {},
   "source": [
    "산점도와 직선을 같이 표시하고 보니, 편차가 존재하는 구간들로 인해 회귀모델 성능이 다소 아쉽다. <br>\n",
    "\n",
    "**독립변수x(day)를 세제곱**시켜, 종속변수y(weight)을 잘 표현할 수 있는지 확인하겠습니다."
   ]
  },
  {
   "cell_type": "code",
   "execution_count": 156,
   "id": "3fcbf4a0-fb8a-41b7-99ec-ffcdac7db9b7",
   "metadata": {},
   "outputs": [
    {
     "data": {
      "text/html": [
       "<table class=\"simpletable\">\n",
       "<caption>OLS Regression Results</caption>\n",
       "<tr>\n",
       "  <th>Dep. Variable:</th>         <td>weight</td>      <th>  R-squared:         </th> <td>   1.000</td> \n",
       "</tr>\n",
       "<tr>\n",
       "  <th>Model:</th>                   <td>OLS</td>       <th>  Adj. R-squared:    </th> <td>   0.999</td> \n",
       "</tr>\n",
       "<tr>\n",
       "  <th>Method:</th>             <td>Least Squares</td>  <th>  F-statistic:       </th> <td>4.407e+04</td>\n",
       "</tr>\n",
       "<tr>\n",
       "  <th>Date:</th>             <td>Tue, 31 Oct 2023</td> <th>  Prob (F-statistic):</th> <td>7.13e-109</td>\n",
       "</tr>\n",
       "<tr>\n",
       "  <th>Time:</th>                 <td>22:43:12</td>     <th>  Log-Likelihood:    </th> <td> -327.17</td> \n",
       "</tr>\n",
       "<tr>\n",
       "  <th>No. Observations:</th>      <td>    70</td>      <th>  AIC:               </th> <td>   662.3</td> \n",
       "</tr>\n",
       "<tr>\n",
       "  <th>Df Residuals:</th>          <td>    66</td>      <th>  BIC:               </th> <td>   671.3</td> \n",
       "</tr>\n",
       "<tr>\n",
       "  <th>Df Model:</th>              <td>     3</td>      <th>                     </th>     <td> </td>    \n",
       "</tr>\n",
       "<tr>\n",
       "  <th>Covariance Type:</th>      <td>nonrobust</td>    <th>                     </th>     <td> </td>    \n",
       "</tr>\n",
       "</table>\n",
       "<table class=\"simpletable\">\n",
       "<tr>\n",
       "       <td></td>          <th>coef</th>     <th>std err</th>      <th>t</th>      <th>P>|t|</th>  <th>[0.025</th>    <th>0.975]</th>  \n",
       "</tr>\n",
       "<tr>\n",
       "  <th>Intercept</th>   <td>  117.0141</td> <td>   13.476</td> <td>    8.683</td> <td> 0.000</td> <td>   90.108</td> <td>  143.920</td>\n",
       "</tr>\n",
       "<tr>\n",
       "  <th>I(day ** 3)</th> <td>   -0.0253</td> <td>    0.000</td> <td>  -51.312</td> <td> 0.000</td> <td>   -0.026</td> <td>   -0.024</td>\n",
       "</tr>\n",
       "<tr>\n",
       "  <th>I(day ** 2)</th> <td>    2.6241</td> <td>    0.053</td> <td>   49.314</td> <td> 0.000</td> <td>    2.518</td> <td>    2.730</td>\n",
       "</tr>\n",
       "<tr>\n",
       "  <th>day</th>         <td>  -15.2978</td> <td>    1.632</td> <td>   -9.373</td> <td> 0.000</td> <td>  -18.557</td> <td>  -12.039</td>\n",
       "</tr>\n",
       "</table>\n",
       "<table class=\"simpletable\">\n",
       "<tr>\n",
       "  <th>Omnibus:</th>       <td> 6.702</td> <th>  Durbin-Watson:     </th> <td>   0.082</td>\n",
       "</tr>\n",
       "<tr>\n",
       "  <th>Prob(Omnibus):</th> <td> 0.035</td> <th>  Jarque-Bera (JB):  </th> <td>   2.680</td>\n",
       "</tr>\n",
       "<tr>\n",
       "  <th>Skew:</th>          <td> 0.103</td> <th>  Prob(JB):          </th> <td>   0.262</td>\n",
       "</tr>\n",
       "<tr>\n",
       "  <th>Kurtosis:</th>      <td> 2.064</td> <th>  Cond. No.          </th> <td>5.65e+05</td>\n",
       "</tr>\n",
       "</table><br/><br/>Notes:<br/>[1] Standard Errors assume that the covariance matrix of the errors is correctly specified.<br/>[2] The condition number is large, 5.65e+05. This might indicate that there are<br/>strong multicollinearity or other numerical problems."
      ],
      "text/latex": [
       "\\begin{center}\n",
       "\\begin{tabular}{lclc}\n",
       "\\toprule\n",
       "\\textbf{Dep. Variable:}    &      weight      & \\textbf{  R-squared:         } &     1.000   \\\\\n",
       "\\textbf{Model:}            &       OLS        & \\textbf{  Adj. R-squared:    } &     0.999   \\\\\n",
       "\\textbf{Method:}           &  Least Squares   & \\textbf{  F-statistic:       } & 4.407e+04   \\\\\n",
       "\\textbf{Date:}             & Tue, 31 Oct 2023 & \\textbf{  Prob (F-statistic):} & 7.13e-109   \\\\\n",
       "\\textbf{Time:}             &     22:43:12     & \\textbf{  Log-Likelihood:    } &   -327.17   \\\\\n",
       "\\textbf{No. Observations:} &          70      & \\textbf{  AIC:               } &     662.3   \\\\\n",
       "\\textbf{Df Residuals:}     &          66      & \\textbf{  BIC:               } &     671.3   \\\\\n",
       "\\textbf{Df Model:}         &           3      & \\textbf{                     } &             \\\\\n",
       "\\textbf{Covariance Type:}  &    nonrobust     & \\textbf{                     } &             \\\\\n",
       "\\bottomrule\n",
       "\\end{tabular}\n",
       "\\begin{tabular}{lcccccc}\n",
       "                     & \\textbf{coef} & \\textbf{std err} & \\textbf{t} & \\textbf{P$> |$t$|$} & \\textbf{[0.025} & \\textbf{0.975]}  \\\\\n",
       "\\midrule\n",
       "\\textbf{Intercept}   &     117.0141  &       13.476     &     8.683  &         0.000        &       90.108    &      143.920     \\\\\n",
       "\\textbf{I(day ** 3)} &      -0.0253  &        0.000     &   -51.312  &         0.000        &       -0.026    &       -0.024     \\\\\n",
       "\\textbf{I(day ** 2)} &       2.6241  &        0.053     &    49.314  &         0.000        &        2.518    &        2.730     \\\\\n",
       "\\textbf{day}         &     -15.2978  &        1.632     &    -9.373  &         0.000        &      -18.557    &      -12.039     \\\\\n",
       "\\bottomrule\n",
       "\\end{tabular}\n",
       "\\begin{tabular}{lclc}\n",
       "\\textbf{Omnibus:}       &  6.702 & \\textbf{  Durbin-Watson:     } &    0.082  \\\\\n",
       "\\textbf{Prob(Omnibus):} &  0.035 & \\textbf{  Jarque-Bera (JB):  } &    2.680  \\\\\n",
       "\\textbf{Skew:}          &  0.103 & \\textbf{  Prob(JB):          } &    0.262  \\\\\n",
       "\\textbf{Kurtosis:}      &  2.064 & \\textbf{  Cond. No.          } & 5.65e+05  \\\\\n",
       "\\bottomrule\n",
       "\\end{tabular}\n",
       "%\\caption{OLS Regression Results}\n",
       "\\end{center}\n",
       "\n",
       "Notes: \\newline\n",
       " [1] Standard Errors assume that the covariance matrix of the errors is correctly specified. \\newline\n",
       " [2] The condition number is large, 5.65e+05. This might indicate that there are \\newline\n",
       " strong multicollinearity or other numerical problems."
      ],
      "text/plain": [
       "<class 'statsmodels.iolib.summary.Summary'>\n",
       "\"\"\"\n",
       "                            OLS Regression Results                            \n",
       "==============================================================================\n",
       "Dep. Variable:                 weight   R-squared:                       1.000\n",
       "Model:                            OLS   Adj. R-squared:                  0.999\n",
       "Method:                 Least Squares   F-statistic:                 4.407e+04\n",
       "Date:                Tue, 31 Oct 2023   Prob (F-statistic):          7.13e-109\n",
       "Time:                        22:43:12   Log-Likelihood:                -327.17\n",
       "No. Observations:                  70   AIC:                             662.3\n",
       "Df Residuals:                      66   BIC:                             671.3\n",
       "Df Model:                           3                                         \n",
       "Covariance Type:            nonrobust                                         \n",
       "===============================================================================\n",
       "                  coef    std err          t      P>|t|      [0.025      0.975]\n",
       "-------------------------------------------------------------------------------\n",
       "Intercept     117.0141     13.476      8.683      0.000      90.108     143.920\n",
       "I(day ** 3)    -0.0253      0.000    -51.312      0.000      -0.026      -0.024\n",
       "I(day ** 2)     2.6241      0.053     49.314      0.000       2.518       2.730\n",
       "day           -15.2978      1.632     -9.373      0.000     -18.557     -12.039\n",
       "==============================================================================\n",
       "Omnibus:                        6.702   Durbin-Watson:                   0.082\n",
       "Prob(Omnibus):                  0.035   Jarque-Bera (JB):                2.680\n",
       "Skew:                           0.103   Prob(JB):                        0.262\n",
       "Kurtosis:                       2.064   Cond. No.                     5.65e+05\n",
       "==============================================================================\n",
       "\n",
       "Notes:\n",
       "[1] Standard Errors assume that the covariance matrix of the errors is correctly specified.\n",
       "[2] The condition number is large, 5.65e+05. This might indicate that there are\n",
       "strong multicollinearity or other numerical problems.\n",
       "\"\"\""
      ]
     },
     "execution_count": 156,
     "metadata": {},
     "output_type": "execute_result"
    }
   ],
   "source": [
    "#################################################### 비선형 회귀분석 \n",
    "\n",
    "# 성장기간에 따른 병아리 몸무게 변화 비선형회귀 모델 구축 \n",
    "# 세제곱 하기 위해서는 I 함수 이용 \n",
    "# 종속 변수(y)는 weight이고, 독립 변수(x)로 day의 세제곱, 제곱, 그리고 일차항을 사용합니다.\n",
    "model_nlm = smf.ols(formula = 'weight ~ I(day**3) + I(day**2) + day', data = w2)\n",
    "\n",
    "# 모델 학습 \n",
    "result_nlm = model_nlm.fit()\n",
    "\n",
    "# 모델 결과 확인 \n",
    "result_nlm.summary()"
   ]
  },
  {
   "cell_type": "markdown",
   "id": "1127dda2-fa39-4366-9b93-b2d6abe04f56",
   "metadata": {},
   "source": [
    "![](https://velog.velcdn.com/images/beckhye/post/c964e3b8-80a7-4b4c-963f-5683214b4f2d/image.png)"
   ]
  },
  {
   "cell_type": "markdown",
   "id": "47b20ff3-fd83-4f70-b453-71cdf1c6722d",
   "metadata": {},
   "source": [
    "## 결과 \n",
    "R2 : 1.0 이다. <br>\n",
    "산점도를 다시 그리고, 회귀분석 결과를 이용하여 산점도 위 적합한 회귀곡선을 추가하겠다."
   ]
  },
  {
   "cell_type": "code",
   "execution_count": 158,
   "id": "5f11f8ab-991f-4df3-92f8-1c1f45773680",
   "metadata": {},
   "outputs": [
    {
     "data": {
      "image/png": "[encoded data removed]",
      "text/plain": [
       "<Figure size 800x500 with 1 Axes>"
      ]
     },
     "metadata": {},
     "output_type": "display_data"
    }
   ],
   "source": [
    "#################################################### 비선형 회귀분석 그래프\n",
    "# 회귀분석 결과를 이용하여, 산점도에 적합한 회귀곡선을 추가 \n",
    "# 성장기간(day)에 따른 병아리 몸무게(weight)변화 \n",
    "\n",
    "# 네모칸 \n",
    "plt.figure(figsize = (8,5))\n",
    "\n",
    "# x축에 성장기간, y축에 몸무게 , 그리고 산점도 투명도 0.5 \n",
    "plt.scatter(w2.day, w2.weight, alpha = .5)\n",
    "\n",
    "###################### 비선형으로 예측된 회귀선 그리기 \n",
    "plt.plot(w2.day, (w2.day**3)*(-0.0253)+(w2.day**2)*2.6241 + w2.day*(-15.2978)+117.0141, color ='red')\n",
    "\n",
    "# y = ( day의 coef * day ) - Intercept의 coef 를 텍스트 \n",
    "plt.text(0,3200, 'weight= -0.0253(day^3)+2.6241(day^2)-15.2978*day + 117.0141', fontsize=10)\n",
    "\n",
    "plt.title('성장기간에 따른 병아리 몸무게 변화 비선형회귀곡선과 산점도')\n",
    "plt.xlabel('day')\n",
    "plt.ylabel('weight')\n",
    "plt.show()"
   ]
  },
  {
   "cell_type": "markdown",
   "id": "2dc7264a-2a0f-402f-bf10-3b09a2a945d5",
   "metadata": {},
   "source": [
    "# 6. 병아리의 성별을 구분할 수 있을까요? (로지스틱 회귀)"
   ]
  },
  {
   "cell_type": "code",
   "execution_count": null,
   "id": "d832a3ea-25b9-4af2-9e36-9718d3733923",
   "metadata": {},
   "outputs": [],
   "source": []
  }
 ],
 "metadata": {
  "kernelspec": {
   "display_name": "Python 3 (ipykernel)",
   "language": "python",
   "name": "python3"
  },
  "language_info": {
   "codemirror_mode": {
    "name": "ipython",
    "version": 3
   },
   "file_extension": ".py",
   "mimetype": "text/x-python",
   "name": "python",
   "nbconvert_exporter": "python",
   "pygments_lexer": "ipython3",
   "version": "3.10.11"
  }
 },
 "nbformat": 4,
 "nbformat_minor": 5
}
