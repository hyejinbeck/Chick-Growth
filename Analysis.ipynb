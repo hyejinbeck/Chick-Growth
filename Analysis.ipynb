{
 "cells": [
  {
   "cell_type": "markdown",
   "id": "cafa79e9-f248-48dc-b36b-c8be89e3bdb9",
   "metadata": {},
   "source": [
    "---\n",
    "\n",
    "데이터 수치가 복잡하지 않아, 전처리 과정은 생략합니다. \n",
    "\n",
    "---"
   ]
  },
  {
   "cell_type": "markdown",
   "id": "4de2b7ea-4eb1-48c8-bfe4-da83db0b761f",
   "metadata": {},
   "source": [
    "# 1. 몇 마리가 부화했고, 부화율은 얼마나 될까요?  "
   ]
  },
  {
   "cell_type": "code",
   "execution_count": 1,
   "id": "33c320f1-7954-4a6a-916c-97b9539526a4",
   "metadata": {},
   "outputs": [
    {
     "data": {
      "text/html": [
       "<div>\n",
       "<style scoped>\n",
       "    .dataframe tbody tr th:only-of-type {\n",
       "        vertical-align: middle;\n",
       "    }\n",
       "\n",
       "    .dataframe tbody tr th {\n",
       "        vertical-align: top;\n",
       "    }\n",
       "\n",
       "    .dataframe thead th {\n",
       "        text-align: right;\n",
       "    }\n",
       "</style>\n",
       "<table border=\"1\" class=\"dataframe\">\n",
       "  <thead>\n",
       "    <tr style=\"text-align: right;\">\n",
       "      <th></th>\n",
       "      <th>hatchery</th>\n",
       "      <th>chick</th>\n",
       "    </tr>\n",
       "  </thead>\n",
       "  <tbody>\n",
       "    <tr>\n",
       "      <th>0</th>\n",
       "      <td>A</td>\n",
       "      <td>30</td>\n",
       "    </tr>\n",
       "    <tr>\n",
       "      <th>1</th>\n",
       "      <td>B</td>\n",
       "      <td>30</td>\n",
       "    </tr>\n",
       "    <tr>\n",
       "      <th>2</th>\n",
       "      <td>C</td>\n",
       "      <td>29</td>\n",
       "    </tr>\n",
       "    <tr>\n",
       "      <th>3</th>\n",
       "      <td>D</td>\n",
       "      <td>26</td>\n",
       "    </tr>\n",
       "    <tr>\n",
       "      <th>4</th>\n",
       "      <td>E</td>\n",
       "      <td>24</td>\n",
       "    </tr>\n",
       "    <tr>\n",
       "      <th>5</th>\n",
       "      <td>F</td>\n",
       "      <td>28</td>\n",
       "    </tr>\n",
       "    <tr>\n",
       "      <th>6</th>\n",
       "      <td>G</td>\n",
       "      <td>27</td>\n",
       "    </tr>\n",
       "  </tbody>\n",
       "</table>\n",
       "</div>"
      ],
      "text/plain": [
       "  hatchery  chick\n",
       "0        A     30\n",
       "1        B     30\n",
       "2        C     29\n",
       "3        D     26\n",
       "4        E     24\n",
       "5        F     28\n",
       "6        G     27"
      ]
     },
     "execution_count": 1,
     "metadata": {},
     "output_type": "execute_result"
    }
   ],
   "source": [
    "########################## 라이브러리 \n",
    "\n",
    "# !pip install pandas\n",
    "# !pip install --upgrade pip\n",
    "# !pip install numpy\n",
    "import pandas as pd\n",
    "import numpy as np\n",
    "\n",
    "########################## 데이터 불러오기 \n",
    "data_1 = {\n",
    "    'hatchery': ['A', 'B', 'C', 'D', 'E', 'F', 'G'],\n",
    "    'chick': [30, 30, 29, 26, 24, 28, 27],\n",
    "}\n",
    "hat = pd.DataFrame(data_1)\n",
    "########################## 데이터 확인 \n",
    "hat"
   ]
  },
  {
   "cell_type": "code",
   "execution_count": 2,
   "id": "cb86dd19-46d6-4b30-b60f-630ddf40faf5",
   "metadata": {},
   "outputs": [],
   "source": [
    "########################## 컬럼 추가 : 각 hatchery 부화장 당 달걀의 갯수는 30개임\n",
    "# 'eggs' 열 추가\n",
    "hat['eggs'] = [30, 30, 30, 30, 30, 30, 30]"
   ]
  },
  {
   "cell_type": "markdown",
   "id": "3b6b5e1e-9f5f-4ea7-b6c5-054f1bf0036f",
   "metadata": {},
   "source": [
    "**hatchery** : 부화장 수 <br> \n",
    "**eggs** : 처음 준비한 달걀 수 <br>\n",
    "**chick** : 그 중에서 부화한 병아리의 수 "
   ]
  },
  {
   "cell_type": "code",
   "execution_count": 3,
   "id": "da5e474e-601d-4ec5-b0b5-c4d3365e5b69",
   "metadata": {},
   "outputs": [
    {
     "data": {
      "text/html": [
       "<div>\n",
       "<style scoped>\n",
       "    .dataframe tbody tr th:only-of-type {\n",
       "        vertical-align: middle;\n",
       "    }\n",
       "\n",
       "    .dataframe tbody tr th {\n",
       "        vertical-align: top;\n",
       "    }\n",
       "\n",
       "    .dataframe thead th {\n",
       "        text-align: right;\n",
       "    }\n",
       "</style>\n",
       "<table border=\"1\" class=\"dataframe\">\n",
       "  <thead>\n",
       "    <tr style=\"text-align: right;\">\n",
       "      <th></th>\n",
       "      <th>chick</th>\n",
       "      <th>eggs</th>\n",
       "    </tr>\n",
       "  </thead>\n",
       "  <tbody>\n",
       "    <tr>\n",
       "      <th>count</th>\n",
       "      <td>7.000000</td>\n",
       "      <td>7.0</td>\n",
       "    </tr>\n",
       "    <tr>\n",
       "      <th>mean</th>\n",
       "      <td>27.714286</td>\n",
       "      <td>30.0</td>\n",
       "    </tr>\n",
       "    <tr>\n",
       "      <th>std</th>\n",
       "      <td>2.214670</td>\n",
       "      <td>0.0</td>\n",
       "    </tr>\n",
       "    <tr>\n",
       "      <th>min</th>\n",
       "      <td>24.000000</td>\n",
       "      <td>30.0</td>\n",
       "    </tr>\n",
       "    <tr>\n",
       "      <th>25%</th>\n",
       "      <td>26.500000</td>\n",
       "      <td>30.0</td>\n",
       "    </tr>\n",
       "    <tr>\n",
       "      <th>50%</th>\n",
       "      <td>28.000000</td>\n",
       "      <td>30.0</td>\n",
       "    </tr>\n",
       "    <tr>\n",
       "      <th>75%</th>\n",
       "      <td>29.500000</td>\n",
       "      <td>30.0</td>\n",
       "    </tr>\n",
       "    <tr>\n",
       "      <th>max</th>\n",
       "      <td>30.000000</td>\n",
       "      <td>30.0</td>\n",
       "    </tr>\n",
       "  </tbody>\n",
       "</table>\n",
       "</div>"
      ],
      "text/plain": [
       "           chick  eggs\n",
       "count   7.000000   7.0\n",
       "mean   27.714286  30.0\n",
       "std     2.214670   0.0\n",
       "min    24.000000  30.0\n",
       "25%    26.500000  30.0\n",
       "50%    28.000000  30.0\n",
       "75%    29.500000  30.0\n",
       "max    30.000000  30.0"
      ]
     },
     "execution_count": 3,
     "metadata": {},
     "output_type": "execute_result"
    }
   ],
   "source": [
    "########################## 톰계치 구하는 함수 \n",
    "hat.describe()\n",
    "\n",
    "# 1개의 부화장 당 평균 27.7 마리가 부화했다. \n",
    "# 1개의 부화장 당 24마리 ~ 30마리가 부화했다. "
   ]
  },
  {
   "cell_type": "code",
   "execution_count": 4,
   "id": "7cf7a180-b056-4f1f-9a4f-ad2aa72d43b1",
   "metadata": {},
   "outputs": [
    {
     "data": {
      "text/html": [
       "<div>\n",
       "<style scoped>\n",
       "    .dataframe tbody tr th:only-of-type {\n",
       "        vertical-align: middle;\n",
       "    }\n",
       "\n",
       "    .dataframe tbody tr th {\n",
       "        vertical-align: top;\n",
       "    }\n",
       "\n",
       "    .dataframe thead th {\n",
       "        text-align: right;\n",
       "    }\n",
       "</style>\n",
       "<table border=\"1\" class=\"dataframe\">\n",
       "  <thead>\n",
       "    <tr style=\"text-align: right;\">\n",
       "      <th></th>\n",
       "      <th>hatchery</th>\n",
       "      <th>chick</th>\n",
       "      <th>eggs</th>\n",
       "    </tr>\n",
       "  </thead>\n",
       "  <tbody>\n",
       "    <tr>\n",
       "      <th>4</th>\n",
       "      <td>E</td>\n",
       "      <td>24</td>\n",
       "      <td>30</td>\n",
       "    </tr>\n",
       "    <tr>\n",
       "      <th>3</th>\n",
       "      <td>D</td>\n",
       "      <td>26</td>\n",
       "      <td>30</td>\n",
       "    </tr>\n",
       "    <tr>\n",
       "      <th>6</th>\n",
       "      <td>G</td>\n",
       "      <td>27</td>\n",
       "      <td>30</td>\n",
       "    </tr>\n",
       "    <tr>\n",
       "      <th>5</th>\n",
       "      <td>F</td>\n",
       "      <td>28</td>\n",
       "      <td>30</td>\n",
       "    </tr>\n",
       "    <tr>\n",
       "      <th>2</th>\n",
       "      <td>C</td>\n",
       "      <td>29</td>\n",
       "      <td>30</td>\n",
       "    </tr>\n",
       "    <tr>\n",
       "      <th>0</th>\n",
       "      <td>A</td>\n",
       "      <td>30</td>\n",
       "      <td>30</td>\n",
       "    </tr>\n",
       "    <tr>\n",
       "      <th>1</th>\n",
       "      <td>B</td>\n",
       "      <td>30</td>\n",
       "      <td>30</td>\n",
       "    </tr>\n",
       "  </tbody>\n",
       "</table>\n",
       "</div>"
      ],
      "text/plain": [
       "  hatchery  chick  eggs\n",
       "4        E     24    30\n",
       "3        D     26    30\n",
       "6        G     27    30\n",
       "5        F     28    30\n",
       "2        C     29    30\n",
       "0        A     30    30\n",
       "1        B     30    30"
      ]
     },
     "execution_count": 4,
     "metadata": {},
     "output_type": "execute_result"
    }
   ],
   "source": [
    "########################## 부화한 병아리 수 기준으로 정렬 \n",
    "hat.sort_values(by=['chick'],ascending=True)   # 오름차순 \n",
    "\n",
    "#hat.sort_values(by=['chick'],ascending=False) # 내림차순 "
   ]
  },
  {
   "cell_type": "code",
   "execution_count": 5,
   "id": "a5f0b563-f4e3-480d-93dd-81190de3088b",
   "metadata": {},
   "outputs": [
    {
     "data": {
      "image/png": "[encoded data removed]",
      "text/plain": [
       "<Figure size 640x480 with 1 Axes>"
      ]
     },
     "metadata": {},
     "output_type": "display_data"
    }
   ],
   "source": [
    "########################## '부화장'별 '부화한 병아리'갯수 그래프화 \n",
    "#!pip install matplotlib\n",
    "import matplotlib.pyplot as plt\n",
    "########################## bar 차트 \n",
    "plt.bar(hat['hatchery'],hat['chick'])\n",
    "plt.show()"
   ]
  },
  {
   "cell_type": "code",
   "execution_count": 6,
   "id": "0617105b-7e42-4e81-937a-60659123b86a",
   "metadata": {},
   "outputs": [],
   "source": [
    "########################## 그래프 한글폰트 적용 \n",
    "\n",
    "# 불필요한 경고 메시지 무시\n",
    "import warnings\n",
    "warnings.filterwarnings('ignore')\n",
    "\n",
    "# 여기서 Matplotlib 코드를 사용하여 그래프 생성 및 표시\n",
    "%matplotlib inline  \n",
    "\n",
    "# 한글폰트\n",
    "# !sudo apt-get install -y fonts-nanum\n",
    "# !sudo fc-cache -fv\n",
    "# !rm ~/.cache/matplotlib -rf\n",
    "# plt.rc('font', family='NanumBarunGothic')\n",
    "plt.rc('font', family='AppleGothic') #맥 \n",
    "plt.rcParams['axes.unicode_minus'] = False #부호"
   ]
  },
  {
   "cell_type": "code",
   "execution_count": 7,
   "id": "4867c595-1fb2-47af-846a-9f3fc8117e62",
   "metadata": {},
   "outputs": [
    {
     "data": {
      "image/png": "[encoded data removed]",
      "text/plain": [
       "<Figure size 2000x500 with 4 Axes>"
      ]
     },
     "metadata": {},
     "output_type": "display_data"
    }
   ],
   "source": [
    "########################## '부화장'별 '부화한 병아리'갯수 그래프 응용 \n",
    "#!pip install matplotlib\n",
    "#import matplotlib.pyplot as plt\n",
    "\n",
    "########################## 1행 4열 그래프 준비 \n",
    "plt.figure(figsize=(20,5))\n",
    "\n",
    "###  1  ####################### '부화한 병아리'수로 오름차순 정렬 \n",
    "hat_sorted = hat.sort_values(by='chick',ascending=True)\n",
    "\n",
    "plt.subplot(1,4,1) \n",
    "plt.bar(hat_sorted['hatchery'],hat_sorted['chick'])\n",
    "plt.title('1.부화병아리 오름차순 기본 정렬')\n",
    "\n",
    "###  2  ####################### 가장 적은 부화한 병아리 수가 있는 E 양계장 bar 색상만 변경 \n",
    "#colors = ['skyblue' if hatch != 'E' else 'orange' for hatch in hat['hatchery']]\n",
    "colors = ['orange' if h == 'A' else 'hotpink' if h == 'E' else 'skyblue' for h in hat['hatchery']]\n",
    "\n",
    "plt.subplot(1,4,2)\n",
    "plt.bar(hat['hatchery'], hat['chick'], color=colors)\n",
    "plt.title('2. 가장 많은/적은 양계장 bar색상 지정')\n",
    "\n",
    "###  3  ####################### '부화한 병아리'수로 내림차순 정렬 \n",
    "hat_sorted_false = hat.sort_values(by='chick',ascending=False)\n",
    "\n",
    "########### seaborn팔레트 색상 지정 \n",
    "#!pip install seaborn\n",
    "import seaborn as sns\n",
    "col7 = sns.color_palette('tab20c',7)\n",
    "###########\n",
    "plt.subplot(1,4,3)\n",
    "plt.bar(hat_sorted_false['hatchery'],hat_sorted_false['chick'], color = col7 , edgecolor = 'black')\n",
    "plt.title('3. 색상차트이용 내림차순 정렬', fontsize = 8)\n",
    "plt.xlabel('부화장')\n",
    "plt.ylabel('부화한 병아리수')\n",
    "\n",
    "###  4  ####################### 각bar수치값 기재 + 최대값 점선 추가\n",
    "\n",
    "def addtext(x,y): \n",
    "    for i in range(len(x)):   # x(컬럼)에 있는 값 하나하나\n",
    "        plt.text(              # 차트위에 표시할거에요. \n",
    "            i,\n",
    "            y[i] - 1.5,        # x값 하나하나 (i) y수치값 적을 위치 \n",
    "            y[i], \n",
    "            ha = 'center'\n",
    "        )\n",
    "\n",
    "plt.subplot(1,4,4)\n",
    "plt.bar(hat['hatchery'], hat['chick'], color='skyblue')\n",
    "plt.hlines(30,-1,7,colors = 'red',linestyles = 'dashed')    # 최대치 점선 표시 \n",
    "addtext(hat['hatchery'],hat['chick'])                       # 각 수치값 기재 \n",
    "plt.title('4.빨간 점섬으로 최대치 표시')\n",
    "plt.xlabel('부화장')\n",
    "plt.ylabel('부화한 병아리수')\n",
    "\n",
    "plt.show()\n",
    "\n",
    "########################## 4개 모두 동일 내용이지만, 더 나은 그래프 형태를 파악하기 위해 4개로 제작함 "
   ]
  },
  {
   "cell_type": "code",
   "execution_count": 8,
   "id": "af3a32ee-7047-4f3c-8b0f-83c3a69d9e62",
   "metadata": {},
   "outputs": [
    {
     "name": "stdout",
     "output_type": "stream",
     "text": [
      "7 개의 양계장에서 각 30.0개씩, 총 210 개의 알들이 있었습니다.\n",
      "현재까지 총194마리 병아리가 부화하였고, 아직 부화하지 않은 16의 알이 있어, 부화율은 92.4%입니다.\n",
      "가장 많이 부화한 양계장은 ['A' 'B']이고, 30마리가 부화했습니다.\n",
      "가장 적게 부화한 양계장은 ['E']이고, 24마리가 부화했습니다.\n",
      "두 양계장의 차이는 6마리 입니다.\n"
     ]
    }
   ],
   "source": [
    "########################## 총 부화한 마리갯수 파악 \n",
    "hatchery_sum = hat['hatchery'].count()   # 양계장 갯수 \n",
    "eggs_sum = hat['eggs'].sum()             # 알의 갯수 \n",
    "chick_sum = hat['chick'].sum()           # 그 중 부화한 병아리 마리 수\n",
    "not_chick = eggs_sum - chick_sum\n",
    "print(f'{hatchery_sum} 개의 양계장에서 각 {eggs_sum / hatchery_sum}개씩, 총 {eggs_sum} 개의 알들이 있었습니다.')\n",
    "\n",
    "########################## 부화율 파악 \n",
    "# (부화한 병아리 마리수 / 총 알의 갯수) * 100 \n",
    "hatch_rate = ( chick_sum/eggs_sum ) * 100\n",
    "print(f'현재까지 총{chick_sum}마리 병아리가 부화하였고, 아직 부화하지 않은 {not_chick}의 알이 있어, 부화율은 {hatch_rate:.1f}%입니다.')\n",
    "\n",
    "########################## 컬럼 추가 : 각 양계장 별 부화율을 나타냄 \n",
    "hat['hatch_rate'] = (hat['chick'] / hat['eggs']) * 100 \n",
    "hat['hatch_rate'] = hat['hatch_rate'].round(1)            # 소수점 1자리까지만 \n",
    "#hat['hatch_rate'] = hat['hatch_rate'].astype(int)        # 소수점 없이 \n",
    "\n",
    "########################## 최대,최소 마리가 부화한 양계장과 부화한 마리수 \n",
    "max_chick_hats = hat[hat['chick'] == 30]['hatchery'].values \n",
    "max_chick = hat['chick'].max()      # 의 부화한 마리수 \n",
    "\n",
    "# min_hat = hat['hatchery'].min()     # 가장 적게 부화한 양계장 E인데 A로 나옴 \n",
    "min_chick_hat = hat[hat['chick'] == hat['chick'].min()]['hatchery'].values\n",
    "min_chick = hat['chick'].min()      # 의 부화한 마리수\n",
    "\n",
    "print(f'가장 많이 부화한 양계장은 {max_chick_hats}이고, {max_chick}마리가 부화했습니다.')\n",
    "print(f'가장 적게 부화한 양계장은 {min_chick_hat}이고, {min_chick}마리가 부화했습니다.')\n",
    "print(f'두 양계장의 차이는 {max_chick - min_chick}마리 입니다.')"
   ]
  },
  {
   "cell_type": "markdown",
   "id": "e9cb9648-9168-4123-aff6-c8711ef9e333",
   "metadata": {},
   "source": [
    "# 결과 \n",
    "```\n",
    "7 개의 양계장에서 각 30.0개씩, 총 210 개의 알들이 있었습니다.\n",
    "현재까지 총194마리 병아리가 부화하였고, 아직 부화하지 않은 16의 알이 있어, 부화율은 92.4%입니다.\n",
    "가장 많이 부화한 양계장은 ['A' 'B']이고, 30마리가 부화했습니다.\n",
    "가장 적게 부화한 양계장은 ['E']이고, 24마리가 부화했습니다.\n",
    "두 양계장의 차이는 6마리 입니다.\n",
    "```"
   ]
  },
  {
   "cell_type": "markdown",
   "id": "22383769-80ae-461d-80eb-2bf724022daa",
   "metadata": {},
   "source": [
    "---"
   ]
  },
  {
   "cell_type": "markdown",
   "id": "2cdac3a9-2bb6-4c73-bc86-acc30971fce2",
   "metadata": {},
   "source": [
    "# 2. 부화한 병아리들의 몸무게는 얼마일까요? "
   ]
  },
  {
   "cell_type": "code",
   "execution_count": 9,
   "id": "89c8cc86-ad19-469b-a206-6ee75f2f73a5",
   "metadata": {},
   "outputs": [
    {
     "name": "stdout",
     "output_type": "stream",
     "text": [
      "<class 'pandas.core.frame.DataFrame'>\n",
      "RangeIndex: 30 entries, 0 to 29\n",
      "Data columns (total 2 columns):\n",
      " #   Column    Non-Null Count  Dtype \n",
      "---  ------    --------------  ----- \n",
      " 0   chick_nm  30 non-null     object\n",
      " 1   weight    30 non-null     int64 \n",
      "dtypes: int64(1), object(1)\n",
      "memory usage: 608.0+ bytes\n"
     ]
    }
   ],
   "source": [
    "########################## 데이터 불러오기 \n",
    "b_chicks = pd.read_csv('./data/ch4-2.csv')\n",
    "########################## B부화장에서 부화한 30마리 병아리의 번호와 몸무게 \n",
    "b_chicks.info()"
   ]
  },
  {
   "cell_type": "code",
   "execution_count": 10,
   "id": "3292d1c2-f97b-431f-8fb1-098341bd0d34",
   "metadata": {},
   "outputs": [
    {
     "data": {
      "text/html": [
       "<div>\n",
       "<style scoped>\n",
       "    .dataframe tbody tr th:only-of-type {\n",
       "        vertical-align: middle;\n",
       "    }\n",
       "\n",
       "    .dataframe tbody tr th {\n",
       "        vertical-align: top;\n",
       "    }\n",
       "\n",
       "    .dataframe thead th {\n",
       "        text-align: right;\n",
       "    }\n",
       "</style>\n",
       "<table border=\"1\" class=\"dataframe\">\n",
       "  <thead>\n",
       "    <tr style=\"text-align: right;\">\n",
       "      <th></th>\n",
       "      <th>weight</th>\n",
       "    </tr>\n",
       "  </thead>\n",
       "  <tbody>\n",
       "    <tr>\n",
       "      <th>count</th>\n",
       "      <td>30.000000</td>\n",
       "    </tr>\n",
       "    <tr>\n",
       "      <th>mean</th>\n",
       "      <td>38.400000</td>\n",
       "    </tr>\n",
       "    <tr>\n",
       "      <th>std</th>\n",
       "      <td>3.286335</td>\n",
       "    </tr>\n",
       "    <tr>\n",
       "      <th>min</th>\n",
       "      <td>31.000000</td>\n",
       "    </tr>\n",
       "    <tr>\n",
       "      <th>25%</th>\n",
       "      <td>36.250000</td>\n",
       "    </tr>\n",
       "    <tr>\n",
       "      <th>50%</th>\n",
       "      <td>39.000000</td>\n",
       "    </tr>\n",
       "    <tr>\n",
       "      <th>75%</th>\n",
       "      <td>40.750000</td>\n",
       "    </tr>\n",
       "    <tr>\n",
       "      <th>max</th>\n",
       "      <td>45.000000</td>\n",
       "    </tr>\n",
       "  </tbody>\n",
       "</table>\n",
       "</div>"
      ],
      "text/plain": [
       "          weight\n",
       "count  30.000000\n",
       "mean   38.400000\n",
       "std     3.286335\n",
       "min    31.000000\n",
       "25%    36.250000\n",
       "50%    39.000000\n",
       "75%    40.750000\n",
       "max    45.000000"
      ]
     },
     "execution_count": 10,
     "metadata": {},
     "output_type": "execute_result"
    }
   ],
   "source": [
    "b_chicks.describe()    # B부화장에서 부화한 30마리의 몸무게 (통계수치)"
   ]
  },
  {
   "cell_type": "code",
   "execution_count": 11,
   "id": "22086d46-5ec0-4e74-855c-5e1c1f2893a1",
   "metadata": {},
   "outputs": [
    {
     "data": {
      "image/png": "[encoded data removed]",
      "text/plain": [
       "<Figure size 1500x500 with 3 Axes>"
      ]
     },
     "metadata": {},
     "output_type": "display_data"
    }
   ],
   "source": [
    "########################## B 부화장 병아리의 무게 분포도 확인 (표준편차 std : 3.286335)\n",
    "\n",
    "# 평균mean값이 38.4 인데, 서로 너무 많이 차이가 나면 병아리 사육하는데 어려울 수 있으니 확인해봅니다. \n",
    "\n",
    "plt.figure(figsize=(15,5))\n",
    "plt.rcParams['font.size'] = 10\n",
    "\n",
    "########################## 히스토그램으로 분포도 확인 \n",
    "\n",
    "plt.subplot(1,3,1)\n",
    "plt.hist(b_chicks.weight, bins=8)\n",
    "plt.xlabel('병아리 무게(g)')\n",
    "plt.ylabel('병아리 수')\n",
    "plt.title('1. B 부화장 병아리 무게 분포(Histogram)')\n",
    "\n",
    "########################## 상자그림으로 분포도 확인 \n",
    "\n",
    "plt.subplot(1,3,2)\n",
    "plt.boxplot(b_chicks.weight, vert = False)     # vert 박스플롯 모양 가로 (없으면 세로)\n",
    "plt.title('2. B 부화장 병아리 무게 분포(Box Plot)')\n",
    "plt.ylabel('병아리 무게(g)')\n",
    "\n",
    "########################## 커널밀도그림으로 분포도 확인\n",
    "\n",
    "plt.subplot(1,3,3)\n",
    "sns.kdeplot(b_chicks.weight.values)\n",
    "plt.title('3. B 부화장 병아리 무게 (Kernel Density Plot)')\n",
    "\n",
    "plt.show()"
   ]
  },
  {
   "cell_type": "code",
   "execution_count": 12,
   "id": "68e41e52-88f4-47ca-9da7-87d4794e14b3",
   "metadata": {},
   "outputs": [
    {
     "name": "stdout",
     "output_type": "stream",
     "text": [
      "병아리 몸무게 최대값 45g ~ 최소값 31g 입니다.\n",
      "병아리 몸무게 평균값 38.4g이고, 중앙값은 39.0g입니다.\n",
      "잠재적 이상치를 식별할수 있는 기준값으로는, 47.5g 이상값이거나 29.5g 미만값입니다.\n",
      "현재까지는 이상치로 보여지는 값들은 없으며, 정규분포에 가까운 형태로 보여집니다.\n"
     ]
    }
   ],
   "source": [
    "########################## 통계치 변수화  \n",
    "weight = b_chicks['weight'].describe()\n",
    "\n",
    "weight_max = weight['max']\n",
    "weight_min = weight['min']\n",
    "weight_mean = weight['mean']      \n",
    "weight_25 = weight['25%']         # Q1 \n",
    "weight_median = weight['50%']\n",
    "weight_75 = weight['75%']         # Q3 \n",
    "weight_std = weight['std']\n",
    "\n",
    "print(f'병아리 몸무게 최대값 {int(weight_max)}g ~ 최소값 {int(weight_min)}g 입니다.')\n",
    "print(f'병아리 몸무게 평균값 {weight_mean}g이고, 중앙값은 {weight_median}g입니다.')\n",
    "\n",
    "########################## IQR 값 구하기 \n",
    "\n",
    "Q1 = weight_25  # weight['25%']    # b_chicks['weight'].quantile(0.25)\n",
    "Q3 = weight_75  # weight['75%']    # b_chicks['weight'].quantile(0.75)\n",
    "IQR = Q3 - Q1\n",
    "\n",
    "########################## IQR값으로 max값 구하기 (잠재적인 이상치를 식별) \n",
    "# Q3 + ( IQR * 1.5 ) \n",
    "\n",
    "IQR_max = Q3 + (IQR * 1.5)\n",
    "IQR_min = Q1 - (IQR * 1.5)\n",
    "\n",
    "print(f'잠재적 이상치를 식별할수 있는 기준값으로는, {IQR_max}g 이상값이거나 {IQR_min}g 미만값입니다.')\n",
    "print(f'현재까지는 이상치로 보여지는 값들은 없으며, 정규분포에 가까운 형태로 보여집니다.')"
   ]
  },
  {
   "cell_type": "markdown",
   "id": "11d1d676-da21-4859-a009-d413fd324339",
   "metadata": {},
   "source": [
    "# 결과 \n",
    "```\n",
    "병아리 몸무게 최대값 45g ~ 최소값 31g 입니다.\n",
    "병아리 몸무게 평균값 38.4g이고, 중앙값은 39.0g입니다.\n",
    "잠재적 이상치를 식별할수 있는 기준값으로는, 47.5g 이상값이거나 29.5g 미만값입니다.\n",
    "현재까지는 이상치로 보여지는 값들은 없으며, 정규분포에 가까운 형태로 보여집니다.\n",
    "```"
   ]
  },
  {
   "cell_type": "markdown",
   "id": "b27979e9-fe4e-47ab-8aa8-167ec91b68d1",
   "metadata": {},
   "source": [
    "# 3. 사료 제조사별 성능 차이가 있을까요? "
   ]
  },
  {
   "cell_type": "code",
   "execution_count": 13,
   "id": "1976d084-1de5-41fd-8f1b-0920ddc5e702",
   "metadata": {},
   "outputs": [
    {
     "data": {
      "text/html": [
       "<div>\n",
       "<style scoped>\n",
       "    .dataframe tbody tr th:only-of-type {\n",
       "        vertical-align: middle;\n",
       "    }\n",
       "\n",
       "    .dataframe tbody tr th {\n",
       "        vertical-align: top;\n",
       "    }\n",
       "\n",
       "    .dataframe thead th {\n",
       "        text-align: right;\n",
       "    }\n",
       "</style>\n",
       "<table border=\"1\" class=\"dataframe\">\n",
       "  <thead>\n",
       "    <tr style=\"text-align: right;\">\n",
       "      <th></th>\n",
       "      <th>hatchery</th>\n",
       "      <th>chick_nm</th>\n",
       "      <th>weight</th>\n",
       "    </tr>\n",
       "  </thead>\n",
       "  <tbody>\n",
       "    <tr>\n",
       "      <th>0</th>\n",
       "      <td>A</td>\n",
       "      <td>a01</td>\n",
       "      <td>112</td>\n",
       "    </tr>\n",
       "    <tr>\n",
       "      <th>1</th>\n",
       "      <td>A</td>\n",
       "      <td>a05</td>\n",
       "      <td>116</td>\n",
       "    </tr>\n",
       "    <tr>\n",
       "      <th>2</th>\n",
       "      <td>A</td>\n",
       "      <td>a09</td>\n",
       "      <td>106</td>\n",
       "    </tr>\n",
       "    <tr>\n",
       "      <th>3</th>\n",
       "      <td>A</td>\n",
       "      <td>a12</td>\n",
       "      <td>104</td>\n",
       "    </tr>\n",
       "    <tr>\n",
       "      <th>4</th>\n",
       "      <td>A</td>\n",
       "      <td>a15</td>\n",
       "      <td>116</td>\n",
       "    </tr>\n",
       "    <tr>\n",
       "      <th>5</th>\n",
       "      <td>A</td>\n",
       "      <td>a17</td>\n",
       "      <td>118</td>\n",
       "    </tr>\n",
       "    <tr>\n",
       "      <th>6</th>\n",
       "      <td>A</td>\n",
       "      <td>a26</td>\n",
       "      <td>110</td>\n",
       "    </tr>\n",
       "    <tr>\n",
       "      <th>7</th>\n",
       "      <td>A</td>\n",
       "      <td>a28</td>\n",
       "      <td>112</td>\n",
       "    </tr>\n",
       "    <tr>\n",
       "      <th>8</th>\n",
       "      <td>A</td>\n",
       "      <td>a29</td>\n",
       "      <td>106</td>\n",
       "    </tr>\n",
       "    <tr>\n",
       "      <th>9</th>\n",
       "      <td>A</td>\n",
       "      <td>a30</td>\n",
       "      <td>108</td>\n",
       "    </tr>\n",
       "    <tr>\n",
       "      <th>10</th>\n",
       "      <td>B</td>\n",
       "      <td>b01</td>\n",
       "      <td>100</td>\n",
       "    </tr>\n",
       "    <tr>\n",
       "      <th>11</th>\n",
       "      <td>B</td>\n",
       "      <td>b02</td>\n",
       "      <td>110</td>\n",
       "    </tr>\n",
       "    <tr>\n",
       "      <th>12</th>\n",
       "      <td>B</td>\n",
       "      <td>b07</td>\n",
       "      <td>98</td>\n",
       "    </tr>\n",
       "    <tr>\n",
       "      <th>13</th>\n",
       "      <td>B</td>\n",
       "      <td>b11</td>\n",
       "      <td>100</td>\n",
       "    </tr>\n",
       "    <tr>\n",
       "      <th>14</th>\n",
       "      <td>B</td>\n",
       "      <td>b13</td>\n",
       "      <td>104</td>\n",
       "    </tr>\n",
       "    <tr>\n",
       "      <th>15</th>\n",
       "      <td>B</td>\n",
       "      <td>b17</td>\n",
       "      <td>112</td>\n",
       "    </tr>\n",
       "    <tr>\n",
       "      <th>16</th>\n",
       "      <td>B</td>\n",
       "      <td>b22</td>\n",
       "      <td>106</td>\n",
       "    </tr>\n",
       "    <tr>\n",
       "      <th>17</th>\n",
       "      <td>B</td>\n",
       "      <td>b27</td>\n",
       "      <td>106</td>\n",
       "    </tr>\n",
       "    <tr>\n",
       "      <th>18</th>\n",
       "      <td>B</td>\n",
       "      <td>b28</td>\n",
       "      <td>96</td>\n",
       "    </tr>\n",
       "    <tr>\n",
       "      <th>19</th>\n",
       "      <td>B</td>\n",
       "      <td>b30</td>\n",
       "      <td>110</td>\n",
       "    </tr>\n",
       "  </tbody>\n",
       "</table>\n",
       "</div>"
      ],
      "text/plain": [
       "   hatchery chick_nm  weight\n",
       "0         A      a01     112\n",
       "1         A      a05     116\n",
       "2         A      a09     106\n",
       "3         A      a12     104\n",
       "4         A      a15     116\n",
       "5         A      a17     118\n",
       "6         A      a26     110\n",
       "7         A      a28     112\n",
       "8         A      a29     106\n",
       "9         A      a30     108\n",
       "10        B      b01     100\n",
       "11        B      b02     110\n",
       "12        B      b07      98\n",
       "13        B      b11     100\n",
       "14        B      b13     104\n",
       "15        B      b17     112\n",
       "16        B      b22     106\n",
       "17        B      b27     106\n",
       "18        B      b28      96\n",
       "19        B      b30     110"
      ]
     },
     "execution_count": 13,
     "metadata": {},
     "output_type": "execute_result"
    }
   ],
   "source": [
    "########################## 데이터 불러오기 \n",
    "test = pd.read_csv('./data/ch4-3.csv')\n",
    "########################## 부화된지 5일 지난, 각 부화장에서의 병아리들의 몸무게 데이터 비교 \n",
    "test"
   ]
  },
  {
   "cell_type": "code",
   "execution_count": 14,
   "id": "326230f6-8c0b-4d8e-bcbe-f76ed8783a73",
   "metadata": {},
   "outputs": [
    {
     "data": {
      "image/png": "[encoded data removed]",
      "text/plain": [
       "<Figure size 500x500 with 1 Axes>"
      ]
     },
     "metadata": {},
     "output_type": "display_data"
    }
   ],
   "source": [
    "########################## 두 집단 분포 비교를 위해 boxplot 시각화 \n",
    "\n",
    "plt.figure(figsize=(5,5))\n",
    "\n",
    "########## plt.boxplot(data = test , x ='hatchery',y='weight')    이 방식의 boxplot은 sns이다. \n",
    "\n",
    "sns.boxplot(data = test ,  x='hatchery',y='weight')\n",
    "\n",
    "plt.title('A,B 두 부화장의 병아리 몸무게 분포 비교')\n",
    "plt.show()"
   ]
  },
  {
   "cell_type": "markdown",
   "id": "e87bb743-20ca-4438-b8c9-1f7adb09d46f",
   "metadata": {},
   "source": [
    "A 부화장 병아리들 몸무게가 좀 더 높게 분포하고 있으므로, 두 부화장의 몸무게 평균이 다르다는 것이 확인되었습니다. \n",
    "\n",
    "### 다른 방식인, 가설검증을 통해 두 부화장 병아리들의 몸무게 평균이 같은지 다른지 알아보겠습니다. \n",
    "\n",
    "<br>\n",
    "\n",
    "**순서1** 정규분포를 따르는지 p-value값 확인\n",
    "- 귀무가설 H0 : 두 부화장의 병아리들의 몸무게 평균은 유사하다.\n",
    "- 대립가설 H1 : 두 부화장의 병아리들의 몸무게 평균은 다르다.\n",
    "\n",
    "**순서2** 두 부화장의 병아리 몸무게 평균이 같은지 다른지 검정 "
   ]
  },
  {
   "cell_type": "code",
   "execution_count": 17,
   "id": "384ca3ac-3642-4670-b113-091aafd5d04e",
   "metadata": {},
   "outputs": [],
   "source": [
    "########################## 가설검증\n",
    "import scipy as sp\n",
    "########################## 부화장 A와 B의 각각 몸무게 데이터셋 \n",
    "test_a = test.loc[test.hatchery == 'A', 'weight']\n",
    "test_b = test.loc[test.hatchery == 'B', 'weight']"
   ]
  },
  {
   "cell_type": "code",
   "execution_count": 18,
   "id": "19cb4803-7976-4e38-9951-2470b2d1f170",
   "metadata": {},
   "outputs": [
    {
     "data": {
      "text/plain": [
       "ShapiroResult(statistic=0.9400018453598022, pvalue=0.5530334711074829)"
      ]
     },
     "execution_count": 18,
     "metadata": {},
     "output_type": "execute_result"
    }
   ],
   "source": [
    "########################## 샤피로-윌크 검정 (정규분포 따르는지 확인) \n",
    "sp.stats.shapiro(test_a)"
   ]
  },
  {
   "cell_type": "code",
   "execution_count": 19,
   "id": "b04ed781-22a7-46f1-a2b4-62e95559aded",
   "metadata": {},
   "outputs": [
    {
     "data": {
      "text/plain": [
       "ShapiroResult(statistic=0.9390683770179749, pvalue=0.5426943302154541)"
      ]
     },
     "execution_count": 19,
     "metadata": {},
     "output_type": "execute_result"
    }
   ],
   "source": [
    "########################## 샤피로-윌크 검정 (정규분포 따르는지 확인) \n",
    "sp.stats.shapiro(test_b)"
   ]
  },
  {
   "cell_type": "markdown",
   "id": "03f210b4-b819-4cd8-a966-e74f6272a4d8",
   "metadata": {},
   "source": [
    "귀무가설 : 두 부화장의 병아리들의 몸무게 평균은 유사하다 <br>\n",
    "p-value값 : 0.5530<br>\n",
    "대립가설 : 두 부화장의 병아리들의 몸무게 평균은 다르다 <br>\n",
    "p-value값 : 0.5427<br><br>\n",
    "둘 다 신뢰수준을 95% 로 설정할 때의 유의수준인 0.05보다 크기 때문에,**귀무가설을 채택**합니다. <br>\n",
    "test_a와 test_b 데이터 셋 모두 **정규분포** 합니다. "
   ]
  },
  {
   "cell_type": "markdown",
   "id": "095ad70a-b014-4dcb-9eec-3a25cc7250f9",
   "metadata": {},
   "source": [
    "---\n",
    "\n",
    "**여기서 잠깐!**\n",
    "\n",
    "- 신뢰수준(1-a) : 통계에서 어떤 값이 알맞은 추정값이라고 믿을 수 있는 정도를 뜻한다. 주로 95%를 사용하며 신뢰도라고도 부른다.\n",
    "- 유의수준(a) : 통계적인 가설검정에서 사용되는 기준값\n",
    "- 유의확률(p-value) : 귀무가설이 맞다고 가정할 때 얻은 결과보다, 극단적인 결과가 실제로 관측될 확률을 말한다.<br>\n",
    "p값이 유의수준보다 작으면 귀무가설을 기각하고 대립가설을 채택하며, 반대일 경우에는 귀무가설을 채택합니다.\n",
    "---"
   ]
  },
  {
   "cell_type": "code",
   "execution_count": 20,
   "id": "74e978c6-36a2-487b-8e64-4e3c524c9072",
   "metadata": {},
   "outputs": [
    {
     "data": {
      "text/plain": [
       "TtestResult(statistic=2.842528280230058, pvalue=0.010803990633924202, df=18.0)"
      ]
     },
     "execution_count": 20,
     "metadata": {},
     "output_type": "execute_result"
    }
   ],
   "source": [
    "########################## 부화장 A,B의 각 평균 검정 \n",
    "sp.stats.ttest_ind(test_a, test_b)"
   ]
  },
  {
   "cell_type": "markdown",
   "id": "0632b59d-a552-4384-8eaa-8cba88e391d7",
   "metadata": {},
   "source": [
    "# 결과 \n",
    "#### 1. 정규분포 여부 확인\n",
    "```\n",
    "귀무가설 : 두 부화장의 병아리들의 몸무게 평균은 유사하다 <br>\n",
    "p-value값 : 0.5530<br>\n",
    "대립가설 : 두 부화장의 병아리들의 몸무게 평균은 다르다 <br>\n",
    "p-value값 : 0.5427<br><br>\n",
    "둘 다 신뢰수준을 95% 로 설정할 때의 유의수준인 0.05보다 크기 때문에,**귀무가설을 채택**합니다. <br>\n",
    "test_a와 test_b 데이터 셋 모두 **정규분포** 합니다. \n",
    "```\n",
    "#### 2. 평균이 A,B 같은지 다른지 검정하기\n",
    "```\n",
    "귀무가설 : 두 부화장의 병아리들의 몸무게 평균은 유사하다. <br>\n",
    "p-value값 : 0.0108 \n",
    "\n",
    "p-value값이 0.05보다 작기 때문에, 95% 신뢰수준에서 **대립가설을 채택**합니다. <br>\n",
    "대립가설 : **두 부화장의 병아리들의 몸무게 평균은 다르다**\n",
    "```\n",
    "[참고]<br>\n",
    "만약 신뢰수준을 99%라고 설정했다면, p-value가 0.01보다 크기 때문에 귀무가설을 채택합니다."
   ]
  },
  {
   "cell_type": "markdown",
   "id": "f49dee98-e396-48b2-b156-3a82ab377cdc",
   "metadata": {},
   "source": [
    "# 4. 병아리 성장에 영향을 미치는 요소는 무엇일까요? "
   ]
  },
  {
   "cell_type": "code",
   "execution_count": 24,
   "id": "f89e1951-0607-4166-b765-9ba1b7eb9072",
   "metadata": {},
   "outputs": [
    {
     "data": {
      "text/html": [
       "<div>\n",
       "<style scoped>\n",
       "    .dataframe tbody tr th:only-of-type {\n",
       "        vertical-align: middle;\n",
       "    }\n",
       "\n",
       "    .dataframe tbody tr th {\n",
       "        vertical-align: top;\n",
       "    }\n",
       "\n",
       "    .dataframe thead th {\n",
       "        text-align: right;\n",
       "    }\n",
       "</style>\n",
       "<table border=\"1\" class=\"dataframe\">\n",
       "  <thead>\n",
       "    <tr style=\"text-align: right;\">\n",
       "      <th></th>\n",
       "      <th>chick_nm</th>\n",
       "      <th>weight</th>\n",
       "      <th>egg_weight</th>\n",
       "      <th>movement</th>\n",
       "      <th>food</th>\n",
       "    </tr>\n",
       "  </thead>\n",
       "  <tbody>\n",
       "    <tr>\n",
       "      <th>0</th>\n",
       "      <td>a01</td>\n",
       "      <td>140</td>\n",
       "      <td>65</td>\n",
       "      <td>146</td>\n",
       "      <td>14</td>\n",
       "    </tr>\n",
       "    <tr>\n",
       "      <th>1</th>\n",
       "      <td>a02</td>\n",
       "      <td>128</td>\n",
       "      <td>62</td>\n",
       "      <td>153</td>\n",
       "      <td>12</td>\n",
       "    </tr>\n",
       "    <tr>\n",
       "      <th>2</th>\n",
       "      <td>a03</td>\n",
       "      <td>140</td>\n",
       "      <td>65</td>\n",
       "      <td>118</td>\n",
       "      <td>13</td>\n",
       "    </tr>\n",
       "    <tr>\n",
       "      <th>3</th>\n",
       "      <td>a04</td>\n",
       "      <td>135</td>\n",
       "      <td>65</td>\n",
       "      <td>157</td>\n",
       "      <td>13</td>\n",
       "    </tr>\n",
       "    <tr>\n",
       "      <th>4</th>\n",
       "      <td>a05</td>\n",
       "      <td>145</td>\n",
       "      <td>69</td>\n",
       "      <td>157</td>\n",
       "      <td>13</td>\n",
       "    </tr>\n",
       "  </tbody>\n",
       "</table>\n",
       "</div>"
      ],
      "text/plain": [
       "  chick_nm  weight  egg_weight  movement  food\n",
       "0      a01     140          65       146    14\n",
       "1      a02     128          62       153    12\n",
       "2      a03     140          65       118    13\n",
       "3      a04     135          65       157    13\n",
       "4      a05     145          69       157    13"
      ]
     },
     "execution_count": 24,
     "metadata": {},
     "output_type": "execute_result"
    }
   ],
   "source": [
    "########################## 데이터 불러오기 \n",
    "w = pd.read_csv('./data/ch5-1.csv')\n",
    "########################## 부화한지 1주일된 병아리의 데이터\n",
    "w.head()"
   ]
  },
  {
   "cell_type": "markdown",
   "id": "60636ec8-f0b5-4b41-988a-1005ca794970",
   "metadata": {},
   "source": [
    "- weight : 병아리 몸무게\n",
    "- egg_weight : 종란 몸무게\n",
    "- movement : 하루 평균 이동거리\n",
    "- food : 하루 평균 사료 섭취량 "
   ]
  },
  {
   "cell_type": "code",
   "execution_count": 25,
   "id": "eeb4a726-075d-417a-8058-1237e0f00bb6",
   "metadata": {},
   "outputs": [
    {
     "name": "stdout",
     "output_type": "stream",
     "text": [
      "<class 'pandas.core.frame.DataFrame'>\n",
      "RangeIndex: 30 entries, 0 to 29\n",
      "Data columns (total 5 columns):\n",
      " #   Column      Non-Null Count  Dtype \n",
      "---  ------      --------------  ----- \n",
      " 0   chick_nm    30 non-null     object\n",
      " 1   weight      30 non-null     int64 \n",
      " 2   egg_weight  30 non-null     int64 \n",
      " 3   movement    30 non-null     int64 \n",
      " 4   food        30 non-null     int64 \n",
      "dtypes: int64(4), object(1)\n",
      "memory usage: 1.3+ KB\n"
     ]
    }
   ],
   "source": [
    "w.info()"
   ]
  },
  {
   "cell_type": "code",
   "execution_count": 33,
   "id": "eb90def4-1dc4-401e-9f96-f592497b661a",
   "metadata": {},
   "outputs": [
    {
     "data": {
      "text/html": [
       "<div>\n",
       "<style scoped>\n",
       "    .dataframe tbody tr th:only-of-type {\n",
       "        vertical-align: middle;\n",
       "    }\n",
       "\n",
       "    .dataframe tbody tr th {\n",
       "        vertical-align: top;\n",
       "    }\n",
       "\n",
       "    .dataframe thead th {\n",
       "        text-align: right;\n",
       "    }\n",
       "</style>\n",
       "<table border=\"1\" class=\"dataframe\">\n",
       "  <thead>\n",
       "    <tr style=\"text-align: right;\">\n",
       "      <th></th>\n",
       "      <th>weight</th>\n",
       "      <th>egg_weight</th>\n",
       "      <th>movement</th>\n",
       "      <th>food</th>\n",
       "    </tr>\n",
       "  </thead>\n",
       "  <tbody>\n",
       "    <tr>\n",
       "      <th>0</th>\n",
       "      <td>140</td>\n",
       "      <td>65</td>\n",
       "      <td>146</td>\n",
       "      <td>14</td>\n",
       "    </tr>\n",
       "    <tr>\n",
       "      <th>1</th>\n",
       "      <td>128</td>\n",
       "      <td>62</td>\n",
       "      <td>153</td>\n",
       "      <td>12</td>\n",
       "    </tr>\n",
       "    <tr>\n",
       "      <th>2</th>\n",
       "      <td>140</td>\n",
       "      <td>65</td>\n",
       "      <td>118</td>\n",
       "      <td>13</td>\n",
       "    </tr>\n",
       "    <tr>\n",
       "      <th>3</th>\n",
       "      <td>135</td>\n",
       "      <td>65</td>\n",
       "      <td>157</td>\n",
       "      <td>13</td>\n",
       "    </tr>\n",
       "    <tr>\n",
       "      <th>4</th>\n",
       "      <td>145</td>\n",
       "      <td>69</td>\n",
       "      <td>157</td>\n",
       "      <td>13</td>\n",
       "    </tr>\n",
       "  </tbody>\n",
       "</table>\n",
       "</div>"
      ],
      "text/plain": [
       "   weight  egg_weight  movement  food\n",
       "0     140          65       146    14\n",
       "1     128          62       153    12\n",
       "2     140          65       118    13\n",
       "3     135          65       157    13\n",
       "4     145          69       157    13"
      ]
     },
     "execution_count": 33,
     "metadata": {},
     "output_type": "execute_result"
    }
   ],
   "source": [
    "########################## 상관분석 위한 별도 데이터셋 방법 1 \n",
    "w_n = w.iloc[:,1:5]        # 행 rows 선택 , 열 columns 선택 \n",
    "########################## object열인 chick_nm 열 제외하고 모든 행 \n",
    "w_n.head()"
   ]
  },
  {
   "cell_type": "code",
   "execution_count": 42,
   "id": "115f4b02-a963-4b56-bc1d-d4b1232afdb5",
   "metadata": {},
   "outputs": [
    {
     "data": {
      "text/html": [
       "<div>\n",
       "<style scoped>\n",
       "    .dataframe tbody tr th:only-of-type {\n",
       "        vertical-align: middle;\n",
       "    }\n",
       "\n",
       "    .dataframe tbody tr th {\n",
       "        vertical-align: top;\n",
       "    }\n",
       "\n",
       "    .dataframe thead th {\n",
       "        text-align: right;\n",
       "    }\n",
       "</style>\n",
       "<table border=\"1\" class=\"dataframe\">\n",
       "  <thead>\n",
       "    <tr style=\"text-align: right;\">\n",
       "      <th></th>\n",
       "      <th>weight</th>\n",
       "      <th>egg_weight</th>\n",
       "      <th>movement</th>\n",
       "      <th>food</th>\n",
       "    </tr>\n",
       "  </thead>\n",
       "  <tbody>\n",
       "    <tr>\n",
       "      <th>weight</th>\n",
       "      <td>1.000000</td>\n",
       "      <td>0.957169</td>\n",
       "      <td>0.380719</td>\n",
       "      <td>0.877574</td>\n",
       "    </tr>\n",
       "    <tr>\n",
       "      <th>egg_weight</th>\n",
       "      <td>0.957169</td>\n",
       "      <td>1.000000</td>\n",
       "      <td>0.428246</td>\n",
       "      <td>0.808147</td>\n",
       "    </tr>\n",
       "    <tr>\n",
       "      <th>movement</th>\n",
       "      <td>0.380719</td>\n",
       "      <td>0.428246</td>\n",
       "      <td>1.000000</td>\n",
       "      <td>0.319011</td>\n",
       "    </tr>\n",
       "    <tr>\n",
       "      <th>food</th>\n",
       "      <td>0.877574</td>\n",
       "      <td>0.808147</td>\n",
       "      <td>0.319011</td>\n",
       "      <td>1.000000</td>\n",
       "    </tr>\n",
       "  </tbody>\n",
       "</table>\n",
       "</div>"
      ],
      "text/plain": [
       "              weight  egg_weight  movement      food\n",
       "weight      1.000000    0.957169  0.380719  0.877574\n",
       "egg_weight  0.957169    1.000000  0.428246  0.808147\n",
       "movement    0.380719    0.428246  1.000000  0.319011\n",
       "food        0.877574    0.808147  0.319011  1.000000"
      ]
     },
     "execution_count": 42,
     "metadata": {},
     "output_type": "execute_result"
    }
   ],
   "source": [
    "########################## 피어슨 상관분석 실시 \n",
    "w_pearson = w_n.corr(method = 'pearson') \n",
    "w_pearson"
   ]
  },
  {
   "cell_type": "code",
   "execution_count": 35,
   "id": "645763c5-a402-4d51-9b29-37b8563f31b1",
   "metadata": {},
   "outputs": [
    {
     "data": {
      "text/html": [
       "<div>\n",
       "<style scoped>\n",
       "    .dataframe tbody tr th:only-of-type {\n",
       "        vertical-align: middle;\n",
       "    }\n",
       "\n",
       "    .dataframe tbody tr th {\n",
       "        vertical-align: top;\n",
       "    }\n",
       "\n",
       "    .dataframe thead th {\n",
       "        text-align: right;\n",
       "    }\n",
       "</style>\n",
       "<table border=\"1\" class=\"dataframe\">\n",
       "  <thead>\n",
       "    <tr style=\"text-align: right;\">\n",
       "      <th></th>\n",
       "      <th>weight</th>\n",
       "      <th>egg_weight</th>\n",
       "      <th>movement</th>\n",
       "      <th>food</th>\n",
       "    </tr>\n",
       "  </thead>\n",
       "  <tbody>\n",
       "    <tr>\n",
       "      <th>weight</th>\n",
       "      <td>1.000000</td>\n",
       "      <td>0.957169</td>\n",
       "      <td>0.380719</td>\n",
       "      <td>0.877574</td>\n",
       "    </tr>\n",
       "    <tr>\n",
       "      <th>egg_weight</th>\n",
       "      <td>0.957169</td>\n",
       "      <td>1.000000</td>\n",
       "      <td>0.428246</td>\n",
       "      <td>0.808147</td>\n",
       "    </tr>\n",
       "    <tr>\n",
       "      <th>movement</th>\n",
       "      <td>0.380719</td>\n",
       "      <td>0.428246</td>\n",
       "      <td>1.000000</td>\n",
       "      <td>0.319011</td>\n",
       "    </tr>\n",
       "    <tr>\n",
       "      <th>food</th>\n",
       "      <td>0.877574</td>\n",
       "      <td>0.808147</td>\n",
       "      <td>0.319011</td>\n",
       "      <td>1.000000</td>\n",
       "    </tr>\n",
       "  </tbody>\n",
       "</table>\n",
       "</div>"
      ],
      "text/plain": [
       "              weight  egg_weight  movement      food\n",
       "weight      1.000000    0.957169  0.380719  0.877574\n",
       "egg_weight  0.957169    1.000000  0.428246  0.808147\n",
       "movement    0.380719    0.428246  1.000000  0.319011\n",
       "food        0.877574    0.808147  0.319011  1.000000"
      ]
     },
     "execution_count": 35,
     "metadata": {},
     "output_type": "execute_result"
    }
   ],
   "source": [
    "########################## 상관분석 위한 별도 데이터셋 방법 2 \n",
    "numeric_columns = w.select_dtypes(include=['int64', 'float64'])  # 피어슨 방식 \n",
    "########################## 숫자열만 추출하여 진행 \n",
    "corr = numeric_columns.corr()\n",
    "corr"
   ]
  },
  {
   "cell_type": "markdown",
   "id": "8bab7938-0ce7-4fbe-94d5-1980f43dc2ec",
   "metadata": {},
   "source": [
    "1.0 에 가까울 수록, 병아리몸무게 weight의 큰 양의 상관계수를 나타내며<br>\n",
    "-0.0 에 가까울 수록, 병아리몸무게 weight의 큰 음의 상관계수를 나타낸다.<br>\n",
    "\n",
    "0.0에 가까울 수록 약한 상관관계를 가지고 있기 때문에 무시한다. \n",
    "\n",
    "[참고] 상관계수를 구하는 방식에는 Pearson, Spearman, Kendall 3가지 방법이 존재한다."
   ]
  },
  {
   "cell_type": "code",
   "execution_count": 36,
   "id": "b8267d2e-e83d-4d0a-be53-863b9c190327",
   "metadata": {},
   "outputs": [
    {
     "data": {
      "text/html": [
       "<div>\n",
       "<style scoped>\n",
       "    .dataframe tbody tr th:only-of-type {\n",
       "        vertical-align: middle;\n",
       "    }\n",
       "\n",
       "    .dataframe tbody tr th {\n",
       "        vertical-align: top;\n",
       "    }\n",
       "\n",
       "    .dataframe thead th {\n",
       "        text-align: right;\n",
       "    }\n",
       "</style>\n",
       "<table border=\"1\" class=\"dataframe\">\n",
       "  <thead>\n",
       "    <tr style=\"text-align: right;\">\n",
       "      <th></th>\n",
       "      <th>weight</th>\n",
       "      <th>egg_weight</th>\n",
       "      <th>movement</th>\n",
       "      <th>food</th>\n",
       "    </tr>\n",
       "  </thead>\n",
       "  <tbody>\n",
       "    <tr>\n",
       "      <th>weight</th>\n",
       "      <td>1.000000</td>\n",
       "      <td>0.962815</td>\n",
       "      <td>0.372809</td>\n",
       "      <td>0.899095</td>\n",
       "    </tr>\n",
       "    <tr>\n",
       "      <th>egg_weight</th>\n",
       "      <td>0.962815</td>\n",
       "      <td>1.000000</td>\n",
       "      <td>0.442330</td>\n",
       "      <td>0.828661</td>\n",
       "    </tr>\n",
       "    <tr>\n",
       "      <th>movement</th>\n",
       "      <td>0.372809</td>\n",
       "      <td>0.442330</td>\n",
       "      <td>1.000000</td>\n",
       "      <td>0.353778</td>\n",
       "    </tr>\n",
       "    <tr>\n",
       "      <th>food</th>\n",
       "      <td>0.899095</td>\n",
       "      <td>0.828661</td>\n",
       "      <td>0.353778</td>\n",
       "      <td>1.000000</td>\n",
       "    </tr>\n",
       "  </tbody>\n",
       "</table>\n",
       "</div>"
      ],
      "text/plain": [
       "              weight  egg_weight  movement      food\n",
       "weight      1.000000    0.962815  0.372809  0.899095\n",
       "egg_weight  0.962815    1.000000  0.442330  0.828661\n",
       "movement    0.372809    0.442330  1.000000  0.353778\n",
       "food        0.899095    0.828661  0.353778  1.000000"
      ]
     },
     "execution_count": 36,
     "metadata": {},
     "output_type": "execute_result"
    }
   ],
   "source": [
    "########################## 스피어만 상관계수 (학습용) \n",
    "w_spearman = w_n.corr(method = 'spearman') \n",
    "w_spearman"
   ]
  },
  {
   "cell_type": "code",
   "execution_count": 40,
   "id": "1c658ca5-a441-4c6e-9c25-17326c685068",
   "metadata": {},
   "outputs": [
    {
     "data": {
      "text/html": [
       "<div>\n",
       "<style scoped>\n",
       "    .dataframe tbody tr th:only-of-type {\n",
       "        vertical-align: middle;\n",
       "    }\n",
       "\n",
       "    .dataframe tbody tr th {\n",
       "        vertical-align: top;\n",
       "    }\n",
       "\n",
       "    .dataframe thead th {\n",
       "        text-align: right;\n",
       "    }\n",
       "</style>\n",
       "<table border=\"1\" class=\"dataframe\">\n",
       "  <thead>\n",
       "    <tr style=\"text-align: right;\">\n",
       "      <th></th>\n",
       "      <th>weight</th>\n",
       "      <th>egg_weight</th>\n",
       "      <th>movement</th>\n",
       "      <th>food</th>\n",
       "    </tr>\n",
       "  </thead>\n",
       "  <tbody>\n",
       "    <tr>\n",
       "      <th>weight</th>\n",
       "      <td>1.000000</td>\n",
       "      <td>0.891004</td>\n",
       "      <td>0.276622</td>\n",
       "      <td>0.796195</td>\n",
       "    </tr>\n",
       "    <tr>\n",
       "      <th>egg_weight</th>\n",
       "      <td>0.891004</td>\n",
       "      <td>1.000000</td>\n",
       "      <td>0.315861</td>\n",
       "      <td>0.712230</td>\n",
       "    </tr>\n",
       "    <tr>\n",
       "      <th>movement</th>\n",
       "      <td>0.276622</td>\n",
       "      <td>0.315861</td>\n",
       "      <td>1.000000</td>\n",
       "      <td>0.266338</td>\n",
       "    </tr>\n",
       "    <tr>\n",
       "      <th>food</th>\n",
       "      <td>0.796195</td>\n",
       "      <td>0.712230</td>\n",
       "      <td>0.266338</td>\n",
       "      <td>1.000000</td>\n",
       "    </tr>\n",
       "  </tbody>\n",
       "</table>\n",
       "</div>"
      ],
      "text/plain": [
       "              weight  egg_weight  movement      food\n",
       "weight      1.000000    0.891004  0.276622  0.796195\n",
       "egg_weight  0.891004    1.000000  0.315861  0.712230\n",
       "movement    0.276622    0.315861  1.000000  0.266338\n",
       "food        0.796195    0.712230  0.266338  1.000000"
      ]
     },
     "execution_count": 40,
     "metadata": {},
     "output_type": "execute_result"
    }
   ],
   "source": [
    "########################## \b켄달 상관계수 (학습용) \n",
    "w_kendall = w_n.corr(method='kendall')\n",
    "w_kendall"
   ]
  },
  {
   "cell_type": "markdown",
   "id": "13bb8439-90db-49d1-af52-5cc9811ddca4",
   "metadata": {},
   "source": [
    "'pearson' 방식: Pearson 상관 계수를 사용하여 열 간의 **선형 상관 관계**를 계산합니다.<br>\n",
    "'spearman' 방식: Spearman 순위 상관 계수를 사용하여 열 간의 **비선형 관계 및 순위 기반 상관 관계**를 계산합니다.<br>\n",
    "'kendall' 방식: Kendall 순위 상관 계수를 사용하여 열 간의 **비선형 관계 및 순위 기반 상관 관계**를 계산합니다.<br>"
   ]
  },
  {
   "cell_type": "code",
   "execution_count": 65,
   "id": "de9107db-ab40-4956-a75c-d59b9ad23483",
   "metadata": {},
   "outputs": [
    {
     "data": {
      "text/plain": [
       "<seaborn.axisgrid.PairGrid at 0x289226d70>"
      ]
     },
     "execution_count": 65,
     "metadata": {},
     "output_type": "execute_result"
    },
    {
     "data": {
      "image/png": "[encoded data removed]",
      "text/plain": [
       "<Figure size 1000x1000 with 20 Axes>"
      ]
     },
     "metadata": {},
     "output_type": "display_data"
    }
   ],
   "source": [
    "########################## 상관관계 시각화 \n",
    "import matplotlib.pyplot as plt\n",
    "import seaborn as sns\n",
    "##########################\n",
    "sns.pairplot(w_n)               # 상관분석하기 전, 수치값만 있는 데이터 "
   ]
  },
  {
   "cell_type": "code",
   "execution_count": 70,
   "id": "860e8e26-b1eb-490d-853b-cc4a6a2cc541",
   "metadata": {},
   "outputs": [
    {
     "data": {
      "image/png": "[encoded data removed]",
      "text/plain": [
       "<Figure size 500x500 with 2 Axes>"
      ]
     },
     "metadata": {},
     "output_type": "display_data"
    }
   ],
   "source": [
    "########################## 상관관계 히트맵 시각화 \n",
    "plt.figure(figsize=(5,5))\n",
    "sns.heatmap(w_pearson, annot = True, cmap='Blues')        # 피어슨 상관계수 진행한 데이터 \n",
    "plt.show()"
   ]
  },
  {
   "cell_type": "markdown",
   "id": "ab35bb4f-d22d-4bc5-bf52-7607f8df8265",
   "metadata": {},
   "source": [
    "# 결과 \n",
    "\n",
    "**강한 양의 상관관계**\n",
    "```\n",
    "weight : egg_weight, food\n",
    "egg_wiehgt : weight, food\n",
    "food : weight , egg_weight\n",
    "```\n",
    "**강한 음의 상관관계**\n",
    "```\n",
    "weight : movement \n",
    "egg_weight : movement\n",
    "movement : weight, egg_weight, food\n",
    "food : movement\n",
    "```"
   ]
  },
  {
   "cell_type": "markdown",
   "id": "e978a2da-fc34-4345-8687-36263c2612fe",
   "metadata": {},
   "source": [
    "# 5. 병아리의 몸무게를 예측할수 있을까요? "
   ]
  },
  {
   "cell_type": "markdown",
   "id": "4968f1cc-8693-44ab-9e3b-c088f3709b2a",
   "metadata": {},
   "source": [
    "회귀분석이란, <br>\n",
    "연속형 변수들에 대해 두 변수(x,y)간의 관계를 수식으로 나타내는 분석 방법입니다. <br>\n",
    "x라는 독립변수와 y라는 종속변수가 존재할 때, 이 두 변수간 관계를 y=ax+b와 같은 형태 수식으로 나타낼 수 있는 방법입니다.\n",
    "\n",
    "가로축이 x, 세로축이 y인 산점도가 있을 때, 가장 적합한 하나의 직선을 표현하는 방식이 회귀분석입니다. <br>\n",
    "직선과 개별 값들 간의 오차를 최소화하는 직선을 찾는것을 목표로 합니다. <br>\n",
    "\n",
    "#### 1. 단순선형 회귀분석 : 종속변수(y)와 독립변수(x)가 각각 하나씩 존재하며 서로 선형적인 관계를 가질 때\n",
    "#### 2. 다중 회귀분석 : 종속변수(y)와 독립변수가 2개이상를 가질 때\n",
    "#### 3. "
   ]
  },
  {
   "cell_type": "code",
   "execution_count": 73,
   "id": "a55bbb27-9096-4469-8c51-3c8dc168f8fc",
   "metadata": {},
   "outputs": [
    {
     "data": {
      "text/html": [
       "<table class=\"simpletable\">\n",
       "<caption>OLS Regression Results</caption>\n",
       "<tr>\n",
       "  <th>Dep. Variable:</th>         <td>weight</td>      <th>  R-squared:         </th> <td>   0.916</td>\n",
       "</tr>\n",
       "<tr>\n",
       "  <th>Model:</th>                   <td>OLS</td>       <th>  Adj. R-squared:    </th> <td>   0.913</td>\n",
       "</tr>\n",
       "<tr>\n",
       "  <th>Method:</th>             <td>Least Squares</td>  <th>  F-statistic:       </th> <td>   306.0</td>\n",
       "</tr>\n",
       "<tr>\n",
       "  <th>Date:</th>             <td>Tue, 31 Oct 2023</td> <th>  Prob (F-statistic):</th> <td>1.32e-16</td>\n",
       "</tr>\n",
       "<tr>\n",
       "  <th>Time:</th>                 <td>19:19:44</td>     <th>  Log-Likelihood:    </th> <td> -63.148</td>\n",
       "</tr>\n",
       "<tr>\n",
       "  <th>No. Observations:</th>      <td>    30</td>      <th>  AIC:               </th> <td>   130.3</td>\n",
       "</tr>\n",
       "<tr>\n",
       "  <th>Df Residuals:</th>          <td>    28</td>      <th>  BIC:               </th> <td>   133.1</td>\n",
       "</tr>\n",
       "<tr>\n",
       "  <th>Df Model:</th>              <td>     1</td>      <th>                     </th>     <td> </td>   \n",
       "</tr>\n",
       "<tr>\n",
       "  <th>Covariance Type:</th>      <td>nonrobust</td>    <th>                     </th>     <td> </td>   \n",
       "</tr>\n",
       "</table>\n",
       "<table class=\"simpletable\">\n",
       "<tr>\n",
       "       <td></td>         <th>coef</th>     <th>std err</th>      <th>t</th>      <th>P>|t|</th>  <th>[0.025</th>    <th>0.975]</th>  \n",
       "</tr>\n",
       "<tr>\n",
       "  <th>Intercept</th>  <td>  -14.5475</td> <td>    8.705</td> <td>   -1.671</td> <td> 0.106</td> <td>  -32.380</td> <td>    3.285</td>\n",
       "</tr>\n",
       "<tr>\n",
       "  <th>egg_weight</th> <td>    2.3371</td> <td>    0.134</td> <td>   17.493</td> <td> 0.000</td> <td>    2.063</td> <td>    2.611</td>\n",
       "</tr>\n",
       "</table>\n",
       "<table class=\"simpletable\">\n",
       "<tr>\n",
       "  <th>Omnibus:</th>       <td>15.078</td> <th>  Durbin-Watson:     </th> <td>   1.998</td>\n",
       "</tr>\n",
       "<tr>\n",
       "  <th>Prob(Omnibus):</th> <td> 0.001</td> <th>  Jarque-Bera (JB):  </th> <td>   2.750</td>\n",
       "</tr>\n",
       "<tr>\n",
       "  <th>Skew:</th>          <td> 0.032</td> <th>  Prob(JB):          </th> <td>   0.253</td>\n",
       "</tr>\n",
       "<tr>\n",
       "  <th>Kurtosis:</th>      <td> 1.518</td> <th>  Cond. No.          </th> <td>1.51e+03</td>\n",
       "</tr>\n",
       "</table><br/><br/>Notes:<br/>[1] Standard Errors assume that the covariance matrix of the errors is correctly specified.<br/>[2] The condition number is large, 1.51e+03. This might indicate that there are<br/>strong multicollinearity or other numerical problems."
      ],
      "text/latex": [
       "\\begin{center}\n",
       "\\begin{tabular}{lclc}\n",
       "\\toprule\n",
       "\\textbf{Dep. Variable:}    &      weight      & \\textbf{  R-squared:         } &     0.916   \\\\\n",
       "\\textbf{Model:}            &       OLS        & \\textbf{  Adj. R-squared:    } &     0.913   \\\\\n",
       "\\textbf{Method:}           &  Least Squares   & \\textbf{  F-statistic:       } &     306.0   \\\\\n",
       "\\textbf{Date:}             & Tue, 31 Oct 2023 & \\textbf{  Prob (F-statistic):} &  1.32e-16   \\\\\n",
       "\\textbf{Time:}             &     19:19:44     & \\textbf{  Log-Likelihood:    } &   -63.148   \\\\\n",
       "\\textbf{No. Observations:} &          30      & \\textbf{  AIC:               } &     130.3   \\\\\n",
       "\\textbf{Df Residuals:}     &          28      & \\textbf{  BIC:               } &     133.1   \\\\\n",
       "\\textbf{Df Model:}         &           1      & \\textbf{                     } &             \\\\\n",
       "\\textbf{Covariance Type:}  &    nonrobust     & \\textbf{                     } &             \\\\\n",
       "\\bottomrule\n",
       "\\end{tabular}\n",
       "\\begin{tabular}{lcccccc}\n",
       "                     & \\textbf{coef} & \\textbf{std err} & \\textbf{t} & \\textbf{P$> |$t$|$} & \\textbf{[0.025} & \\textbf{0.975]}  \\\\\n",
       "\\midrule\n",
       "\\textbf{Intercept}   &     -14.5475  &        8.705     &    -1.671  &         0.106        &      -32.380    &        3.285     \\\\\n",
       "\\textbf{egg\\_weight} &       2.3371  &        0.134     &    17.493  &         0.000        &        2.063    &        2.611     \\\\\n",
       "\\bottomrule\n",
       "\\end{tabular}\n",
       "\\begin{tabular}{lclc}\n",
       "\\textbf{Omnibus:}       & 15.078 & \\textbf{  Durbin-Watson:     } &    1.998  \\\\\n",
       "\\textbf{Prob(Omnibus):} &  0.001 & \\textbf{  Jarque-Bera (JB):  } &    2.750  \\\\\n",
       "\\textbf{Skew:}          &  0.032 & \\textbf{  Prob(JB):          } &    0.253  \\\\\n",
       "\\textbf{Kurtosis:}      &  1.518 & \\textbf{  Cond. No.          } & 1.51e+03  \\\\\n",
       "\\bottomrule\n",
       "\\end{tabular}\n",
       "%\\caption{OLS Regression Results}\n",
       "\\end{center}\n",
       "\n",
       "Notes: \\newline\n",
       " [1] Standard Errors assume that the covariance matrix of the errors is correctly specified. \\newline\n",
       " [2] The condition number is large, 1.51e+03. This might indicate that there are \\newline\n",
       " strong multicollinearity or other numerical problems."
      ],
      "text/plain": [
       "<class 'statsmodels.iolib.summary.Summary'>\n",
       "\"\"\"\n",
       "                            OLS Regression Results                            \n",
       "==============================================================================\n",
       "Dep. Variable:                 weight   R-squared:                       0.916\n",
       "Model:                            OLS   Adj. R-squared:                  0.913\n",
       "Method:                 Least Squares   F-statistic:                     306.0\n",
       "Date:                Tue, 31 Oct 2023   Prob (F-statistic):           1.32e-16\n",
       "Time:                        19:19:44   Log-Likelihood:                -63.148\n",
       "No. Observations:                  30   AIC:                             130.3\n",
       "Df Residuals:                      28   BIC:                             133.1\n",
       "Df Model:                           1                                         \n",
       "Covariance Type:            nonrobust                                         \n",
       "==============================================================================\n",
       "                 coef    std err          t      P>|t|      [0.025      0.975]\n",
       "------------------------------------------------------------------------------\n",
       "Intercept    -14.5475      8.705     -1.671      0.106     -32.380       3.285\n",
       "egg_weight     2.3371      0.134     17.493      0.000       2.063       2.611\n",
       "==============================================================================\n",
       "Omnibus:                       15.078   Durbin-Watson:                   1.998\n",
       "Prob(Omnibus):                  0.001   Jarque-Bera (JB):                2.750\n",
       "Skew:                           0.032   Prob(JB):                        0.253\n",
       "Kurtosis:                       1.518   Cond. No.                     1.51e+03\n",
       "==============================================================================\n",
       "\n",
       "Notes:\n",
       "[1] Standard Errors assume that the covariance matrix of the errors is correctly specified.\n",
       "[2] The condition number is large, 1.51e+03. This might indicate that there are\n",
       "strong multicollinearity or other numerical problems.\n",
       "\"\"\""
      ]
     },
     "execution_count": 73,
     "metadata": {},
     "output_type": "execute_result"
    }
   ],
   "source": [
    "#################################################### 단순선형 회귀분석\n",
    "\n",
    "# 종속변수 y(1개)와 독립변수 x(1개) 의 관계성 수식화 \n",
    "# 제일 강한 양의 상관관계 : weight 과 egg_weight \n",
    "# 여기서 y 를 weight으로, x 를 egg_weight 으로 두고 진행하겠습니다. \n",
    "\n",
    "########################## 회귀분석 수행 위한 모듈 불러오기 --> smf 약어로 지칭 \n",
    "\n",
    "import statsmodels.formula.api as smf \n",
    "\n",
    "########################## x - y 단순 선형 회귀모델 구축 (  egg_weight - weight  )\n",
    "\n",
    "model_lm = smf.ols(formula = 'weight ~ egg_weight', data = w_n )\n",
    "\n",
    "########################## 모델 학습 \n",
    "\n",
    "result_lm = model_lm.fit()\n",
    "\n",
    "########################## 모델 결과 확인 \n",
    "\n",
    "result_lm.summary()"
   ]
  },
  {
   "cell_type": "markdown",
   "id": "9031c8e1-c60c-43f8-98e3-f0b8e58eda9a",
   "metadata": {},
   "source": [
    "#### 회귀분석에서 p값의 의미란, \n",
    "```\n",
    "\b위의 가설검정을 기반으로 회귀모델과 개별 독립변수(x)가 통계적으로 유의한지 판단하는 것이다.\n",
    "\n",
    "귀무가설 : 회귀모델이나 개별 독립변수(x)가 '종속변수(y)의 변화에 영향을 미치지 않는다'\n",
    "대립가설 : 회귀모델이나 개별 독립변수(x)가 '종속변수(y)의 변화에 영향을 미친다'\n",
    "```\n",
    "유의수준은 정하기 나름이나, 일반적으로 0.05를 기준으로 사용하기 때문에 <br>\n",
    "p값(p-value유의확률)이 **0.05보다 크면, 귀무가설**을 채택합니다. <br>\n",
    "p값(p-value유의확률)이 **0.05보다 작으면, 대립가설**을 채택합니다. <br>"
   ]
  },
  {
   "cell_type": "markdown",
   "id": "eaf61ae5-44a2-4f3e-8d8a-8bc128217288",
   "metadata": {},
   "source": [
    "![](https://velog.velcdn.com/images/beckhye/post/b5a81290-abde-4408-a829-3e710eecdccf/image.png)"
   ]
  },
  {
   "cell_type": "code",
   "execution_count": 75,
   "id": "42e0d8e4-2e98-48b7-9d72-a53a849d4125",
   "metadata": {},
   "outputs": [
    {
     "name": "stdout",
     "output_type": "stream",
     "text": [
      "                            OLS Regression Results                            \n",
      "==============================================================================\n",
      "Dep. Variable:                 weight   R-squared:                       0.916\n",
      "Model:                            OLS   Adj. R-squared:                  0.913\n",
      "Method:                 Least Squares   F-statistic:                     306.0\n",
      "Date:                Tue, 31 Oct 2023   Prob (F-statistic):           1.32e-16\n",
      "Time:                        19:52:18   Log-Likelihood:                -63.148\n",
      "No. Observations:                  30   AIC:                             130.3\n",
      "Df Residuals:                      28   BIC:                             133.1\n",
      "Df Model:                           1                                         \n",
      "Covariance Type:            nonrobust                                         \n",
      "==============================================================================\n",
      "                 coef    std err          t      P>|t|      [0.025      0.975]\n",
      "------------------------------------------------------------------------------\n",
      "Intercept    -14.5475      8.705     -1.671      0.106     -32.380       3.285\n",
      "egg_weight     2.3371      0.134     17.493      0.000       2.063       2.611\n",
      "==============================================================================\n",
      "Omnibus:                       15.078   Durbin-Watson:                   1.998\n",
      "Prob(Omnibus):                  0.001   Jarque-Bera (JB):                2.750\n",
      "Skew:                           0.032   Prob(JB):                        0.253\n",
      "Kurtosis:                       1.518   Cond. No.                     1.51e+03\n",
      "==============================================================================\n",
      "\n",
      "Notes:\n",
      "[1] Standard Errors assume that the covariance matrix of the errors is correctly specified.\n",
      "[2] The condition number is large, 1.51e+03. This might indicate that there are\n",
      "strong multicollinearity or other numerical problems.\n"
     ]
    }
   ],
   "source": [
    "print(result_lm.summary())          # 동일내용이나, 보고서 형태로 출력 "
   ]
  },
  {
   "cell_type": "code",
   "execution_count": null,
   "id": "f08e1e37-1393-4576-8de7-aef2775002b7",
   "metadata": {},
   "outputs": [],
   "source": []
  }
 ],
 "metadata": {
  "kernelspec": {
   "display_name": "Python 3 (ipykernel)",
   "language": "python",
   "name": "python3"
  },
  "language_info": {
   "codemirror_mode": {
    "name": "ipython",
    "version": 3
   },
   "file_extension": ".py",
   "mimetype": "text/x-python",
   "name": "python",
   "nbconvert_exporter": "python",
   "pygments_lexer": "ipython3",
   "version": "3.10.11"
  }
 },
 "nbformat": 4,
 "nbformat_minor": 5
}
